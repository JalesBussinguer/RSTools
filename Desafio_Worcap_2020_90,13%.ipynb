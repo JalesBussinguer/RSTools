{
  "nbformat": 4,
  "nbformat_minor": 0,
  "metadata": {
    "colab": {
      "name": "Desafio Worcap 2020 - 90,13%.ipynb",
      "provenance": [],
      "collapsed_sections": [],
      "authorship_tag": "ABX9TyOoXggV1wUA6ZSJoAK6q39D",
      "include_colab_link": true
    },
    "kernelspec": {
      "name": "python3",
      "display_name": "Python 3"
    }
  },
  "cells": [
    {
      "cell_type": "markdown",
      "metadata": {
        "id": "view-in-github",
        "colab_type": "text"
      },
      "source": [
        "<a href=\"https://colab.research.google.com/github/JalesBussinguer/Remote_Sensing_Studies/blob/master/Desafio_Worcap_2020_90%2C13%25.ipynb\" target=\"_parent\"><img src=\"https://colab.research.google.com/assets/colab-badge.svg\" alt=\"Open In Colab\"/></a>"
      ]
    },
    {
      "cell_type": "code",
      "metadata": {
        "id": "dMMeUx7y94l1",
        "colab": {
          "base_uri": "https://localhost:8080/"
        },
        "outputId": "545823ee-6e1c-4137-87d4-25cc4d5a3803"
      },
      "source": [
        "# Importação das bibliotecas básicas\r\n",
        "\r\n",
        "import pandas as pd\r\n",
        "import numpy as np\r\n",
        "import io\r\n",
        "from google.colab import files\r\n",
        "import matplotlib.pyplot as plt\r\n",
        "import seaborn as sns\r\n",
        "\r\n",
        "# Importação das bibliotecas e módulos de machine learning\r\n",
        "\r\n",
        "from sklearn import ensemble, preprocessing, tree\r\n",
        "from sklearn.metrics import auc, confusion_matrix, roc_auc_score, roc_curve, precision_score, recall_score\r\n",
        "from sklearn.model_selection import train_test_split, StratifiedKFold, cross_val_score, GridSearchCV, RandomizedSearchCV, KFold\r\n",
        "from yellowbrick.classifier import ConfusionMatrix, ROCAUC\r\n",
        "from yellowbrick.model_selection import learning_curve"
      ],
      "execution_count": null,
      "outputs": [
        {
          "output_type": "stream",
          "text": [
            "/usr/local/lib/python3.6/dist-packages/sklearn/utils/deprecation.py:144: FutureWarning: The sklearn.metrics.classification module is  deprecated in version 0.22 and will be removed in version 0.24. The corresponding classes / functions should instead be imported from sklearn.metrics. Anything that cannot be imported from sklearn.metrics is now part of the private API.\n",
            "  warnings.warn(message, FutureWarning)\n"
          ],
          "name": "stderr"
        }
      ]
    },
    {
      "cell_type": "code",
      "metadata": {
        "id": "f3felJqR_4vk",
        "colab": {
          "base_uri": "https://localhost:8080/",
          "height": 224
        },
        "outputId": "4cf31cdf-361f-47c2-8e13-238e94ca1910"
      },
      "source": [
        "# Importando os dados de treino\r\n",
        "\r\n",
        "df = \"https://raw.githubusercontent.com/JalesBussinguer/Remote_Sensing_Studies/master/data/worcap_2020/dados_verdade_terrestre.csv\"\r\n",
        "\r\n",
        "dados = pd.read_csv(df)\r\n",
        "\r\n",
        "dados.head()"
      ],
      "execution_count": null,
      "outputs": [
        {
          "output_type": "execute_result",
          "data": {
            "text/html": [
              "<div>\n",
              "<style scoped>\n",
              "    .dataframe tbody tr th:only-of-type {\n",
              "        vertical-align: middle;\n",
              "    }\n",
              "\n",
              "    .dataframe tbody tr th {\n",
              "        vertical-align: top;\n",
              "    }\n",
              "\n",
              "    .dataframe thead th {\n",
              "        text-align: right;\n",
              "    }\n",
              "</style>\n",
              "<table border=\"1\" class=\"dataframe\">\n",
              "  <thead>\n",
              "    <tr style=\"text-align: right;\">\n",
              "      <th></th>\n",
              "      <th>id</th>\n",
              "      <th>b1</th>\n",
              "      <th>b2</th>\n",
              "      <th>b3</th>\n",
              "      <th>b4</th>\n",
              "      <th>b5</th>\n",
              "      <th>b6</th>\n",
              "      <th>b7</th>\n",
              "      <th>b8</th>\n",
              "      <th>b9</th>\n",
              "      <th>pred_minus_obs_H_b1</th>\n",
              "      <th>pred_minus_obs_H_b2</th>\n",
              "      <th>pred_minus_obs_H_b3</th>\n",
              "      <th>pred_minus_obs_H_b4</th>\n",
              "      <th>pred_minus_obs_H_b5</th>\n",
              "      <th>pred_minus_obs_H_b6</th>\n",
              "      <th>pred_minus_obs_H_b7</th>\n",
              "      <th>pred_minus_obs_H_b8</th>\n",
              "      <th>pred_minus_obs_H_b9</th>\n",
              "      <th>pred_minus_obs_S_b1</th>\n",
              "      <th>pred_minus_obs_S_b2</th>\n",
              "      <th>pred_minus_obs_S_b3</th>\n",
              "      <th>pred_minus_obs_S_b4</th>\n",
              "      <th>pred_minus_obs_S_b5</th>\n",
              "      <th>pred_minus_obs_S_b6</th>\n",
              "      <th>pred_minus_obs_S_b7</th>\n",
              "      <th>pred_minus_obs_S_b8</th>\n",
              "      <th>pred_minus_obs_S_b9</th>\n",
              "      <th>label</th>\n",
              "    </tr>\n",
              "  </thead>\n",
              "  <tbody>\n",
              "    <tr>\n",
              "      <th>0</th>\n",
              "      <td>454</td>\n",
              "      <td>54</td>\n",
              "      <td>28</td>\n",
              "      <td>51</td>\n",
              "      <td>93</td>\n",
              "      <td>56</td>\n",
              "      <td>100</td>\n",
              "      <td>80</td>\n",
              "      <td>24</td>\n",
              "      <td>55</td>\n",
              "      <td>64.88</td>\n",
              "      <td>26.03</td>\n",
              "      <td>50.29</td>\n",
              "      <td>6.74</td>\n",
              "      <td>-30.83</td>\n",
              "      <td>-39.83</td>\n",
              "      <td>0.47</td>\n",
              "      <td>5.50</td>\n",
              "      <td>0.47</td>\n",
              "      <td>-24.52</td>\n",
              "      <td>-0.83</td>\n",
              "      <td>-3.99</td>\n",
              "      <td>-23.22</td>\n",
              "      <td>-0.94</td>\n",
              "      <td>-4.30</td>\n",
              "      <td>-23.22</td>\n",
              "      <td>-1.69</td>\n",
              "      <td>-4.55</td>\n",
              "      <td>s</td>\n",
              "    </tr>\n",
              "    <tr>\n",
              "      <th>1</th>\n",
              "      <td>457</td>\n",
              "      <td>54</td>\n",
              "      <td>29</td>\n",
              "      <td>51</td>\n",
              "      <td>88</td>\n",
              "      <td>51</td>\n",
              "      <td>91</td>\n",
              "      <td>95</td>\n",
              "      <td>24</td>\n",
              "      <td>55</td>\n",
              "      <td>56.28</td>\n",
              "      <td>20.62</td>\n",
              "      <td>42.67</td>\n",
              "      <td>10.16</td>\n",
              "      <td>-26.12</td>\n",
              "      <td>-32.05</td>\n",
              "      <td>-21.37</td>\n",
              "      <td>5.39</td>\n",
              "      <td>-0.30</td>\n",
              "      <td>-19.03</td>\n",
              "      <td>-0.54</td>\n",
              "      <td>-4.09</td>\n",
              "      <td>-22.24</td>\n",
              "      <td>-1.01</td>\n",
              "      <td>-4.93</td>\n",
              "      <td>-17.81</td>\n",
              "      <td>-0.53</td>\n",
              "      <td>-2.98</td>\n",
              "      <td>s</td>\n",
              "    </tr>\n",
              "    <tr>\n",
              "      <th>2</th>\n",
              "      <td>261</td>\n",
              "      <td>59</td>\n",
              "      <td>30</td>\n",
              "      <td>52</td>\n",
              "      <td>90</td>\n",
              "      <td>54</td>\n",
              "      <td>93</td>\n",
              "      <td>80</td>\n",
              "      <td>26</td>\n",
              "      <td>58</td>\n",
              "      <td>56.58</td>\n",
              "      <td>21.37</td>\n",
              "      <td>45.45</td>\n",
              "      <td>12.77</td>\n",
              "      <td>-28.17</td>\n",
              "      <td>-30.94</td>\n",
              "      <td>-1.30</td>\n",
              "      <td>3.64</td>\n",
              "      <td>-2.27</td>\n",
              "      <td>-21.04</td>\n",
              "      <td>-1.86</td>\n",
              "      <td>-5.61</td>\n",
              "      <td>-27.73</td>\n",
              "      <td>-1.15</td>\n",
              "      <td>-5.74</td>\n",
              "      <td>-21.81</td>\n",
              "      <td>-2.39</td>\n",
              "      <td>-5.07</td>\n",
              "      <td>s</td>\n",
              "    </tr>\n",
              "    <tr>\n",
              "      <th>3</th>\n",
              "      <td>8</td>\n",
              "      <td>53</td>\n",
              "      <td>27</td>\n",
              "      <td>49</td>\n",
              "      <td>95</td>\n",
              "      <td>49</td>\n",
              "      <td>92</td>\n",
              "      <td>63</td>\n",
              "      <td>25</td>\n",
              "      <td>54</td>\n",
              "      <td>66.97</td>\n",
              "      <td>24.43</td>\n",
              "      <td>49.28</td>\n",
              "      <td>8.08</td>\n",
              "      <td>-22.53</td>\n",
              "      <td>-28.25</td>\n",
              "      <td>19.78</td>\n",
              "      <td>3.75</td>\n",
              "      <td>0.92</td>\n",
              "      <td>-25.65</td>\n",
              "      <td>-2.09</td>\n",
              "      <td>-5.95</td>\n",
              "      <td>-39.27</td>\n",
              "      <td>-2.13</td>\n",
              "      <td>-8.73</td>\n",
              "      <td>-30.73</td>\n",
              "      <td>-2.42</td>\n",
              "      <td>-5.58</td>\n",
              "      <td>s</td>\n",
              "    </tr>\n",
              "    <tr>\n",
              "      <th>4</th>\n",
              "      <td>478</td>\n",
              "      <td>58</td>\n",
              "      <td>40</td>\n",
              "      <td>65</td>\n",
              "      <td>100</td>\n",
              "      <td>58</td>\n",
              "      <td>100</td>\n",
              "      <td>106</td>\n",
              "      <td>26</td>\n",
              "      <td>57</td>\n",
              "      <td>51.79</td>\n",
              "      <td>8.74</td>\n",
              "      <td>28.06</td>\n",
              "      <td>-1.00</td>\n",
              "      <td>-33.12</td>\n",
              "      <td>-41.04</td>\n",
              "      <td>-32.17</td>\n",
              "      <td>3.48</td>\n",
              "      <td>-2.08</td>\n",
              "      <td>-18.31</td>\n",
              "      <td>-0.20</td>\n",
              "      <td>-4.85</td>\n",
              "      <td>-21.15</td>\n",
              "      <td>-1.00</td>\n",
              "      <td>-4.84</td>\n",
              "      <td>-17.00</td>\n",
              "      <td>-0.91</td>\n",
              "      <td>-3.38</td>\n",
              "      <td>d</td>\n",
              "    </tr>\n",
              "  </tbody>\n",
              "</table>\n",
              "</div>"
            ],
            "text/plain": [
              "    id  b1  b2  ...  pred_minus_obs_S_b8  pred_minus_obs_S_b9  label\n",
              "0  454  54  28  ...                -1.69                -4.55     s \n",
              "1  457  54  29  ...                -0.53                -2.98     s \n",
              "2  261  59  30  ...                -2.39                -5.07     s \n",
              "3    8  53  27  ...                -2.42                -5.58     s \n",
              "4  478  58  40  ...                -0.91                -3.38     d \n",
              "\n",
              "[5 rows x 29 columns]"
            ]
          },
          "metadata": {
            "tags": []
          },
          "execution_count": 2
        }
      ]
    },
    {
      "cell_type": "markdown",
      "metadata": {
        "id": "B7rJnvxqKWik"
      },
      "source": [
        "O conjunto de dados **`treino.csv`** será utilizado para construir os modelos de aprendizagem de máquina. Este apresenta a \"verdade em terra\" para cada classe por meio da coluna `label`."
      ]
    },
    {
      "cell_type": "code",
      "metadata": {
        "id": "hl2HzNzhB32a"
      },
      "source": [
        "# Importação dos dados de validação\r\n",
        "\r\n",
        "dados_validacao = pd.read_csv(\"https://raw.githubusercontent.com/JalesBussinguer/Remote_Sensing_Studies/master/data/worcap_2020/dados_validacao.csv\")\r\n",
        "dados_validacao.head(5)\r\n",
        "\r\n",
        "dados_val_sid = dados_validacao.drop(columns=\"id\")"
      ],
      "execution_count": null,
      "outputs": []
    },
    {
      "cell_type": "markdown",
      "metadata": {
        "id": "SauMb3a4Lase"
      },
      "source": [
        "O conjunto **`teste.csv`** será utilizado para verificar a capacidade de generalização do modelo criado."
      ]
    },
    {
      "cell_type": "markdown",
      "metadata": {
        "id": "3EC7mGj0DcFR"
      },
      "source": [
        "## Dicionário de variáveis:\r\n",
        "\r\n",
        "* `id`: Identificação única da linha, alusiva a um pixel único das imagens;\r\n",
        "* `b1`: Banda do verde corresponde ao mês de setembro de 2010;\r\n",
        "* `b2`: Banda do vermelho corresponde ao mês de setembro de 2010;\r\n",
        "* `b3`: Banda do infravermelho próximo corresponde ao mês de setembro de 2010;\r\n",
        "* `b4`: Banda do verde corresponde ao mês de Março de 2011;\r\n",
        "* `b5`: Banda do vermelho corresponde ao mês de Março de 2011;\r\n",
        "* `b6`: Banda do infravermelho próximo corresponde ao mês de Março de 2011;\r\n",
        "* `b7`: Banda do verde corresponde ao mês de Maio de 2011;\r\n",
        "* `b8`: Banda do vermelho corresponde ao mês de Maio de 2011;\r\n",
        "* `b9`: Banda do infravermelho próximo corresponde ao mês de Maio de 2011;\r\n",
        "* `pred_minus_obs_S_b1` até `pred_minus_obs_S_b9`: Valores espectrais previstos (Com base na interpolação espacial) subtraídos dos valores espectrais reais para a classe \"s\";\r\n",
        "* `pred_minus_obs_H_b1` até `pred_minus_obs_H_b9`: Valores espectrais previstos (Com base na interpolação espacial) subtraídos dos valores espectrais reais para a classe \"h\".\r\n",
        "\r\n",
        "## Rótulos:\r\n",
        "\r\n",
        "* `S` = *Sugi* (Floresta composta predominantemente pela espécie [*Cryptomeria japonica*](https://pt.wikipedia.org/wiki/Cryptomeria_japonica))\r\n",
        "* `H` = *Hinoki* (Floresta composta predominantemente pela espécie [*Chamaecyparis obtusa*](https://en.wikipedia.org/wiki/Chamaecyparis_obtusa))\r\n",
        "* `D` = *Mixed Deciduous* (Formação florestal composta por diversas espécies deciduais ou caducifólias);\r\n",
        "* `O` = *Other* (Feição não-florestal)"
      ]
    },
    {
      "cell_type": "markdown",
      "metadata": {
        "id": "ZvX6DoSuV3cF"
      },
      "source": [
        "Por se tratar de um problema de classificação de múltiplas classes, os resultados obtidos com a utlização de Regressão Logística e KNN podem não ser acurados. Dessa forma, serão utilizados somente os algoritmos de Árvore de Decisão e Random Forest Classification."
      ]
    },
    {
      "cell_type": "markdown",
      "metadata": {
        "id": "bHjxwB0BYkYm"
      },
      "source": [
        "# Análise Exploratória"
      ]
    },
    {
      "cell_type": "markdown",
      "metadata": {
        "id": "6-axbCrv1kYi"
      },
      "source": [
        "Nesta primeira fase, é interessante verificar algumas características do dataset, para certificar que tudo está ok para a implementação do modelo de aprendizado de máquina."
      ]
    },
    {
      "cell_type": "markdown",
      "metadata": {
        "id": "4riqtJDeYs9b"
      },
      "source": [
        "## 1. Conferindo se existem dados faltando"
      ]
    },
    {
      "cell_type": "code",
      "metadata": {
        "id": "nHQHAWdIYxyx",
        "colab": {
          "base_uri": "https://localhost:8080/"
        },
        "outputId": "eae924ba-aad3-4270-8e51-bc2e9177cb76"
      },
      "source": [
        "# Expressão que conta os dados que faltam pelo tamanho do dataset, retornando a porcentagem faltante de dados\r\n",
        "\r\n",
        "dados.isnull().sum()/dados.shape[0]"
      ],
      "execution_count": null,
      "outputs": [
        {
          "output_type": "execute_result",
          "data": {
            "text/plain": [
              "id                     0.0\n",
              "b1                     0.0\n",
              "b2                     0.0\n",
              "b3                     0.0\n",
              "b4                     0.0\n",
              "b5                     0.0\n",
              "b6                     0.0\n",
              "b7                     0.0\n",
              "b8                     0.0\n",
              "b9                     0.0\n",
              "pred_minus_obs_H_b1    0.0\n",
              "pred_minus_obs_H_b2    0.0\n",
              "pred_minus_obs_H_b3    0.0\n",
              "pred_minus_obs_H_b4    0.0\n",
              "pred_minus_obs_H_b5    0.0\n",
              "pred_minus_obs_H_b6    0.0\n",
              "pred_minus_obs_H_b7    0.0\n",
              "pred_minus_obs_H_b8    0.0\n",
              "pred_minus_obs_H_b9    0.0\n",
              "pred_minus_obs_S_b1    0.0\n",
              "pred_minus_obs_S_b2    0.0\n",
              "pred_minus_obs_S_b3    0.0\n",
              "pred_minus_obs_S_b4    0.0\n",
              "pred_minus_obs_S_b5    0.0\n",
              "pred_minus_obs_S_b6    0.0\n",
              "pred_minus_obs_S_b7    0.0\n",
              "pred_minus_obs_S_b8    0.0\n",
              "pred_minus_obs_S_b9    0.0\n",
              "label                  0.0\n",
              "dtype: float64"
            ]
          },
          "metadata": {
            "tags": []
          },
          "execution_count": 4
        }
      ]
    },
    {
      "cell_type": "markdown",
      "metadata": {
        "id": "ZRsPDici2Srm"
      },
      "source": [
        "No conjunto de dados de treino, não há dados faltantes. Portanto, podemos presseguir na análise."
      ]
    },
    {
      "cell_type": "code",
      "metadata": {
        "id": "Ot-EeLShaceJ",
        "colab": {
          "base_uri": "https://localhost:8080/"
        },
        "outputId": "bbf3633a-5b66-498e-8bc2-3a50760d29fe"
      },
      "source": [
        "dados_validacao.isnull().sum()/dados_validacao.shape[0]"
      ],
      "execution_count": null,
      "outputs": [
        {
          "output_type": "execute_result",
          "data": {
            "text/plain": [
              "id                     0.0\n",
              "b1                     0.0\n",
              "b2                     0.0\n",
              "b3                     0.0\n",
              "b4                     0.0\n",
              "b5                     0.0\n",
              "b6                     0.0\n",
              "b7                     0.0\n",
              "b8                     0.0\n",
              "b9                     0.0\n",
              "pred_minus_obs_H_b1    0.0\n",
              "pred_minus_obs_H_b2    0.0\n",
              "pred_minus_obs_H_b3    0.0\n",
              "pred_minus_obs_H_b4    0.0\n",
              "pred_minus_obs_H_b5    0.0\n",
              "pred_minus_obs_H_b6    0.0\n",
              "pred_minus_obs_H_b7    0.0\n",
              "pred_minus_obs_H_b8    0.0\n",
              "pred_minus_obs_H_b9    0.0\n",
              "pred_minus_obs_S_b1    0.0\n",
              "pred_minus_obs_S_b2    0.0\n",
              "pred_minus_obs_S_b3    0.0\n",
              "pred_minus_obs_S_b4    0.0\n",
              "pred_minus_obs_S_b5    0.0\n",
              "pred_minus_obs_S_b6    0.0\n",
              "pred_minus_obs_S_b7    0.0\n",
              "pred_minus_obs_S_b8    0.0\n",
              "pred_minus_obs_S_b9    0.0\n",
              "dtype: float64"
            ]
          },
          "metadata": {
            "tags": []
          },
          "execution_count": 5
        }
      ]
    },
    {
      "cell_type": "markdown",
      "metadata": {
        "id": "-OEf7jI4yNl-"
      },
      "source": [
        "No conjunto de dados de teste também não existem dados faltantes. Portanto, prosseguimos para uma análise dos tipos de dados que temos."
      ]
    },
    {
      "cell_type": "code",
      "metadata": {
        "id": "bLRkSvdB2zAS",
        "colab": {
          "base_uri": "https://localhost:8080/"
        },
        "outputId": "d7a6291b-ccd9-4a2c-8553-f9531c7c36cd"
      },
      "source": [
        "# Verificação dos tipos de dados no conjunto de dados de treino\r\n",
        "\r\n",
        "dados.dtypes"
      ],
      "execution_count": null,
      "outputs": [
        {
          "output_type": "execute_result",
          "data": {
            "text/plain": [
              "id                       int64\n",
              "b1                       int64\n",
              "b2                       int64\n",
              "b3                       int64\n",
              "b4                       int64\n",
              "b5                       int64\n",
              "b6                       int64\n",
              "b7                       int64\n",
              "b8                       int64\n",
              "b9                       int64\n",
              "pred_minus_obs_H_b1    float64\n",
              "pred_minus_obs_H_b2    float64\n",
              "pred_minus_obs_H_b3    float64\n",
              "pred_minus_obs_H_b4    float64\n",
              "pred_minus_obs_H_b5    float64\n",
              "pred_minus_obs_H_b6    float64\n",
              "pred_minus_obs_H_b7    float64\n",
              "pred_minus_obs_H_b8    float64\n",
              "pred_minus_obs_H_b9    float64\n",
              "pred_minus_obs_S_b1    float64\n",
              "pred_minus_obs_S_b2    float64\n",
              "pred_minus_obs_S_b3    float64\n",
              "pred_minus_obs_S_b4    float64\n",
              "pred_minus_obs_S_b5    float64\n",
              "pred_minus_obs_S_b6    float64\n",
              "pred_minus_obs_S_b7    float64\n",
              "pred_minus_obs_S_b8    float64\n",
              "pred_minus_obs_S_b9    float64\n",
              "label                   object\n",
              "dtype: object"
            ]
          },
          "metadata": {
            "tags": []
          },
          "execution_count": 6
        }
      ]
    },
    {
      "cell_type": "markdown",
      "metadata": {
        "id": "A8j2rhZf2_FA"
      },
      "source": [
        "Observa-se que no conjunto de dados de treino, existem três tipos de dados distintos:\r\n",
        "* Inteiros (int64): são os dados que representam os números digitais expressos nos pixels das imagens, e são diretamente relacionados à resposta espectral dos alvos da cena. Na coluna `id`, representam a identificação do pixel.\r\n",
        "* Flutuantes (float64): são dados que representam o resultado de uma estatística que mede a diferença entre uma resposta espectral modelada e a resposta espectral observada;\r\n",
        "* Texto (object): são os dados de rótulos dos pixels, representando a verdade terrestre das cenas."
      ]
    },
    {
      "cell_type": "code",
      "metadata": {
        "id": "YDmA7bZj6R11",
        "colab": {
          "base_uri": "https://localhost:8080/"
        },
        "outputId": "920cd1e8-d753-41b9-fafc-facbb256db36"
      },
      "source": [
        "# Verificação dos tipos de dados no conjunto de dados de treino\r\n",
        "\r\n",
        "dados_validacao.dtypes"
      ],
      "execution_count": null,
      "outputs": [
        {
          "output_type": "execute_result",
          "data": {
            "text/plain": [
              "id                       int64\n",
              "b1                       int64\n",
              "b2                       int64\n",
              "b3                       int64\n",
              "b4                       int64\n",
              "b5                       int64\n",
              "b6                       int64\n",
              "b7                       int64\n",
              "b8                       int64\n",
              "b9                       int64\n",
              "pred_minus_obs_H_b1    float64\n",
              "pred_minus_obs_H_b2    float64\n",
              "pred_minus_obs_H_b3    float64\n",
              "pred_minus_obs_H_b4    float64\n",
              "pred_minus_obs_H_b5    float64\n",
              "pred_minus_obs_H_b6    float64\n",
              "pred_minus_obs_H_b7    float64\n",
              "pred_minus_obs_H_b8    float64\n",
              "pred_minus_obs_H_b9    float64\n",
              "pred_minus_obs_S_b1    float64\n",
              "pred_minus_obs_S_b2    float64\n",
              "pred_minus_obs_S_b3    float64\n",
              "pred_minus_obs_S_b4    float64\n",
              "pred_minus_obs_S_b5    float64\n",
              "pred_minus_obs_S_b6    float64\n",
              "pred_minus_obs_S_b7    float64\n",
              "pred_minus_obs_S_b8    float64\n",
              "pred_minus_obs_S_b9    float64\n",
              "dtype: object"
            ]
          },
          "metadata": {
            "tags": []
          },
          "execution_count": 7
        }
      ]
    },
    {
      "cell_type": "markdown",
      "metadata": {
        "id": "wns5tFhR6ckM"
      },
      "source": [
        "O conjunto de dados de teste apresenta a mesma estrutura de tipos de dados que o conjunto de treino. Uma vez que os conjuntos de dados são compatíveis estruturalmente, podemos seguir para a verificação de valores únicos."
      ]
    },
    {
      "cell_type": "code",
      "metadata": {
        "id": "JjAO41FM7AAX",
        "colab": {
          "base_uri": "https://localhost:8080/"
        },
        "outputId": "a465e9a6-640d-49a0-ead8-da4583e1695c"
      },
      "source": [
        "# Valores únicos (dados de treino)\r\n",
        "\r\n",
        "dados.nunique()"
      ],
      "execution_count": null,
      "outputs": [
        {
          "output_type": "execute_result",
          "data": {
            "text/plain": [
              "id                     209\n",
              "b1                      48\n",
              "b2                      52\n",
              "b3                      49\n",
              "b4                      52\n",
              "b5                      42\n",
              "b6                      47\n",
              "b7                      67\n",
              "b8                      28\n",
              "b9                      36\n",
              "pred_minus_obs_H_b1    206\n",
              "pred_minus_obs_H_b2    199\n",
              "pred_minus_obs_H_b3    200\n",
              "pred_minus_obs_H_b4    202\n",
              "pred_minus_obs_H_b5    200\n",
              "pred_minus_obs_H_b6    206\n",
              "pred_minus_obs_H_b7    204\n",
              "pred_minus_obs_H_b8    185\n",
              "pred_minus_obs_H_b9    197\n",
              "pred_minus_obs_S_b1    190\n",
              "pred_minus_obs_S_b2    155\n",
              "pred_minus_obs_S_b3    179\n",
              "pred_minus_obs_S_b4    195\n",
              "pred_minus_obs_S_b5    108\n",
              "pred_minus_obs_S_b6    163\n",
              "pred_minus_obs_S_b7    194\n",
              "pred_minus_obs_S_b8    154\n",
              "pred_minus_obs_S_b9    170\n",
              "label                    4\n",
              "dtype: int64"
            ]
          },
          "metadata": {
            "tags": []
          },
          "execution_count": 8
        }
      ]
    },
    {
      "cell_type": "code",
      "metadata": {
        "id": "yYW5G8ZU7aWS",
        "colab": {
          "base_uri": "https://localhost:8080/"
        },
        "outputId": "cb23cc65-a2db-4555-eece-76fc28dd3523"
      },
      "source": [
        "# Valores únicos (dados de teste)\r\n",
        "\r\n",
        "dados_validacao.nunique()"
      ],
      "execution_count": null,
      "outputs": [
        {
          "output_type": "execute_result",
          "data": {
            "text/plain": [
              "id                     314\n",
              "b1                      58\n",
              "b2                      55\n",
              "b3                      54\n",
              "b4                      59\n",
              "b5                      49\n",
              "b6                      44\n",
              "b7                      72\n",
              "b8                      39\n",
              "b9                      46\n",
              "pred_minus_obs_H_b1    300\n",
              "pred_minus_obs_H_b2    296\n",
              "pred_minus_obs_H_b3    301\n",
              "pred_minus_obs_H_b4    300\n",
              "pred_minus_obs_H_b5    291\n",
              "pred_minus_obs_H_b6    294\n",
              "pred_minus_obs_H_b7    304\n",
              "pred_minus_obs_H_b8    269\n",
              "pred_minus_obs_H_b9    284\n",
              "pred_minus_obs_S_b1    272\n",
              "pred_minus_obs_S_b2    227\n",
              "pred_minus_obs_S_b3    251\n",
              "pred_minus_obs_S_b4    282\n",
              "pred_minus_obs_S_b5    139\n",
              "pred_minus_obs_S_b6    227\n",
              "pred_minus_obs_S_b7    278\n",
              "pred_minus_obs_S_b8    213\n",
              "pred_minus_obs_S_b9    226\n",
              "dtype: int64"
            ]
          },
          "metadata": {
            "tags": []
          },
          "execution_count": 9
        }
      ]
    },
    {
      "cell_type": "markdown",
      "metadata": {
        "id": "xYwmgP0X_xmp"
      },
      "source": [
        "Vamos verificar agora a estatística descritiva do conjunto de dados de treino."
      ]
    },
    {
      "cell_type": "code",
      "metadata": {
        "id": "k8PuhKVIABp1",
        "colab": {
          "base_uri": "https://localhost:8080/",
          "height": 317
        },
        "outputId": "0e77007b-a147-40ee-d063-1a77bff027e2"
      },
      "source": [
        "dados.describe()"
      ],
      "execution_count": null,
      "outputs": [
        {
          "output_type": "execute_result",
          "data": {
            "text/html": [
              "<div>\n",
              "<style scoped>\n",
              "    .dataframe tbody tr th:only-of-type {\n",
              "        vertical-align: middle;\n",
              "    }\n",
              "\n",
              "    .dataframe tbody tr th {\n",
              "        vertical-align: top;\n",
              "    }\n",
              "\n",
              "    .dataframe thead th {\n",
              "        text-align: right;\n",
              "    }\n",
              "</style>\n",
              "<table border=\"1\" class=\"dataframe\">\n",
              "  <thead>\n",
              "    <tr style=\"text-align: right;\">\n",
              "      <th></th>\n",
              "      <th>id</th>\n",
              "      <th>b1</th>\n",
              "      <th>b2</th>\n",
              "      <th>b3</th>\n",
              "      <th>b4</th>\n",
              "      <th>b5</th>\n",
              "      <th>b6</th>\n",
              "      <th>b7</th>\n",
              "      <th>b8</th>\n",
              "      <th>b9</th>\n",
              "      <th>pred_minus_obs_H_b1</th>\n",
              "      <th>pred_minus_obs_H_b2</th>\n",
              "      <th>pred_minus_obs_H_b3</th>\n",
              "      <th>pred_minus_obs_H_b4</th>\n",
              "      <th>pred_minus_obs_H_b5</th>\n",
              "      <th>pred_minus_obs_H_b6</th>\n",
              "      <th>pred_minus_obs_H_b7</th>\n",
              "      <th>pred_minus_obs_H_b8</th>\n",
              "      <th>pred_minus_obs_H_b9</th>\n",
              "      <th>pred_minus_obs_S_b1</th>\n",
              "      <th>pred_minus_obs_S_b2</th>\n",
              "      <th>pred_minus_obs_S_b3</th>\n",
              "      <th>pred_minus_obs_S_b4</th>\n",
              "      <th>pred_minus_obs_S_b5</th>\n",
              "      <th>pred_minus_obs_S_b6</th>\n",
              "      <th>pred_minus_obs_S_b7</th>\n",
              "      <th>pred_minus_obs_S_b8</th>\n",
              "      <th>pred_minus_obs_S_b9</th>\n",
              "    </tr>\n",
              "  </thead>\n",
              "  <tbody>\n",
              "    <tr>\n",
              "      <th>count</th>\n",
              "      <td>209.000000</td>\n",
              "      <td>209.000000</td>\n",
              "      <td>209.000000</td>\n",
              "      <td>209.000000</td>\n",
              "      <td>209.000000</td>\n",
              "      <td>209.000000</td>\n",
              "      <td>209.000000</td>\n",
              "      <td>209.000000</td>\n",
              "      <td>209.000000</td>\n",
              "      <td>209.000000</td>\n",
              "      <td>209.000000</td>\n",
              "      <td>209.000000</td>\n",
              "      <td>209.000000</td>\n",
              "      <td>209.000000</td>\n",
              "      <td>209.000000</td>\n",
              "      <td>209.000000</td>\n",
              "      <td>209.000000</td>\n",
              "      <td>209.000000</td>\n",
              "      <td>209.000000</td>\n",
              "      <td>209.000000</td>\n",
              "      <td>209.000000</td>\n",
              "      <td>209.000000</td>\n",
              "      <td>209.000000</td>\n",
              "      <td>209.000000</td>\n",
              "      <td>209.000000</td>\n",
              "      <td>209.000000</td>\n",
              "      <td>209.000000</td>\n",
              "      <td>209.000000</td>\n",
              "    </tr>\n",
              "    <tr>\n",
              "      <th>mean</th>\n",
              "      <td>279.473684</td>\n",
              "      <td>60.028708</td>\n",
              "      <td>39.818182</td>\n",
              "      <td>62.535885</td>\n",
              "      <td>98.631579</td>\n",
              "      <td>58.062201</td>\n",
              "      <td>99.478469</td>\n",
              "      <td>88.521531</td>\n",
              "      <td>27.349282</td>\n",
              "      <td>59.143541</td>\n",
              "      <td>53.995167</td>\n",
              "      <td>11.101866</td>\n",
              "      <td>33.790718</td>\n",
              "      <td>-0.387799</td>\n",
              "      <td>-32.808708</td>\n",
              "      <td>-39.359761</td>\n",
              "      <td>-11.722823</td>\n",
              "      <td>2.252727</td>\n",
              "      <td>-3.755311</td>\n",
              "      <td>-20.445407</td>\n",
              "      <td>-0.892392</td>\n",
              "      <td>-4.196411</td>\n",
              "      <td>-22.068086</td>\n",
              "      <td>-0.989187</td>\n",
              "      <td>-4.636411</td>\n",
              "      <td>-19.295455</td>\n",
              "      <td>-1.585502</td>\n",
              "      <td>-4.115407</td>\n",
              "    </tr>\n",
              "    <tr>\n",
              "      <th>std</th>\n",
              "      <td>157.575777</td>\n",
              "      <td>11.889278</td>\n",
              "      <td>18.148041</td>\n",
              "      <td>18.283029</td>\n",
              "      <td>12.353104</td>\n",
              "      <td>11.212157</td>\n",
              "      <td>10.326905</td>\n",
              "      <td>16.248987</td>\n",
              "      <td>7.189570</td>\n",
              "      <td>8.277545</td>\n",
              "      <td>12.278955</td>\n",
              "      <td>18.650286</td>\n",
              "      <td>19.208383</td>\n",
              "      <td>12.807750</td>\n",
              "      <td>11.161881</td>\n",
              "      <td>10.171291</td>\n",
              "      <td>16.608997</td>\n",
              "      <td>7.242365</td>\n",
              "      <td>8.320464</td>\n",
              "      <td>3.946111</td>\n",
              "      <td>1.425159</td>\n",
              "      <td>1.875246</td>\n",
              "      <td>4.871465</td>\n",
              "      <td>0.520297</td>\n",
              "      <td>1.314000</td>\n",
              "      <td>4.398123</td>\n",
              "      <td>1.355239</td>\n",
              "      <td>1.560729</td>\n",
              "    </tr>\n",
              "    <tr>\n",
              "      <th>min</th>\n",
              "      <td>2.000000</td>\n",
              "      <td>31.000000</td>\n",
              "      <td>23.000000</td>\n",
              "      <td>47.000000</td>\n",
              "      <td>75.000000</td>\n",
              "      <td>44.000000</td>\n",
              "      <td>83.000000</td>\n",
              "      <td>45.000000</td>\n",
              "      <td>19.000000</td>\n",
              "      <td>48.000000</td>\n",
              "      <td>7.660000</td>\n",
              "      <td>-112.600000</td>\n",
              "      <td>-106.120000</td>\n",
              "      <td>-51.160000</td>\n",
              "      <td>-74.560000</td>\n",
              "      <td>-77.170000</td>\n",
              "      <td>-56.980000</td>\n",
              "      <td>-54.740000</td>\n",
              "      <td>-58.280000</td>\n",
              "      <td>-32.240000</td>\n",
              "      <td>-6.020000</td>\n",
              "      <td>-9.730000</td>\n",
              "      <td>-40.370000</td>\n",
              "      <td>-2.550000</td>\n",
              "      <td>-8.730000</td>\n",
              "      <td>-34.140000</td>\n",
              "      <td>-7.990000</td>\n",
              "      <td>-10.810000</td>\n",
              "    </tr>\n",
              "    <tr>\n",
              "      <th>25%</th>\n",
              "      <td>140.000000</td>\n",
              "      <td>52.000000</td>\n",
              "      <td>28.000000</td>\n",
              "      <td>51.000000</td>\n",
              "      <td>90.000000</td>\n",
              "      <td>50.000000</td>\n",
              "      <td>92.000000</td>\n",
              "      <td>77.000000</td>\n",
              "      <td>24.000000</td>\n",
              "      <td>54.000000</td>\n",
              "      <td>45.970000</td>\n",
              "      <td>4.040000</td>\n",
              "      <td>28.190000</td>\n",
              "      <td>-7.580000</td>\n",
              "      <td>-38.330000</td>\n",
              "      <td>-44.980000</td>\n",
              "      <td>-23.480000</td>\n",
              "      <td>2.860000</td>\n",
              "      <td>-4.540000</td>\n",
              "      <td>-23.070000</td>\n",
              "      <td>-1.740000</td>\n",
              "      <td>-5.330000</td>\n",
              "      <td>-24.760000</td>\n",
              "      <td>-1.190000</td>\n",
              "      <td>-5.500000</td>\n",
              "      <td>-22.500000</td>\n",
              "      <td>-2.190000</td>\n",
              "      <td>-4.830000</td>\n",
              "    </tr>\n",
              "    <tr>\n",
              "      <th>50%</th>\n",
              "      <td>278.000000</td>\n",
              "      <td>58.000000</td>\n",
              "      <td>31.000000</td>\n",
              "      <td>55.000000</td>\n",
              "      <td>96.000000</td>\n",
              "      <td>54.000000</td>\n",
              "      <td>97.000000</td>\n",
              "      <td>89.000000</td>\n",
              "      <td>25.000000</td>\n",
              "      <td>57.000000</td>\n",
              "      <td>55.130000</td>\n",
              "      <td>19.000000</td>\n",
              "      <td>40.190000</td>\n",
              "      <td>2.010000</td>\n",
              "      <td>-28.810000</td>\n",
              "      <td>-36.300000</td>\n",
              "      <td>-11.260000</td>\n",
              "      <td>4.210000</td>\n",
              "      <td>-1.990000</td>\n",
              "      <td>-20.220000</td>\n",
              "      <td>-0.830000</td>\n",
              "      <td>-4.350000</td>\n",
              "      <td>-21.640000</td>\n",
              "      <td>-0.980000</td>\n",
              "      <td>-4.650000</td>\n",
              "      <td>-19.200000</td>\n",
              "      <td>-1.480000</td>\n",
              "      <td>-4.030000</td>\n",
              "    </tr>\n",
              "    <tr>\n",
              "      <th>75%</th>\n",
              "      <td>428.000000</td>\n",
              "      <td>67.000000</td>\n",
              "      <td>48.000000</td>\n",
              "      <td>67.000000</td>\n",
              "      <td>107.000000</td>\n",
              "      <td>64.000000</td>\n",
              "      <td>106.000000</td>\n",
              "      <td>101.000000</td>\n",
              "      <td>27.000000</td>\n",
              "      <td>60.000000</td>\n",
              "      <td>62.310000</td>\n",
              "      <td>22.880000</td>\n",
              "      <td>45.490000</td>\n",
              "      <td>8.680000</td>\n",
              "      <td>-24.780000</td>\n",
              "      <td>-32.140000</td>\n",
              "      <td>0.110000</td>\n",
              "      <td>5.530000</td>\n",
              "      <td>0.950000</td>\n",
              "      <td>-18.390000</td>\n",
              "      <td>-0.220000</td>\n",
              "      <td>-2.880000</td>\n",
              "      <td>-19.030000</td>\n",
              "      <td>-0.770000</td>\n",
              "      <td>-3.870000</td>\n",
              "      <td>-16.800000</td>\n",
              "      <td>-0.950000</td>\n",
              "      <td>-3.240000</td>\n",
              "    </tr>\n",
              "    <tr>\n",
              "      <th>max</th>\n",
              "      <td>522.000000</td>\n",
              "      <td>105.000000</td>\n",
              "      <td>160.000000</td>\n",
              "      <td>196.000000</td>\n",
              "      <td>152.000000</td>\n",
              "      <td>100.000000</td>\n",
              "      <td>138.000000</td>\n",
              "      <td>129.000000</td>\n",
              "      <td>84.000000</td>\n",
              "      <td>114.000000</td>\n",
              "      <td>86.080000</td>\n",
              "      <td>29.900000</td>\n",
              "      <td>52.710000</td>\n",
              "      <td>21.780000</td>\n",
              "      <td>-19.490000</td>\n",
              "      <td>-23.550000</td>\n",
              "      <td>34.500000</td>\n",
              "      <td>10.830000</td>\n",
              "      <td>8.280000</td>\n",
              "      <td>5.130000</td>\n",
              "      <td>12.460000</td>\n",
              "      <td>7.370000</td>\n",
              "      <td>1.880000</td>\n",
              "      <td>3.440000</td>\n",
              "      <td>3.940000</td>\n",
              "      <td>3.670000</td>\n",
              "      <td>8.840000</td>\n",
              "      <td>7.790000</td>\n",
              "    </tr>\n",
              "  </tbody>\n",
              "</table>\n",
              "</div>"
            ],
            "text/plain": [
              "               id          b1  ...  pred_minus_obs_S_b8  pred_minus_obs_S_b9\n",
              "count  209.000000  209.000000  ...           209.000000           209.000000\n",
              "mean   279.473684   60.028708  ...            -1.585502            -4.115407\n",
              "std    157.575777   11.889278  ...             1.355239             1.560729\n",
              "min      2.000000   31.000000  ...            -7.990000           -10.810000\n",
              "25%    140.000000   52.000000  ...            -2.190000            -4.830000\n",
              "50%    278.000000   58.000000  ...            -1.480000            -4.030000\n",
              "75%    428.000000   67.000000  ...            -0.950000            -3.240000\n",
              "max    522.000000  105.000000  ...             8.840000             7.790000\n",
              "\n",
              "[8 rows x 28 columns]"
            ]
          },
          "metadata": {
            "tags": []
          },
          "execution_count": 10
        }
      ]
    },
    {
      "cell_type": "markdown",
      "metadata": {
        "id": "0by5yogIWhqs"
      },
      "source": [
        "# Construção do modelo:"
      ]
    },
    {
      "cell_type": "markdown",
      "metadata": {
        "id": "kdHwP3RUWwHH"
      },
      "source": [
        "## 1.  Pré-processamento:"
      ]
    },
    {
      "cell_type": "code",
      "metadata": {
        "id": "Tg-8ODPrBoKP"
      },
      "source": [
        "# Remoção da coluna de identificação do conjunto de dados de treino\r\n",
        "\r\n",
        "dados = dados.drop(columns=\"id\")"
      ],
      "execution_count": null,
      "outputs": []
    },
    {
      "cell_type": "code",
      "metadata": {
        "id": "SD1w4Y7gPhMS"
      },
      "source": [
        "# Separação dos atributos e dos rótulos\r\n",
        "\r\n",
        "X = dados.iloc[:,:-1].values # atributos (amostra de pixels)\r\n",
        "y = dados.iloc[:,-1].values # rótulos (verdade terreste)"
      ],
      "execution_count": null,
      "outputs": []
    },
    {
      "cell_type": "code",
      "metadata": {
        "colab": {
          "base_uri": "https://localhost:8080/"
        },
        "id": "LPtfVnyeCVYD",
        "outputId": "1991af61-f259-48ee-ed70-df678a501404"
      },
      "source": [
        "# Separação das amostras de treino e de teste (80% - treino e 20% - teste)\r\n",
        "X_treino, X_teste, y_treino, y_teste = train_test_split(X, y, test_size=0.2, random_state=42)\r\n",
        "# Usamos o random_state = 42 paraeliminar a aleatoriedade caso venhamos a comparar diferentes modelos\r\n",
        "\r\n",
        "# One-hot encoding\r\n",
        "encoder = preprocessing.OneHotEncoder(sparse=False)\r\n",
        "y_treino = encoder.fit_transform(y_treino.reshape(-1, 1))\r\n",
        "y_teste = encoder.fit_transform(y_teste.reshape(-1, 1))\r\n",
        "# Informações importantes\r\n",
        "\r\n",
        "print(\"Formato dos dados de treino:\", \"X_treino =\", X_treino.shape, \"e y_treino =\", y_treino.shape)\r\n",
        "print(\"Formato dos dados de teste:\", \"X_teste =\", X_teste.shape, \"e y_teste =\", y_teste.shape)\r\n",
        "print()\r\n",
        "print(\"Número de classes:\", len(set(dados['label'].values)))\r\n",
        "print(\"Número de features:\", X_treino.shape[1])"
      ],
      "execution_count": null,
      "outputs": [
        {
          "output_type": "stream",
          "text": [
            "Formato dos dados de treino: X_treino = (167, 27) e y_treino = (167, 4)\n",
            "Formato dos dados de teste: X_teste = (42, 27) e y_teste = (42, 4)\n",
            "\n",
            "Número de classes: 4\n",
            "Número de features: 27\n"
          ],
          "name": "stdout"
        }
      ]
    },
    {
      "cell_type": "markdown",
      "metadata": {
        "id": "HdmZUtD7RmVY"
      },
      "source": [
        "Um indicativo de que tudo está ok é o fato do número de linhas ser igual para os conjuntos de dados de treino. O conjunto x possui 209 linhas (valores) e 27 colunas (features), enquanto o conjunto y possui 209 linhas (valores) e um única coluna com os rótulos.\r\n",
        "\r\n",
        "Para o conjunto de teste, o indicativo de que está tudo certo é a quantidade de colunas (features), que bate com a quantidade de features do conjunto de treino."
      ]
    },
    {
      "cell_type": "markdown",
      "metadata": {
        "id": "qLTDmjeo9l0Y"
      },
      "source": [
        "# 3. Criando os modelos"
      ]
    },
    {
      "cell_type": "markdown",
      "metadata": {
        "id": "NlHW4SRjOj4h"
      },
      "source": [
        "## *Random Forest Classifier (default)*"
      ]
    },
    {
      "cell_type": "code",
      "metadata": {
        "id": "YRZRT45KS682"
      },
      "source": [
        "rf_default = ensemble.RandomForestClassifier(n_estimators=1000, criterion='entropy', n_jobs=-1)"
      ],
      "execution_count": null,
      "outputs": []
    },
    {
      "cell_type": "code",
      "metadata": {
        "colab": {
          "base_uri": "https://localhost:8080/"
        },
        "id": "WC6UDgj5TBnt",
        "outputId": "39c3dfee-db1d-480d-a8bc-4303929cdcb5"
      },
      "source": [
        "rf_default.fit(X_treino, y_treino)"
      ],
      "execution_count": null,
      "outputs": [
        {
          "output_type": "execute_result",
          "data": {
            "text/plain": [
              "RandomForestClassifier(bootstrap=True, ccp_alpha=0.0, class_weight=None,\n",
              "                       criterion='entropy', max_depth=None, max_features='auto',\n",
              "                       max_leaf_nodes=None, max_samples=None,\n",
              "                       min_impurity_decrease=0.0, min_impurity_split=None,\n",
              "                       min_samples_leaf=1, min_samples_split=2,\n",
              "                       min_weight_fraction_leaf=0.0, n_estimators=1000,\n",
              "                       n_jobs=-1, oob_score=False, random_state=None, verbose=0,\n",
              "                       warm_start=False)"
            ]
          },
          "metadata": {
            "tags": []
          },
          "execution_count": 15
        }
      ]
    },
    {
      "cell_type": "code",
      "metadata": {
        "colab": {
          "base_uri": "https://localhost:8080/"
        },
        "id": "TVbifxi5THvy",
        "outputId": "c09e271c-2507-4218-ba87-8d67202467aa"
      },
      "source": [
        "rf_default.score(X_teste, y_teste)"
      ],
      "execution_count": null,
      "outputs": [
        {
          "output_type": "execute_result",
          "data": {
            "text/plain": [
              "0.8809523809523809"
            ]
          },
          "metadata": {
            "tags": []
          },
          "execution_count": 16
        }
      ]
    },
    {
      "cell_type": "markdown",
      "metadata": {
        "id": "m1bdcO2PIaTn"
      },
      "source": [
        "## Grid Search"
      ]
    },
    {
      "cell_type": "code",
      "metadata": {
        "id": "orLP6M3TIdzD"
      },
      "source": [
        "rfc = ensemble.RandomForestClassifier()"
      ],
      "execution_count": null,
      "outputs": []
    },
    {
      "cell_type": "code",
      "metadata": {
        "colab": {
          "base_uri": "https://localhost:8080/",
          "height": 408
        },
        "id": "o1jYG9shKr_W",
        "outputId": "54163b68-09ce-405b-a11f-ace0893eed18"
      },
      "source": [
        "## Random Search\r\n",
        "## N Estimators\r\n",
        "n_estimators = [25, 50, 75, 100, 250, 500, 750, 1000, 1500, 2500]\r\n",
        "## Min Samples Split\r\n",
        "min_samples_split = range(1,5)\r\n",
        "## Min Samples Leaf\r\n",
        "min_samples_leaf = range(1,5)\r\n",
        "## Max Features\r\n",
        "max_features = ['auto', None]\r\n",
        "# Max depth\r\n",
        "max_depth = range(1,50)\r\n",
        "# Criterion\r\n",
        "criterion = ['gini', 'entropy']\r\n",
        "# Criando o Random Search\r\n",
        "rf_parametros = {\r\n",
        "                'n_estimators': n_estimators,\r\n",
        "                'min_samples_split': min_samples_split,\r\n",
        "                'min_samples_leaf': min_samples_leaf,\r\n",
        "                'max_depth': max_depth,\r\n",
        "                'criterion': criterion,\r\n",
        "                'max_features': max_features}\r\n",
        "## Random Forest Tuning\r\n",
        "RFtuning = GridSearchCV(rfc, ## Random Forest\r\n",
        "                              param_grid=rf_parametros, ## Parâmetros\r\n",
        "                              cv=KFold(n_splits=4, shuffle=True, random_state=42), ## Cross validation\r\n",
        "                              scoring = 'accuracy', ## Métrica\r\n",
        "                              n_jobs = -1, ## Utilizando todos os processadores\r\n",
        "                              verbose = 1).fit(X_treino, y_treino)\r\n",
        "\r\n",
        "print(f'Melhor resultado: {RFtuning.best_score_} para {RFtuning.best_params_}')"
      ],
      "execution_count": null,
      "outputs": [
        {
          "output_type": "stream",
          "text": [
            "Fitting 4 folds for each of 31360 candidates, totalling 125440 fits\n"
          ],
          "name": "stdout"
        },
        {
          "output_type": "stream",
          "text": [
            "[Parallel(n_jobs=-1)]: Using backend LokyBackend with 2 concurrent workers.\n"
          ],
          "name": "stderr"
        },
        {
          "output_type": "error",
          "ename": "KeyboardInterrupt",
          "evalue": "ignored",
          "traceback": [
            "\u001b[0;31m---------------------------------------------------------------------------\u001b[0m",
            "\u001b[0;31mKeyboardInterrupt\u001b[0m                         Traceback (most recent call last)",
            "\u001b[0;32m<ipython-input-20-258b8c9fe052>\u001b[0m in \u001b[0;36m<module>\u001b[0;34m()\u001b[0m\n\u001b[1;32m     26\u001b[0m                               \u001b[0mscoring\u001b[0m \u001b[0;34m=\u001b[0m \u001b[0;34m'accuracy'\u001b[0m\u001b[0;34m,\u001b[0m \u001b[0;31m## Métrica\u001b[0m\u001b[0;34m\u001b[0m\u001b[0;34m\u001b[0m\u001b[0m\n\u001b[1;32m     27\u001b[0m                               \u001b[0mn_jobs\u001b[0m \u001b[0;34m=\u001b[0m \u001b[0;34m-\u001b[0m\u001b[0;36m1\u001b[0m\u001b[0;34m,\u001b[0m \u001b[0;31m## Utilizando todos os processadores\u001b[0m\u001b[0;34m\u001b[0m\u001b[0;34m\u001b[0m\u001b[0m\n\u001b[0;32m---> 28\u001b[0;31m                               verbose = 1).fit(X_treino, y_treino)\n\u001b[0m\u001b[1;32m     29\u001b[0m \u001b[0;34m\u001b[0m\u001b[0m\n\u001b[1;32m     30\u001b[0m \u001b[0mprint\u001b[0m\u001b[0;34m(\u001b[0m\u001b[0;34mf'Melhor resultado: {RFtuning.best_score_} para {RFtuning.best_params_}'\u001b[0m\u001b[0;34m)\u001b[0m\u001b[0;34m\u001b[0m\u001b[0;34m\u001b[0m\u001b[0m\n",
            "\u001b[0;32m/usr/local/lib/python3.6/dist-packages/sklearn/model_selection/_search.py\u001b[0m in \u001b[0;36mfit\u001b[0;34m(self, X, y, groups, **fit_params)\u001b[0m\n\u001b[1;32m    708\u001b[0m                 \u001b[0;32mreturn\u001b[0m \u001b[0mresults\u001b[0m\u001b[0;34m\u001b[0m\u001b[0;34m\u001b[0m\u001b[0m\n\u001b[1;32m    709\u001b[0m \u001b[0;34m\u001b[0m\u001b[0m\n\u001b[0;32m--> 710\u001b[0;31m             \u001b[0mself\u001b[0m\u001b[0;34m.\u001b[0m\u001b[0m_run_search\u001b[0m\u001b[0;34m(\u001b[0m\u001b[0mevaluate_candidates\u001b[0m\u001b[0;34m)\u001b[0m\u001b[0;34m\u001b[0m\u001b[0;34m\u001b[0m\u001b[0m\n\u001b[0m\u001b[1;32m    711\u001b[0m \u001b[0;34m\u001b[0m\u001b[0m\n\u001b[1;32m    712\u001b[0m         \u001b[0;31m# For multi-metric evaluation, store the best_index_, best_params_ and\u001b[0m\u001b[0;34m\u001b[0m\u001b[0;34m\u001b[0m\u001b[0;34m\u001b[0m\u001b[0m\n",
            "\u001b[0;32m/usr/local/lib/python3.6/dist-packages/sklearn/model_selection/_search.py\u001b[0m in \u001b[0;36m_run_search\u001b[0;34m(self, evaluate_candidates)\u001b[0m\n\u001b[1;32m   1149\u001b[0m     \u001b[0;32mdef\u001b[0m \u001b[0m_run_search\u001b[0m\u001b[0;34m(\u001b[0m\u001b[0mself\u001b[0m\u001b[0;34m,\u001b[0m \u001b[0mevaluate_candidates\u001b[0m\u001b[0;34m)\u001b[0m\u001b[0;34m:\u001b[0m\u001b[0;34m\u001b[0m\u001b[0;34m\u001b[0m\u001b[0m\n\u001b[1;32m   1150\u001b[0m         \u001b[0;34m\"\"\"Search all candidates in param_grid\"\"\"\u001b[0m\u001b[0;34m\u001b[0m\u001b[0;34m\u001b[0m\u001b[0m\n\u001b[0;32m-> 1151\u001b[0;31m         \u001b[0mevaluate_candidates\u001b[0m\u001b[0;34m(\u001b[0m\u001b[0mParameterGrid\u001b[0m\u001b[0;34m(\u001b[0m\u001b[0mself\u001b[0m\u001b[0;34m.\u001b[0m\u001b[0mparam_grid\u001b[0m\u001b[0;34m)\u001b[0m\u001b[0;34m)\u001b[0m\u001b[0;34m\u001b[0m\u001b[0;34m\u001b[0m\u001b[0m\n\u001b[0m\u001b[1;32m   1152\u001b[0m \u001b[0;34m\u001b[0m\u001b[0m\n\u001b[1;32m   1153\u001b[0m \u001b[0;34m\u001b[0m\u001b[0m\n",
            "\u001b[0;32m/usr/local/lib/python3.6/dist-packages/sklearn/model_selection/_search.py\u001b[0m in \u001b[0;36mevaluate_candidates\u001b[0;34m(candidate_params)\u001b[0m\n\u001b[1;32m    687\u001b[0m                                \u001b[0;32mfor\u001b[0m \u001b[0mparameters\u001b[0m\u001b[0;34m,\u001b[0m \u001b[0;34m(\u001b[0m\u001b[0mtrain\u001b[0m\u001b[0;34m,\u001b[0m \u001b[0mtest\u001b[0m\u001b[0;34m)\u001b[0m\u001b[0;34m\u001b[0m\u001b[0;34m\u001b[0m\u001b[0m\n\u001b[1;32m    688\u001b[0m                                in product(candidate_params,\n\u001b[0;32m--> 689\u001b[0;31m                                           cv.split(X, y, groups)))\n\u001b[0m\u001b[1;32m    690\u001b[0m \u001b[0;34m\u001b[0m\u001b[0m\n\u001b[1;32m    691\u001b[0m                 \u001b[0;32mif\u001b[0m \u001b[0mlen\u001b[0m\u001b[0;34m(\u001b[0m\u001b[0mout\u001b[0m\u001b[0;34m)\u001b[0m \u001b[0;34m<\u001b[0m \u001b[0;36m1\u001b[0m\u001b[0;34m:\u001b[0m\u001b[0;34m\u001b[0m\u001b[0;34m\u001b[0m\u001b[0m\n",
            "\u001b[0;32m/usr/local/lib/python3.6/dist-packages/joblib/parallel.py\u001b[0m in \u001b[0;36m__call__\u001b[0;34m(self, iterable)\u001b[0m\n\u001b[1;32m   1052\u001b[0m \u001b[0;34m\u001b[0m\u001b[0m\n\u001b[1;32m   1053\u001b[0m             \u001b[0;32mwith\u001b[0m \u001b[0mself\u001b[0m\u001b[0;34m.\u001b[0m\u001b[0m_backend\u001b[0m\u001b[0;34m.\u001b[0m\u001b[0mretrieval_context\u001b[0m\u001b[0;34m(\u001b[0m\u001b[0;34m)\u001b[0m\u001b[0;34m:\u001b[0m\u001b[0;34m\u001b[0m\u001b[0;34m\u001b[0m\u001b[0m\n\u001b[0;32m-> 1054\u001b[0;31m                 \u001b[0mself\u001b[0m\u001b[0;34m.\u001b[0m\u001b[0mretrieve\u001b[0m\u001b[0;34m(\u001b[0m\u001b[0;34m)\u001b[0m\u001b[0;34m\u001b[0m\u001b[0;34m\u001b[0m\u001b[0m\n\u001b[0m\u001b[1;32m   1055\u001b[0m             \u001b[0;31m# Make sure that we get a last message telling us we are done\u001b[0m\u001b[0;34m\u001b[0m\u001b[0;34m\u001b[0m\u001b[0;34m\u001b[0m\u001b[0m\n\u001b[1;32m   1056\u001b[0m             \u001b[0melapsed_time\u001b[0m \u001b[0;34m=\u001b[0m \u001b[0mtime\u001b[0m\u001b[0;34m.\u001b[0m\u001b[0mtime\u001b[0m\u001b[0;34m(\u001b[0m\u001b[0;34m)\u001b[0m \u001b[0;34m-\u001b[0m \u001b[0mself\u001b[0m\u001b[0;34m.\u001b[0m\u001b[0m_start_time\u001b[0m\u001b[0;34m\u001b[0m\u001b[0;34m\u001b[0m\u001b[0m\n",
            "\u001b[0;32m/usr/local/lib/python3.6/dist-packages/joblib/parallel.py\u001b[0m in \u001b[0;36mretrieve\u001b[0;34m(self)\u001b[0m\n\u001b[1;32m    931\u001b[0m             \u001b[0;32mtry\u001b[0m\u001b[0;34m:\u001b[0m\u001b[0;34m\u001b[0m\u001b[0;34m\u001b[0m\u001b[0m\n\u001b[1;32m    932\u001b[0m                 \u001b[0;32mif\u001b[0m \u001b[0mgetattr\u001b[0m\u001b[0;34m(\u001b[0m\u001b[0mself\u001b[0m\u001b[0;34m.\u001b[0m\u001b[0m_backend\u001b[0m\u001b[0;34m,\u001b[0m \u001b[0;34m'supports_timeout'\u001b[0m\u001b[0;34m,\u001b[0m \u001b[0;32mFalse\u001b[0m\u001b[0;34m)\u001b[0m\u001b[0;34m:\u001b[0m\u001b[0;34m\u001b[0m\u001b[0;34m\u001b[0m\u001b[0m\n\u001b[0;32m--> 933\u001b[0;31m                     \u001b[0mself\u001b[0m\u001b[0;34m.\u001b[0m\u001b[0m_output\u001b[0m\u001b[0;34m.\u001b[0m\u001b[0mextend\u001b[0m\u001b[0;34m(\u001b[0m\u001b[0mjob\u001b[0m\u001b[0;34m.\u001b[0m\u001b[0mget\u001b[0m\u001b[0;34m(\u001b[0m\u001b[0mtimeout\u001b[0m\u001b[0;34m=\u001b[0m\u001b[0mself\u001b[0m\u001b[0;34m.\u001b[0m\u001b[0mtimeout\u001b[0m\u001b[0;34m)\u001b[0m\u001b[0;34m)\u001b[0m\u001b[0;34m\u001b[0m\u001b[0;34m\u001b[0m\u001b[0m\n\u001b[0m\u001b[1;32m    934\u001b[0m                 \u001b[0;32melse\u001b[0m\u001b[0;34m:\u001b[0m\u001b[0;34m\u001b[0m\u001b[0;34m\u001b[0m\u001b[0m\n\u001b[1;32m    935\u001b[0m                     \u001b[0mself\u001b[0m\u001b[0;34m.\u001b[0m\u001b[0m_output\u001b[0m\u001b[0;34m.\u001b[0m\u001b[0mextend\u001b[0m\u001b[0;34m(\u001b[0m\u001b[0mjob\u001b[0m\u001b[0;34m.\u001b[0m\u001b[0mget\u001b[0m\u001b[0;34m(\u001b[0m\u001b[0;34m)\u001b[0m\u001b[0;34m)\u001b[0m\u001b[0;34m\u001b[0m\u001b[0;34m\u001b[0m\u001b[0m\n",
            "\u001b[0;32m/usr/local/lib/python3.6/dist-packages/joblib/_parallel_backends.py\u001b[0m in \u001b[0;36mwrap_future_result\u001b[0;34m(future, timeout)\u001b[0m\n\u001b[1;32m    540\u001b[0m         AsyncResults.get from multiprocessing.\"\"\"\n\u001b[1;32m    541\u001b[0m         \u001b[0;32mtry\u001b[0m\u001b[0;34m:\u001b[0m\u001b[0;34m\u001b[0m\u001b[0;34m\u001b[0m\u001b[0m\n\u001b[0;32m--> 542\u001b[0;31m             \u001b[0;32mreturn\u001b[0m \u001b[0mfuture\u001b[0m\u001b[0;34m.\u001b[0m\u001b[0mresult\u001b[0m\u001b[0;34m(\u001b[0m\u001b[0mtimeout\u001b[0m\u001b[0;34m=\u001b[0m\u001b[0mtimeout\u001b[0m\u001b[0;34m)\u001b[0m\u001b[0;34m\u001b[0m\u001b[0;34m\u001b[0m\u001b[0m\n\u001b[0m\u001b[1;32m    543\u001b[0m         \u001b[0;32mexcept\u001b[0m \u001b[0mCfTimeoutError\u001b[0m \u001b[0;32mas\u001b[0m \u001b[0me\u001b[0m\u001b[0;34m:\u001b[0m\u001b[0;34m\u001b[0m\u001b[0;34m\u001b[0m\u001b[0m\n\u001b[1;32m    544\u001b[0m             \u001b[0;32mraise\u001b[0m \u001b[0mTimeoutError\u001b[0m \u001b[0;32mfrom\u001b[0m \u001b[0me\u001b[0m\u001b[0;34m\u001b[0m\u001b[0;34m\u001b[0m\u001b[0m\n",
            "\u001b[0;32m/usr/lib/python3.6/concurrent/futures/_base.py\u001b[0m in \u001b[0;36mresult\u001b[0;34m(self, timeout)\u001b[0m\n\u001b[1;32m    425\u001b[0m                 \u001b[0;32mreturn\u001b[0m \u001b[0mself\u001b[0m\u001b[0;34m.\u001b[0m\u001b[0m__get_result\u001b[0m\u001b[0;34m(\u001b[0m\u001b[0;34m)\u001b[0m\u001b[0;34m\u001b[0m\u001b[0;34m\u001b[0m\u001b[0m\n\u001b[1;32m    426\u001b[0m \u001b[0;34m\u001b[0m\u001b[0m\n\u001b[0;32m--> 427\u001b[0;31m             \u001b[0mself\u001b[0m\u001b[0;34m.\u001b[0m\u001b[0m_condition\u001b[0m\u001b[0;34m.\u001b[0m\u001b[0mwait\u001b[0m\u001b[0;34m(\u001b[0m\u001b[0mtimeout\u001b[0m\u001b[0;34m)\u001b[0m\u001b[0;34m\u001b[0m\u001b[0;34m\u001b[0m\u001b[0m\n\u001b[0m\u001b[1;32m    428\u001b[0m \u001b[0;34m\u001b[0m\u001b[0m\n\u001b[1;32m    429\u001b[0m             \u001b[0;32mif\u001b[0m \u001b[0mself\u001b[0m\u001b[0;34m.\u001b[0m\u001b[0m_state\u001b[0m \u001b[0;32min\u001b[0m \u001b[0;34m[\u001b[0m\u001b[0mCANCELLED\u001b[0m\u001b[0;34m,\u001b[0m \u001b[0mCANCELLED_AND_NOTIFIED\u001b[0m\u001b[0;34m]\u001b[0m\u001b[0;34m:\u001b[0m\u001b[0;34m\u001b[0m\u001b[0;34m\u001b[0m\u001b[0m\n",
            "\u001b[0;32m/usr/lib/python3.6/threading.py\u001b[0m in \u001b[0;36mwait\u001b[0;34m(self, timeout)\u001b[0m\n\u001b[1;32m    293\u001b[0m         \u001b[0;32mtry\u001b[0m\u001b[0;34m:\u001b[0m    \u001b[0;31m# restore state no matter what (e.g., KeyboardInterrupt)\u001b[0m\u001b[0;34m\u001b[0m\u001b[0;34m\u001b[0m\u001b[0m\n\u001b[1;32m    294\u001b[0m             \u001b[0;32mif\u001b[0m \u001b[0mtimeout\u001b[0m \u001b[0;32mis\u001b[0m \u001b[0;32mNone\u001b[0m\u001b[0;34m:\u001b[0m\u001b[0;34m\u001b[0m\u001b[0;34m\u001b[0m\u001b[0m\n\u001b[0;32m--> 295\u001b[0;31m                 \u001b[0mwaiter\u001b[0m\u001b[0;34m.\u001b[0m\u001b[0macquire\u001b[0m\u001b[0;34m(\u001b[0m\u001b[0;34m)\u001b[0m\u001b[0;34m\u001b[0m\u001b[0;34m\u001b[0m\u001b[0m\n\u001b[0m\u001b[1;32m    296\u001b[0m                 \u001b[0mgotit\u001b[0m \u001b[0;34m=\u001b[0m \u001b[0;32mTrue\u001b[0m\u001b[0;34m\u001b[0m\u001b[0;34m\u001b[0m\u001b[0m\n\u001b[1;32m    297\u001b[0m             \u001b[0;32melse\u001b[0m\u001b[0;34m:\u001b[0m\u001b[0;34m\u001b[0m\u001b[0;34m\u001b[0m\u001b[0m\n",
            "\u001b[0;31mKeyboardInterrupt\u001b[0m: "
          ]
        }
      ]
    },
    {
      "cell_type": "markdown",
      "metadata": {
        "id": "IoJck0CTHgeI"
      },
      "source": [
        "## Resultado final"
      ]
    },
    {
      "cell_type": "code",
      "metadata": {
        "id": "FA7TrS8jSbkU"
      },
      "source": [
        "rf = ensemble.RandomForestClassifier(n_estimators=1000, min_samples_split=2, min_samples_leaf=7,\r\n",
        "                                     max_features=None, criterion='entropy', n_jobs=-1)"
      ],
      "execution_count": null,
      "outputs": []
    },
    {
      "cell_type": "code",
      "metadata": {
        "id": "WYZzKX44ShLx"
      },
      "source": [
        "rf.fit(X_treino, y_treino)"
      ],
      "execution_count": null,
      "outputs": []
    },
    {
      "cell_type": "code",
      "metadata": {
        "id": "3yaasO-rSjq1"
      },
      "source": [
        "rf.score(X_teste, y_teste)"
      ],
      "execution_count": null,
      "outputs": []
    },
    {
      "cell_type": "code",
      "metadata": {
        "id": "FUq80V68HiGO"
      },
      "source": [
        "y_verificacao = rf_default.predict(dados_val_sid)"
      ],
      "execution_count": null,
      "outputs": []
    },
    {
      "cell_type": "code",
      "metadata": {
        "id": "engukQPTIQEE"
      },
      "source": [
        "y_verificacao = encoder.inverse_transform(y_verificacao).reshape(-1)"
      ],
      "execution_count": null,
      "outputs": []
    },
    {
      "cell_type": "code",
      "metadata": {
        "id": "Wfnb17DkIWdz"
      },
      "source": [
        "y_verificacao"
      ],
      "execution_count": null,
      "outputs": []
    },
    {
      "cell_type": "code",
      "metadata": {
        "id": "pHm7NxkgIaCt"
      },
      "source": [
        "index = dados_validacao[\"id\"]\r\n",
        "columns = ['label']\r\n"
      ],
      "execution_count": null,
      "outputs": []
    },
    {
      "cell_type": "code",
      "metadata": {
        "id": "xHYT3_rnInH4"
      },
      "source": [
        "output = pd.DataFrame(y_verificacao, index=index, columns=columns)"
      ],
      "execution_count": null,
      "outputs": []
    },
    {
      "cell_type": "code",
      "metadata": {
        "id": "NIg2IyFmLSmL"
      },
      "source": [
        "output.to_csv('result.csv', sep=\",\")"
      ],
      "execution_count": null,
      "outputs": []
    },
    {
      "cell_type": "code",
      "metadata": {
        "id": "I_FIJuTcLqa8"
      },
      "source": [
        "\r\n",
        "pd.read_csv('result.csv')"
      ],
      "execution_count": null,
      "outputs": []
    },
    {
      "cell_type": "code",
      "metadata": {
        "id": "auZOJy85Ql5P"
      },
      "source": [
        "from google.colab import files\r\n",
        "files.download(\"result.csv\")"
      ],
      "execution_count": null,
      "outputs": []
    },
    {
      "cell_type": "code",
      "metadata": {
        "id": "UvcL-rUwcdfE"
      },
      "source": [
        "A"
      ],
      "execution_count": null,
      "outputs": []
    }
  ]
}