{
  "nbformat": 4,
  "nbformat_minor": 0,
  "metadata": {
    "colab": {
      "name": "Desafio Worcap 2020.ipynb",
      "provenance": [],
      "collapsed_sections": [],
      "authorship_tag": "ABX9TyNnyzelsExpszuiN6ffVbU+",
      "include_colab_link": true
    },
    "kernelspec": {
      "name": "python3",
      "display_name": "Python 3"
    }
  },
  "cells": [
    {
      "cell_type": "markdown",
      "metadata": {
        "id": "view-in-github",
        "colab_type": "text"
      },
      "source": [
        "<a href=\"https://colab.research.google.com/github/JalesBussinguer/Remote_Sensing_Studies/blob/master/Desafio_Worcap_2020.ipynb\" target=\"_parent\"><img src=\"https://colab.research.google.com/assets/colab-badge.svg\" alt=\"Open In Colab\"/></a>"
      ]
    },
    {
      "cell_type": "code",
      "metadata": {
        "id": "dMMeUx7y94l1"
      },
      "source": [
        "# Importação das bibliotecas básicas\r\n",
        "\r\n",
        "import pandas as pd\r\n",
        "import numpy as np\r\n",
        "import io\r\n",
        "from google.colab import files\r\n",
        "import matplotlib.pyplot as plt\r\n",
        "import seaborn as sns\r\n",
        "\r\n",
        "# Importação das bibliotecas e módulos de machine learning\r\n",
        "\r\n",
        "from sklearn import ensemble, preprocessing, tree\r\n",
        "from sklearn.metrics import auc, confusion_matrix, roc_auc_score, roc_curve, precision_score, recall_score\r\n",
        "from sklearn.model_selection import train_test_split, StratifiedKFold, cross_val_score, GridSearchCV, RandomizedSearchCV\r\n",
        "from yellowbrick.classifier import ConfusionMatrix, ROCAUC\r\n",
        "from yellowbrick.model_selection import learning_curve"
      ],
      "execution_count": null,
      "outputs": []
    },
    {
      "cell_type": "code",
      "metadata": {
        "id": "f3felJqR_4vk",
        "colab": {
          "base_uri": "https://localhost:8080/",
          "height": 224
        },
        "outputId": "0f1b834c-8bb9-42bb-c1d2-020c73ebc7c4"
      },
      "source": [
        "# Importando os dados de treino\r\n",
        "\r\n",
        "df = \"https://raw.githubusercontent.com/JalesBussinguer/Remote_Sensing_Studies/master/data/worcap_2020/dados_verdade_terrestre.csv\"\r\n",
        "\r\n",
        "dados = pd.read_csv(df)\r\n",
        "\r\n",
        "dados.head()"
      ],
      "execution_count": null,
      "outputs": [
        {
          "output_type": "execute_result",
          "data": {
            "text/html": [
              "<div>\n",
              "<style scoped>\n",
              "    .dataframe tbody tr th:only-of-type {\n",
              "        vertical-align: middle;\n",
              "    }\n",
              "\n",
              "    .dataframe tbody tr th {\n",
              "        vertical-align: top;\n",
              "    }\n",
              "\n",
              "    .dataframe thead th {\n",
              "        text-align: right;\n",
              "    }\n",
              "</style>\n",
              "<table border=\"1\" class=\"dataframe\">\n",
              "  <thead>\n",
              "    <tr style=\"text-align: right;\">\n",
              "      <th></th>\n",
              "      <th>id</th>\n",
              "      <th>b1</th>\n",
              "      <th>b2</th>\n",
              "      <th>b3</th>\n",
              "      <th>b4</th>\n",
              "      <th>b5</th>\n",
              "      <th>b6</th>\n",
              "      <th>b7</th>\n",
              "      <th>b8</th>\n",
              "      <th>b9</th>\n",
              "      <th>pred_minus_obs_H_b1</th>\n",
              "      <th>pred_minus_obs_H_b2</th>\n",
              "      <th>pred_minus_obs_H_b3</th>\n",
              "      <th>pred_minus_obs_H_b4</th>\n",
              "      <th>pred_minus_obs_H_b5</th>\n",
              "      <th>pred_minus_obs_H_b6</th>\n",
              "      <th>pred_minus_obs_H_b7</th>\n",
              "      <th>pred_minus_obs_H_b8</th>\n",
              "      <th>pred_minus_obs_H_b9</th>\n",
              "      <th>pred_minus_obs_S_b1</th>\n",
              "      <th>pred_minus_obs_S_b2</th>\n",
              "      <th>pred_minus_obs_S_b3</th>\n",
              "      <th>pred_minus_obs_S_b4</th>\n",
              "      <th>pred_minus_obs_S_b5</th>\n",
              "      <th>pred_minus_obs_S_b6</th>\n",
              "      <th>pred_minus_obs_S_b7</th>\n",
              "      <th>pred_minus_obs_S_b8</th>\n",
              "      <th>pred_minus_obs_S_b9</th>\n",
              "      <th>label</th>\n",
              "    </tr>\n",
              "  </thead>\n",
              "  <tbody>\n",
              "    <tr>\n",
              "      <th>0</th>\n",
              "      <td>454</td>\n",
              "      <td>54</td>\n",
              "      <td>28</td>\n",
              "      <td>51</td>\n",
              "      <td>93</td>\n",
              "      <td>56</td>\n",
              "      <td>100</td>\n",
              "      <td>80</td>\n",
              "      <td>24</td>\n",
              "      <td>55</td>\n",
              "      <td>64.88</td>\n",
              "      <td>26.03</td>\n",
              "      <td>50.29</td>\n",
              "      <td>6.74</td>\n",
              "      <td>-30.83</td>\n",
              "      <td>-39.83</td>\n",
              "      <td>0.47</td>\n",
              "      <td>5.50</td>\n",
              "      <td>0.47</td>\n",
              "      <td>-24.52</td>\n",
              "      <td>-0.83</td>\n",
              "      <td>-3.99</td>\n",
              "      <td>-23.22</td>\n",
              "      <td>-0.94</td>\n",
              "      <td>-4.30</td>\n",
              "      <td>-23.22</td>\n",
              "      <td>-1.69</td>\n",
              "      <td>-4.55</td>\n",
              "      <td>s</td>\n",
              "    </tr>\n",
              "    <tr>\n",
              "      <th>1</th>\n",
              "      <td>457</td>\n",
              "      <td>54</td>\n",
              "      <td>29</td>\n",
              "      <td>51</td>\n",
              "      <td>88</td>\n",
              "      <td>51</td>\n",
              "      <td>91</td>\n",
              "      <td>95</td>\n",
              "      <td>24</td>\n",
              "      <td>55</td>\n",
              "      <td>56.28</td>\n",
              "      <td>20.62</td>\n",
              "      <td>42.67</td>\n",
              "      <td>10.16</td>\n",
              "      <td>-26.12</td>\n",
              "      <td>-32.05</td>\n",
              "      <td>-21.37</td>\n",
              "      <td>5.39</td>\n",
              "      <td>-0.30</td>\n",
              "      <td>-19.03</td>\n",
              "      <td>-0.54</td>\n",
              "      <td>-4.09</td>\n",
              "      <td>-22.24</td>\n",
              "      <td>-1.01</td>\n",
              "      <td>-4.93</td>\n",
              "      <td>-17.81</td>\n",
              "      <td>-0.53</td>\n",
              "      <td>-2.98</td>\n",
              "      <td>s</td>\n",
              "    </tr>\n",
              "    <tr>\n",
              "      <th>2</th>\n",
              "      <td>261</td>\n",
              "      <td>59</td>\n",
              "      <td>30</td>\n",
              "      <td>52</td>\n",
              "      <td>90</td>\n",
              "      <td>54</td>\n",
              "      <td>93</td>\n",
              "      <td>80</td>\n",
              "      <td>26</td>\n",
              "      <td>58</td>\n",
              "      <td>56.58</td>\n",
              "      <td>21.37</td>\n",
              "      <td>45.45</td>\n",
              "      <td>12.77</td>\n",
              "      <td>-28.17</td>\n",
              "      <td>-30.94</td>\n",
              "      <td>-1.30</td>\n",
              "      <td>3.64</td>\n",
              "      <td>-2.27</td>\n",
              "      <td>-21.04</td>\n",
              "      <td>-1.86</td>\n",
              "      <td>-5.61</td>\n",
              "      <td>-27.73</td>\n",
              "      <td>-1.15</td>\n",
              "      <td>-5.74</td>\n",
              "      <td>-21.81</td>\n",
              "      <td>-2.39</td>\n",
              "      <td>-5.07</td>\n",
              "      <td>s</td>\n",
              "    </tr>\n",
              "    <tr>\n",
              "      <th>3</th>\n",
              "      <td>8</td>\n",
              "      <td>53</td>\n",
              "      <td>27</td>\n",
              "      <td>49</td>\n",
              "      <td>95</td>\n",
              "      <td>49</td>\n",
              "      <td>92</td>\n",
              "      <td>63</td>\n",
              "      <td>25</td>\n",
              "      <td>54</td>\n",
              "      <td>66.97</td>\n",
              "      <td>24.43</td>\n",
              "      <td>49.28</td>\n",
              "      <td>8.08</td>\n",
              "      <td>-22.53</td>\n",
              "      <td>-28.25</td>\n",
              "      <td>19.78</td>\n",
              "      <td>3.75</td>\n",
              "      <td>0.92</td>\n",
              "      <td>-25.65</td>\n",
              "      <td>-2.09</td>\n",
              "      <td>-5.95</td>\n",
              "      <td>-39.27</td>\n",
              "      <td>-2.13</td>\n",
              "      <td>-8.73</td>\n",
              "      <td>-30.73</td>\n",
              "      <td>-2.42</td>\n",
              "      <td>-5.58</td>\n",
              "      <td>s</td>\n",
              "    </tr>\n",
              "    <tr>\n",
              "      <th>4</th>\n",
              "      <td>478</td>\n",
              "      <td>58</td>\n",
              "      <td>40</td>\n",
              "      <td>65</td>\n",
              "      <td>100</td>\n",
              "      <td>58</td>\n",
              "      <td>100</td>\n",
              "      <td>106</td>\n",
              "      <td>26</td>\n",
              "      <td>57</td>\n",
              "      <td>51.79</td>\n",
              "      <td>8.74</td>\n",
              "      <td>28.06</td>\n",
              "      <td>-1.00</td>\n",
              "      <td>-33.12</td>\n",
              "      <td>-41.04</td>\n",
              "      <td>-32.17</td>\n",
              "      <td>3.48</td>\n",
              "      <td>-2.08</td>\n",
              "      <td>-18.31</td>\n",
              "      <td>-0.20</td>\n",
              "      <td>-4.85</td>\n",
              "      <td>-21.15</td>\n",
              "      <td>-1.00</td>\n",
              "      <td>-4.84</td>\n",
              "      <td>-17.00</td>\n",
              "      <td>-0.91</td>\n",
              "      <td>-3.38</td>\n",
              "      <td>d</td>\n",
              "    </tr>\n",
              "  </tbody>\n",
              "</table>\n",
              "</div>"
            ],
            "text/plain": [
              "    id  b1  b2  ...  pred_minus_obs_S_b8  pred_minus_obs_S_b9  label\n",
              "0  454  54  28  ...                -1.69                -4.55     s \n",
              "1  457  54  29  ...                -0.53                -2.98     s \n",
              "2  261  59  30  ...                -2.39                -5.07     s \n",
              "3    8  53  27  ...                -2.42                -5.58     s \n",
              "4  478  58  40  ...                -0.91                -3.38     d \n",
              "\n",
              "[5 rows x 29 columns]"
            ]
          },
          "metadata": {
            "tags": []
          },
          "execution_count": 45
        }
      ]
    },
    {
      "cell_type": "markdown",
      "metadata": {
        "id": "B7rJnvxqKWik"
      },
      "source": [
        "O conjunto de dados **`treino.csv`** será utilizado para construir os modelos de aprendizagem de máquina. Este apresenta a \"verdade em terra\" para cada classe por meio da coluna `label`."
      ]
    },
    {
      "cell_type": "code",
      "metadata": {
        "id": "hl2HzNzhB32a"
      },
      "source": [
        "# Importação dos dados de validação\r\n",
        "\r\n",
        "dados_validacao = pd.read_csv(\"https://raw.githubusercontent.com/JalesBussinguer/Remote_Sensing_Studies/master/data/worcap_2020/dados_validacao.csv\")\r\n",
        "dados_validacao.head(5)\r\n",
        "\r\n",
        "dados_val_sid = dados_validacao.drop(columns=\"id\")"
      ],
      "execution_count": null,
      "outputs": []
    },
    {
      "cell_type": "markdown",
      "metadata": {
        "id": "SauMb3a4Lase"
      },
      "source": [
        "O conjunto **`teste.csv`** será utilizado para verificar a capacidade de generalização do modelo criado."
      ]
    },
    {
      "cell_type": "markdown",
      "metadata": {
        "id": "3EC7mGj0DcFR"
      },
      "source": [
        "## Dicionário de variáveis:\r\n",
        "\r\n",
        "* `id`: Identificação única da linha, alusiva a um pixel único das imagens;\r\n",
        "* `b1`: Banda do verde corresponde ao mês de setembro de 2010;\r\n",
        "* `b2`: Banda do vermelho corresponde ao mês de setembro de 2010;\r\n",
        "* `b3`: Banda do infravermelho próximo corresponde ao mês de setembro de 2010;\r\n",
        "* `b4`: Banda do verde corresponde ao mês de Março de 2011;\r\n",
        "* `b5`: Banda do vermelho corresponde ao mês de Março de 2011;\r\n",
        "* `b6`: Banda do infravermelho próximo corresponde ao mês de Março de 2011;\r\n",
        "* `b7`: Banda do verde corresponde ao mês de Maio de 2011;\r\n",
        "* `b8`: Banda do vermelho corresponde ao mês de Maio de 2011;\r\n",
        "* `b9`: Banda do infravermelho próximo corresponde ao mês de Maio de 2011;\r\n",
        "* `pred_minus_obs_S_b1` até `pred_minus_obs_S_b9`: Valores espectrais previstos (Com base na interpolação espacial) subtraídos dos valores espectrais reais para a classe \"s\";\r\n",
        "* `pred_minus_obs_H_b1` até `pred_minus_obs_H_b9`: Valores espectrais previstos (Com base na interpolação espacial) subtraídos dos valores espectrais reais para a classe \"h\".\r\n",
        "\r\n",
        "## Rótulos:\r\n",
        "\r\n",
        "* `S` = *Sugi* (Floresta composta predominantemente pela espécie [*Cryptomeria japonica*](https://pt.wikipedia.org/wiki/Cryptomeria_japonica))\r\n",
        "* `H` = *Hinoki* (Floresta composta predominantemente pela espécie [*Chamaecyparis obtusa*](https://en.wikipedia.org/wiki/Chamaecyparis_obtusa))\r\n",
        "* `D` = *Mixed Deciduous* (Formação florestal composta por diversas espécies deciduais ou caducifólias);\r\n",
        "* `O` = *Other* (Feição não-florestal)"
      ]
    },
    {
      "cell_type": "markdown",
      "metadata": {
        "id": "ZvX6DoSuV3cF"
      },
      "source": [
        "Por se tratar de um problema de classificação de múltiplas classes, os resultados obtidos com a utlização de Regressão Logística e KNN podem não ser acurados. Dessa forma, serão utilizados somente os algoritmos de Árvore de Decisão e Random Forest Classification."
      ]
    },
    {
      "cell_type": "markdown",
      "metadata": {
        "id": "bHjxwB0BYkYm"
      },
      "source": [
        "# Análise Exploratória"
      ]
    },
    {
      "cell_type": "markdown",
      "metadata": {
        "id": "6-axbCrv1kYi"
      },
      "source": [
        "Nesta primeira fase, é interessante verificar algumas características do dataset, para certificar que tudo está ok para a implementação do modelo de aprendizado de máquina."
      ]
    },
    {
      "cell_type": "markdown",
      "metadata": {
        "id": "4riqtJDeYs9b"
      },
      "source": [
        "## 1. Conferindo se existem dados faltando"
      ]
    },
    {
      "cell_type": "code",
      "metadata": {
        "id": "nHQHAWdIYxyx"
      },
      "source": [
        "# Expressão que conta os dados que faltam pelo tamanho do dataset, retornando a porcentagem faltante de dados\r\n",
        "\r\n",
        "dados.isnull().sum()/dados.shape[0]"
      ],
      "execution_count": null,
      "outputs": []
    },
    {
      "cell_type": "markdown",
      "metadata": {
        "id": "ZRsPDici2Srm"
      },
      "source": [
        "No conjunto de dados de treino, não há dados faltantes. Portanto, podemos presseguir na análise."
      ]
    },
    {
      "cell_type": "code",
      "metadata": {
        "id": "Ot-EeLShaceJ"
      },
      "source": [
        "dados_validacao.isnull().sum()/dados_validacao.shape[0]"
      ],
      "execution_count": null,
      "outputs": []
    },
    {
      "cell_type": "markdown",
      "metadata": {
        "id": "-OEf7jI4yNl-"
      },
      "source": [
        "No conjunto de dados de teste também não existem dados faltantes. Portanto, prosseguimos para uma análise dos tipos de dados que temos."
      ]
    },
    {
      "cell_type": "code",
      "metadata": {
        "id": "bLRkSvdB2zAS"
      },
      "source": [
        "# Verificação dos tipos de dados no conjunto de dados de treino\r\n",
        "\r\n",
        "dados.dtypes"
      ],
      "execution_count": null,
      "outputs": []
    },
    {
      "cell_type": "markdown",
      "metadata": {
        "id": "A8j2rhZf2_FA"
      },
      "source": [
        "Observa-se que no conjunto de dados de treino, existem três tipos de dados distintos:\r\n",
        "* Inteiros (int64): são os dados que representam os números digitais expressos nos pixels das imagens, e são diretamente relacionados à resposta espectral dos alvos da cena. Na coluna `id`, representam a identificação do pixel.\r\n",
        "* Flutuantes (float64): são dados que representam o resultado de uma estatística que mede a diferença entre uma resposta espectral modelada e a resposta espectral observada;\r\n",
        "* Texto (object): são os dados de rótulos dos pixels, representando a verdade terrestre das cenas."
      ]
    },
    {
      "cell_type": "code",
      "metadata": {
        "id": "YDmA7bZj6R11"
      },
      "source": [
        "# Verificação dos tipos de dados no conjunto de dados de treino\r\n",
        "\r\n",
        "dados_validacao.dtypes"
      ],
      "execution_count": null,
      "outputs": []
    },
    {
      "cell_type": "markdown",
      "metadata": {
        "id": "wns5tFhR6ckM"
      },
      "source": [
        "O conjunto de dados de teste apresenta a mesma estrutura de tipos de dados que o conjunto de treino. Uma vez que os conjuntos de dados são compatíveis estruturalmente, podemos seguir para a verificação de valores únicos."
      ]
    },
    {
      "cell_type": "code",
      "metadata": {
        "id": "JjAO41FM7AAX"
      },
      "source": [
        "# Valores únicos (dados de treino)\r\n",
        "\r\n",
        "dados.nunique()"
      ],
      "execution_count": null,
      "outputs": []
    },
    {
      "cell_type": "code",
      "metadata": {
        "id": "yYW5G8ZU7aWS"
      },
      "source": [
        "# Valores únicos (dados de teste)\r\n",
        "\r\n",
        "dados_validacao.nunique()"
      ],
      "execution_count": null,
      "outputs": []
    },
    {
      "cell_type": "markdown",
      "metadata": {
        "id": "xYwmgP0X_xmp"
      },
      "source": [
        "Vamos verificar agora a estatística descritiva do conjunto de dados de treino."
      ]
    },
    {
      "cell_type": "code",
      "metadata": {
        "id": "k8PuhKVIABp1"
      },
      "source": [
        "dados.describe()"
      ],
      "execution_count": null,
      "outputs": []
    },
    {
      "cell_type": "markdown",
      "metadata": {
        "id": "0by5yogIWhqs"
      },
      "source": [
        "# Construção do modelo:"
      ]
    },
    {
      "cell_type": "markdown",
      "metadata": {
        "id": "kdHwP3RUWwHH"
      },
      "source": [
        "## 1.  Pré-processamento:"
      ]
    },
    {
      "cell_type": "code",
      "metadata": {
        "id": "Tg-8ODPrBoKP"
      },
      "source": [
        "# Remoção da coluna de identificação do conjunto de dados de treino\r\n",
        "\r\n",
        "dados = dados.drop(columns=\"id\")"
      ],
      "execution_count": null,
      "outputs": []
    },
    {
      "cell_type": "code",
      "metadata": {
        "id": "SD1w4Y7gPhMS"
      },
      "source": [
        "# Separação dos atributos e dos rótulos\r\n",
        "\r\n",
        "X = dados.iloc[:,:-1].values # atributos (amostra de pixels)\r\n",
        "y = dados.iloc[:,-1].values # rótulos (verdade terreste)"
      ],
      "execution_count": null,
      "outputs": []
    },
    {
      "cell_type": "code",
      "metadata": {
        "colab": {
          "base_uri": "https://localhost:8080/"
        },
        "id": "LPtfVnyeCVYD",
        "outputId": "aba0b52b-b1c2-4e28-a1af-adce0910e1c6"
      },
      "source": [
        "# Separação das amostras de treino e de teste (80% - treino e 20% - teste)\r\n",
        "X_treino, X_teste, y_treino, y_teste = train_test_split(X, y, test_size=0.2, random_state=42)\r\n",
        "# Usamos o random_state = 42 paraeliminar a aleatoriedade caso venhamos a comparar diferentes modelos\r\n",
        "\r\n",
        "# One-hot encoding\r\n",
        "encoder = preprocessing.OneHotEncoder(sparse=False)\r\n",
        "y_treino = encoder.fit_transform(y_treino.reshape(-1, 1))\r\n",
        "y_teste = encoder.fit_transform(y_teste.reshape(-1, 1))\r\n",
        "# Informações importantes\r\n",
        "\r\n",
        "print(\"Formato dos dados de treino:\", \"X_treino =\", X_treino.shape, \"e y_treino =\", y_treino.shape)\r\n",
        "print(\"Formato dos dados de teste:\", \"X_teste =\", X_teste.shape, \"e y_teste =\", y_teste.shape)\r\n",
        "print()\r\n",
        "print(\"Número de classes:\", len(set(dados['label'].values)))\r\n",
        "print(\"Número de features:\", X_treino.shape[1])"
      ],
      "execution_count": null,
      "outputs": [
        {
          "output_type": "stream",
          "text": [
            "Formato dos dados de treino: X_treino = (167, 27) e y_treino = (167, 4)\n",
            "Formato dos dados de teste: X_teste = (42, 27) e y_teste = (42, 4)\n",
            "\n",
            "Número de classes: 4\n",
            "Número de features: 27\n"
          ],
          "name": "stdout"
        }
      ]
    },
    {
      "cell_type": "markdown",
      "metadata": {
        "id": "HdmZUtD7RmVY"
      },
      "source": [
        "Um indicativo de que tudo está ok é o fato do número de linhas ser igual para os conjuntos de dados de treino. O conjunto x possui 209 linhas (valores) e 27 colunas (features), enquanto o conjunto y possui 209 linhas (valores) e um única coluna com os rótulos.\r\n",
        "\r\n",
        "Para o conjunto de teste, o indicativo de que está tudo certo é a quantidade de colunas (features), que bate com a quantidade de features do conjunto de treino."
      ]
    },
    {
      "cell_type": "markdown",
      "metadata": {
        "id": "qLTDmjeo9l0Y"
      },
      "source": [
        "# 3. Criando os modelos"
      ]
    },
    {
      "cell_type": "markdown",
      "metadata": {
        "id": "NlHW4SRjOj4h"
      },
      "source": [
        "## *Random Forest Classifier*"
      ]
    },
    {
      "cell_type": "code",
      "metadata": {
        "id": "CZPsY6tpzdJU"
      },
      "source": [
        "rfc = ensemble.RandomForestClassifier(max_features='auto', n_estimators=1000, n_jobs=-1, min_samples_leaf=2, random_state=42, criterion='entropy')"
      ],
      "execution_count": null,
      "outputs": []
    },
    {
      "cell_type": "code",
      "metadata": {
        "id": "cAvmcpyrks0l",
        "colab": {
          "base_uri": "https://localhost:8080/"
        },
        "outputId": "2d5d6d55-28f2-4c3e-bb58-01030c5628bd"
      },
      "source": [
        "rfc.fit(X_treino, y_treino)"
      ],
      "execution_count": null,
      "outputs": [
        {
          "output_type": "execute_result",
          "data": {
            "text/plain": [
              "RandomForestClassifier(bootstrap=True, ccp_alpha=0.0, class_weight=None,\n",
              "                       criterion='entropy', max_depth=None, max_features='auto',\n",
              "                       max_leaf_nodes=None, max_samples=None,\n",
              "                       min_impurity_decrease=0.0, min_impurity_split=None,\n",
              "                       min_samples_leaf=2, min_samples_split=2,\n",
              "                       min_weight_fraction_leaf=0.0, n_estimators=1000,\n",
              "                       n_jobs=-1, oob_score=False, random_state=42, verbose=0,\n",
              "                       warm_start=False)"
            ]
          },
          "metadata": {
            "tags": []
          },
          "execution_count": 253
        }
      ]
    },
    {
      "cell_type": "code",
      "metadata": {
        "colab": {
          "base_uri": "https://localhost:8080/"
        },
        "id": "S1F01ImUFK6m",
        "outputId": "e267760d-4d41-4593-8d76-b121d0cab9ba"
      },
      "source": [
        "rfc.score(X_teste, y_teste)"
      ],
      "execution_count": null,
      "outputs": [
        {
          "output_type": "execute_result",
          "data": {
            "text/plain": [
              "0.8809523809523809"
            ]
          },
          "metadata": {
            "tags": []
          },
          "execution_count": 184
        }
      ]
    },
    {
      "cell_type": "code",
      "metadata": {
        "id": "n5310pcXF9tq"
      },
      "source": [
        "predicao_teste = rfc.predict(X_teste)"
      ],
      "execution_count": null,
      "outputs": []
    },
    {
      "cell_type": "code",
      "metadata": {
        "colab": {
          "base_uri": "https://localhost:8080/"
        },
        "id": "s_-wR9YjGwpa",
        "outputId": "0a78f9e9-e646-4a4a-f988-7d613ca0fc57"
      },
      "source": [
        "precision_score(y_teste, predicao_teste, average=\"micro\")"
      ],
      "execution_count": null,
      "outputs": [
        {
          "output_type": "execute_result",
          "data": {
            "text/plain": [
              "0.8809523809523809"
            ]
          },
          "metadata": {
            "tags": []
          },
          "execution_count": 256
        }
      ]
    },
    {
      "cell_type": "markdown",
      "metadata": {
        "id": "m1bdcO2PIaTn"
      },
      "source": [
        "## Grid Search"
      ]
    },
    {
      "cell_type": "code",
      "metadata": {
        "id": "orLP6M3TIdzD"
      },
      "source": [
        "rf4 = ensemble.RandomForestClassifier()"
      ],
      "execution_count": null,
      "outputs": []
    },
    {
      "cell_type": "code",
      "metadata": {
        "id": "66v3sxN2I6B-"
      },
      "source": [
        "params = {\"max_features\": [1,5,10,15,20,25,'auto'], \"n_estimators\": [1000, 1500], \"min_samples_leaf\": [1,2,3,4,5], \"random_state\": [42], \"criterion\": [\"gini\", \"entropy\"]}"
      ],
      "execution_count": null,
      "outputs": []
    },
    {
      "cell_type": "code",
      "metadata": {
        "colab": {
          "base_uri": "https://localhost:8080/"
        },
        "id": "cu-zDiPEJZIM",
        "outputId": "365f2cfb-af81-4daf-f40e-d965ce18b1ec"
      },
      "source": [
        "search = GridSearchCV(rf4, params, n_jobs=-1).fit(X_treino, y_treino)\r\n",
        "\r\n",
        "print(f'Melhor resultado: {search.best_score_} para {search.best_params_}')\r\n"
      ],
      "execution_count": null,
      "outputs": [
        {
          "output_type": "stream",
          "text": [
            "Melhor resultado: 0.8679144385026738 para {'criterion': 'entropy', 'max_features': 20, 'min_samples_leaf': 3, 'n_estimators': 1500, 'random_state': 42}\n"
          ],
          "name": "stdout"
        }
      ]
    },
    {
      "cell_type": "code",
      "metadata": {
        "colab": {
          "base_uri": "https://localhost:8080/"
        },
        "id": "o1jYG9shKr_W",
        "outputId": "7f2eaf88-2b27-4d6e-bbff-11bef028afc8"
      },
      "source": [
        " random_search = RandomizedSearchCV(rf4, params, n_iter=100, n_jobs=-1).fit(X_treino, y_treino)\r\n",
        " print(f'Melhor resultado: {random_search.best_score_} para {random_search.best_params_}')"
      ],
      "execution_count": null,
      "outputs": [
        {
          "output_type": "stream",
          "text": [
            "Melhor resultado: 0.8679144385026738 para {'random_state': 42, 'n_estimators': 1000, 'min_samples_leaf': 2, 'max_features': 25, 'criterion': 'entropy'}\n"
          ],
          "name": "stdout"
        }
      ]
    },
    {
      "cell_type": "code",
      "metadata": {
        "id": "nzysNaDvrwc5"
      },
      "source": [
        "feature_importances = search.best_estimator_.feature_importances_"
      ],
      "execution_count": null,
      "outputs": []
    },
    {
      "cell_type": "code",
      "metadata": {
        "colab": {
          "base_uri": "https://localhost:8080/"
        },
        "id": "l6skJoIoCnwF",
        "outputId": "c9b4f7ed-9a19-495d-e2e1-e8444cb95fc5"
      },
      "source": [
        "feature_importances"
      ],
      "execution_count": null,
      "outputs": [
        {
          "output_type": "execute_result",
          "data": {
            "text/plain": [
              "array([0.07653951, 0.21329847, 0.02026893, 0.06863744, 0.00971575,\n",
              "       0.01818796, 0.00320315, 0.0650577 , 0.04137094, 0.11248468,\n",
              "       0.12403427, 0.01091852, 0.02623934, 0.02500618, 0.01203808,\n",
              "       0.00905053, 0.07428282, 0.04265619, 0.00726196, 0.00501521,\n",
              "       0.00505848, 0.0058373 , 0.0036436 , 0.00314348, 0.00498376,\n",
              "       0.00321217, 0.00885358])"
            ]
          },
          "metadata": {
            "tags": []
          },
          "execution_count": 167
        }
      ]
    },
    {
      "cell_type": "code",
      "metadata": {
        "id": "quzLJdUaCpbl"
      },
      "source": [
        ""
      ],
      "execution_count": null,
      "outputs": []
    },
    {
      "cell_type": "markdown",
      "metadata": {
        "id": "IoJck0CTHgeI"
      },
      "source": [
        "## Resultado final"
      ]
    },
    {
      "cell_type": "code",
      "metadata": {
        "id": "FUq80V68HiGO"
      },
      "source": [
        "y_verificacao = rfc.predict(dados_val_sid)"
      ],
      "execution_count": null,
      "outputs": []
    },
    {
      "cell_type": "code",
      "metadata": {
        "id": "engukQPTIQEE"
      },
      "source": [
        "y_verificacao = encoder.inverse_transform(y_verificacao).reshape(-1)"
      ],
      "execution_count": null,
      "outputs": []
    },
    {
      "cell_type": "code",
      "metadata": {
        "colab": {
          "base_uri": "https://localhost:8080/"
        },
        "id": "Wfnb17DkIWdz",
        "outputId": "066c25bd-cb26-4f49-d155-09051cf48dca"
      },
      "source": [
        "y_verificacao"
      ],
      "execution_count": null,
      "outputs": [
        {
          "output_type": "execute_result",
          "data": {
            "text/plain": [
              "array(['h ', 's ', 's ', 'o ', 's ', 'd ', 'h ', 's ', 'h ', 'o ', 's ',\n",
              "       's ', 's ', 'd ', 'd ', 'o ', 's ', 's ', 'd ', 's ', 'o ', 'd ',\n",
              "       's ', 's ', 's ', 'd ', 'o ', 's ', 'd ', 's ', 'd ', 's ', 'd ',\n",
              "       'o ', 'h ', 'h ', 's ', 'd ', 'd ', 'o ', 'h ', 's ', 'd ', 's ',\n",
              "       'h ', 'o ', 's ', 'o ', 'o ', 'd ', 's ', 'd ', 'h ', 'h ', 'h ',\n",
              "       's ', 'd ', 'd ', 's ', 's ', 's ', 'h ', 's ', 's ', 'd ', 's ',\n",
              "       'd ', 'h ', 'd ', 's ', 'd ', 's ', 'd ', 'd ', 'd ', 'h ', 'd ',\n",
              "       'h ', 's ', 'h ', 'o ', 's ', 's ', 'h ', 'o ', 's ', 'd ', 'd ',\n",
              "       'd ', 's ', 'h ', 'd ', 's ', 's ', 's ', 's ', 'd ', 'd ', 'o ',\n",
              "       'h ', 'd ', 'd ', 'h ', 's ', 'h ', 's ', 's ', 's ', 's ', 'd ',\n",
              "       's ', 'd ', 'o ', 's ', 'd ', 'd ', 'o ', 's ', 'd ', 's ', 'd ',\n",
              "       's ', 'h ', 's ', 'd ', 'd ', 'h ', 'h ', 's ', 's ', 'o ', 'h ',\n",
              "       's ', 's ', 'd ', 'h ', 'h ', 'd ', 's ', 'h ', 'd ', 's ', 'd ',\n",
              "       'd ', 's ', 'o ', 'd ', 's ', 'd ', 'd ', 's ', 'o ', 's ', 's ',\n",
              "       'd ', 'd ', 's ', 'd ', 'h ', 'h ', 'd ', 's ', 'h ', 'o ', 's ',\n",
              "       's ', 'o ', 'h ', 's ', 'o ', 's ', 'd ', 'o ', 's ', 'h ', 'd ',\n",
              "       'd ', 'h ', 's ', 's ', 'h ', 'h ', 'o ', 'h ', 'd ', 'o ', 'd ',\n",
              "       's ', 's ', 'h ', 's ', 's ', 'd ', 'd ', 'd ', 'h ', 'd ', 'h ',\n",
              "       'd ', 's ', 'o ', 'd ', 's ', 'd ', 's ', 'h ', 'd ', 's ', 'd ',\n",
              "       's ', 'd ', 'd ', 'd ', 'd ', 'd ', 'd ', 'd ', 's ', 'd ', 's ',\n",
              "       'd ', 'o ', 'h ', 'd ', 'o ', 's ', 's ', 'd ', 's ', 's ', 's ',\n",
              "       'h ', 'o ', 'd ', 's ', 's ', 's ', 'd ', 's ', 'd ', 'd ', 'd ',\n",
              "       'd ', 'o ', 'd ', 's ', 'o ', 'd ', 'o ', 'o ', 'd ', 's ', 'o ',\n",
              "       'o ', 'h ', 'h ', 'h ', 'd ', 'o ', 'h ', 'h ', 'h ', 's ', 's ',\n",
              "       'd ', 's ', 'o ', 'd ', 'd ', 's ', 'd ', 's ', 'h ', 's ', 'o ',\n",
              "       'o ', 'o ', 's ', 'o ', 'o ', 's ', 's ', 'h ', 'h ', 's ', 'd ',\n",
              "       's ', 'd ', 'd ', 'd ', 'd ', 'o ', 's ', 's ', 'h ', 'd ', 'd ',\n",
              "       's ', 's ', 's ', 'd ', 'd ', 'd ', 'd ', 'd ', 's ', 's ', 'd ',\n",
              "       's ', 'd ', 'd ', 'd ', 's ', 'h '], dtype=object)"
            ]
          },
          "metadata": {
            "tags": []
          },
          "execution_count": 203
        }
      ]
    },
    {
      "cell_type": "code",
      "metadata": {
        "id": "pHm7NxkgIaCt"
      },
      "source": [
        "index = dados_validacao[\"id\"]\r\n",
        "columns = ['label']\r\n"
      ],
      "execution_count": null,
      "outputs": []
    },
    {
      "cell_type": "code",
      "metadata": {
        "id": "xHYT3_rnInH4"
      },
      "source": [
        "output = pd.DataFrame(y_verificacao, index=index, columns=columns)"
      ],
      "execution_count": null,
      "outputs": []
    },
    {
      "cell_type": "code",
      "metadata": {
        "id": "NIg2IyFmLSmL"
      },
      "source": [
        "output.to_csv('result.csv', sep=\",\")"
      ],
      "execution_count": null,
      "outputs": []
    },
    {
      "cell_type": "code",
      "metadata": {
        "colab": {
          "base_uri": "https://localhost:8080/",
          "height": 419
        },
        "id": "I_FIJuTcLqa8",
        "outputId": "ee864b6d-f55b-4ff4-a053-89d9dea36987"
      },
      "source": [
        "\r\n",
        "pd.read_csv('result.csv')"
      ],
      "execution_count": null,
      "outputs": [
        {
          "output_type": "execute_result",
          "data": {
            "text/html": [
              "<div>\n",
              "<style scoped>\n",
              "    .dataframe tbody tr th:only-of-type {\n",
              "        vertical-align: middle;\n",
              "    }\n",
              "\n",
              "    .dataframe tbody tr th {\n",
              "        vertical-align: top;\n",
              "    }\n",
              "\n",
              "    .dataframe thead th {\n",
              "        text-align: right;\n",
              "    }\n",
              "</style>\n",
              "<table border=\"1\" class=\"dataframe\">\n",
              "  <thead>\n",
              "    <tr style=\"text-align: right;\">\n",
              "      <th></th>\n",
              "      <th>id</th>\n",
              "      <th>label</th>\n",
              "    </tr>\n",
              "  </thead>\n",
              "  <tbody>\n",
              "    <tr>\n",
              "      <th>0</th>\n",
              "      <td>356</td>\n",
              "      <td>h</td>\n",
              "    </tr>\n",
              "    <tr>\n",
              "      <th>1</th>\n",
              "      <td>202</td>\n",
              "      <td>s</td>\n",
              "    </tr>\n",
              "    <tr>\n",
              "      <th>2</th>\n",
              "      <td>183</td>\n",
              "      <td>s</td>\n",
              "    </tr>\n",
              "    <tr>\n",
              "      <th>3</th>\n",
              "      <td>306</td>\n",
              "      <td>o</td>\n",
              "    </tr>\n",
              "    <tr>\n",
              "      <th>4</th>\n",
              "      <td>511</td>\n",
              "      <td>s</td>\n",
              "    </tr>\n",
              "    <tr>\n",
              "      <th>...</th>\n",
              "      <td>...</td>\n",
              "      <td>...</td>\n",
              "    </tr>\n",
              "    <tr>\n",
              "      <th>309</th>\n",
              "      <td>7</td>\n",
              "      <td>d</td>\n",
              "    </tr>\n",
              "    <tr>\n",
              "      <th>310</th>\n",
              "      <td>336</td>\n",
              "      <td>d</td>\n",
              "    </tr>\n",
              "    <tr>\n",
              "      <th>311</th>\n",
              "      <td>345</td>\n",
              "      <td>d</td>\n",
              "    </tr>\n",
              "    <tr>\n",
              "      <th>312</th>\n",
              "      <td>380</td>\n",
              "      <td>s</td>\n",
              "    </tr>\n",
              "    <tr>\n",
              "      <th>313</th>\n",
              "      <td>1</td>\n",
              "      <td>h</td>\n",
              "    </tr>\n",
              "  </tbody>\n",
              "</table>\n",
              "<p>314 rows × 2 columns</p>\n",
              "</div>"
            ],
            "text/plain": [
              "      id label\n",
              "0    356    h \n",
              "1    202    s \n",
              "2    183    s \n",
              "3    306    o \n",
              "4    511    s \n",
              "..   ...   ...\n",
              "309    7    d \n",
              "310  336    d \n",
              "311  345    d \n",
              "312  380    s \n",
              "313    1    h \n",
              "\n",
              "[314 rows x 2 columns]"
            ]
          },
          "metadata": {
            "tags": []
          },
          "execution_count": 259
        }
      ]
    },
    {
      "cell_type": "code",
      "metadata": {
        "colab": {
          "base_uri": "https://localhost:8080/",
          "height": 17
        },
        "id": "auZOJy85Ql5P",
        "outputId": "d8dbf78e-0f64-490e-aa28-8fe7bc132998"
      },
      "source": [
        "from google.colab import files\r\n",
        "files.download(\"result.csv\")"
      ],
      "execution_count": null,
      "outputs": [
        {
          "output_type": "display_data",
          "data": {
            "application/javascript": [
              "\n",
              "    async function download(id, filename, size) {\n",
              "      if (!google.colab.kernel.accessAllowed) {\n",
              "        return;\n",
              "      }\n",
              "      const div = document.createElement('div');\n",
              "      const label = document.createElement('label');\n",
              "      label.textContent = `Downloading \"${filename}\": `;\n",
              "      div.appendChild(label);\n",
              "      const progress = document.createElement('progress');\n",
              "      progress.max = size;\n",
              "      div.appendChild(progress);\n",
              "      document.body.appendChild(div);\n",
              "\n",
              "      const buffers = [];\n",
              "      let downloaded = 0;\n",
              "\n",
              "      const channel = await google.colab.kernel.comms.open(id);\n",
              "      // Send a message to notify the kernel that we're ready.\n",
              "      channel.send({})\n",
              "\n",
              "      for await (const message of channel.messages) {\n",
              "        // Send a message to notify the kernel that we're ready.\n",
              "        channel.send({})\n",
              "        if (message.buffers) {\n",
              "          for (const buffer of message.buffers) {\n",
              "            buffers.push(buffer);\n",
              "            downloaded += buffer.byteLength;\n",
              "            progress.value = downloaded;\n",
              "          }\n",
              "        }\n",
              "      }\n",
              "      const blob = new Blob(buffers, {type: 'application/binary'});\n",
              "      const a = document.createElement('a');\n",
              "      a.href = window.URL.createObjectURL(blob);\n",
              "      a.download = filename;\n",
              "      div.appendChild(a);\n",
              "      a.click();\n",
              "      div.remove();\n",
              "    }\n",
              "  "
            ],
            "text/plain": [
              "<IPython.core.display.Javascript object>"
            ]
          },
          "metadata": {
            "tags": []
          }
        },
        {
          "output_type": "display_data",
          "data": {
            "application/javascript": [
              "download(\"download_7f7526e0-4bd2-4b97-bd0b-c62a3ef4bdb4\", \"result.csv\", 948)"
            ],
            "text/plain": [
              "<IPython.core.display.Javascript object>"
            ]
          },
          "metadata": {
            "tags": []
          }
        }
      ]
    }
  ]
}