{
  "nbformat": 4,
  "nbformat_minor": 0,
  "metadata": {
    "colab": {
      "name": "Desafio_Worcap_2020_91,1%.ipynb",
      "provenance": [],
      "collapsed_sections": [],
      "authorship_tag": "ABX9TyOY+LtJuFHD6icri8Q0tQJP",
      "include_colab_link": true
    },
    "kernelspec": {
      "name": "python3",
      "display_name": "Python 3"
    }
  },
  "cells": [
    {
      "cell_type": "markdown",
      "metadata": {
        "id": "view-in-github",
        "colab_type": "text"
      },
      "source": [
        "<a href=\"https://colab.research.google.com/github/JalesBussinguer/Remote_Sensing_Studies/blob/master/Desafio_Worcap_2020.ipynb\" target=\"_parent\"><img src=\"https://colab.research.google.com/assets/colab-badge.svg\" alt=\"Open In Colab\"/></a>"
      ]
    },
    {
      "cell_type": "markdown",
      "metadata": {
        "id": "3C9d-L8Z9yKh"
      },
      "source": [
        "<p align=\"center\"><img src=\"https://static.wixstatic.com/media/09958c_cebd579d09884269878a3634644c00a9~mv2.png\"></p>\r\n",
        "\r\n",
        "<p align=\"center\"><img src=\"https://static.wixstatic.com/media/09958c_c1a4cb025a914c62b0bca050fcdfc671~mv2.png\"></p>"
      ]
    },
    {
      "cell_type": "markdown",
      "metadata": {
        "id": "-AdktAGnj4u9"
      },
      "source": [
        "A ideia desse projeto nasceu da minha participação no hackathon do WorCAP 2020, juntamente com outros dois colegas.\r\n",
        "\r\n",
        "Embora não tenhamos obtido um resultado satisfatório no evento, decidi revisitar o desafio e propor a minha solução, como forma de praticar a programação e aprofundar meus conhecimentos em *machine learning*.\r\n",
        "\r\n",
        "Todos os detalhes do desafio, do conjunto de dados e da construção do modelo estão contidos em meu site, neste link."
      ]
    },
    {
      "cell_type": "markdown",
      "metadata": {
        "id": "wyM2Mt-SI-Ia"
      },
      "source": [
        "## O Desafio\r\n",
        "\r\n",
        "O desafio apresentado durante o hackaton do WorCAP 2020 na plataforma Kaggle baseia-se no artigo \"***Using geographically weighted variables for image classification***\", publicado por **Johnson, Tateishi & Xie (2012)**.\r\n",
        "\r\n",
        "Este consiste basicamente em uma classificação multiclasse, onde algoritmos de aprendizado de máquina devem ser utilizados para classificar amostras de pixels derivados de imagens de satélite e interpolação espacial.\r\n",
        "\r\n",
        "O modelo deve apresentar a maior acurácia possível, isto é, a porcentagem de acertos que o modelo de classificação é capaz de predizer."
      ]
    },
    {
      "cell_type": "markdown",
      "metadata": {
        "id": "mTg30UmLJC4J"
      },
      "source": [
        "## Objetivos do projeto\r\n",
        "\r\n",
        "*   **Objetivo geral**: Construir um modelo de aprendizado de máquina capaz de retornar uma acurácia superior ao do estudo original (85,9%) na classificação dos dados, sem a ocorrência de superadequação (*overfitting*);\r\n",
        "\r\n",
        "*   **Objetivos específicos**:\r\n",
        "\r\n",
        "  *   Praticar e aprofundar os conceitos e ferramentas de aprendizado de máquina;\r\n",
        "  *   Praticar a programação em Python."
      ]
    },
    {
      "cell_type": "markdown",
      "metadata": {
        "id": "sOWYGmDTL19G"
      },
      "source": [
        "## Índice\r\n",
        "\r\n",
        "1.   Importações\r\n",
        "  \r\n",
        "  1.1. Importação das bibliotecas\r\n",
        "  \r\n",
        "  1.2. Importação dos dados\r\n",
        "\r\n",
        "  1.3. Dicionário das variáveis preditoras (atributos)\r\n",
        "\r\n",
        "  1.4. Dicionário das variáveis-alvo (rótulos)\r\n",
        "\r\n",
        "2.   Verificação dos conjuntos de dados\r\n",
        "  \r\n",
        "  2.1. Conferindo se há falta de dados\r\n",
        "\r\n",
        "  2.2. Conferindo os tipos de dados\r\n",
        "\r\n",
        "  2.3. Verificando o balanceamento das classes\r\n",
        "\r\n",
        "3. Construção do modelo\r\n",
        "\r\n",
        "  3.1. Preparação dos dados\r\n",
        "\r\n",
        "  3.2. Modelo-padrão (*Random Forest Classifier - default*)\r\n",
        "\r\n",
        "  3.3. Otimização dos hiperparâmetros (*Grid Search*)\r\n",
        "\r\n",
        "  3.4. Performance dos modelos candidatos com o conjunto de dados de teste\r\n",
        "\r\n",
        "4. Conclusões"
      ]
    },
    {
      "cell_type": "markdown",
      "metadata": {
        "id": "u1hkPAzRUK-P"
      },
      "source": [
        "---"
      ]
    },
    {
      "cell_type": "markdown",
      "metadata": {
        "id": "XCBXjsnIoF2r"
      },
      "source": [
        "# 1. Importações"
      ]
    },
    {
      "cell_type": "markdown",
      "metadata": {
        "id": "E5eTcFE0oXCr"
      },
      "source": [
        "## 1.1. Importação das bibliotecas"
      ]
    },
    {
      "cell_type": "code",
      "metadata": {
        "id": "dMMeUx7y94l1"
      },
      "source": [
        "# Importação das bibliotecas básicas\r\n",
        "import pandas as pd\r\n",
        "import numpy as np\r\n",
        "\r\n",
        "# Importação das bibliotecas de visualização\r\n",
        "import matplotlib.pyplot as plt\r\n",
        "import seaborn as sns\r\n",
        "from yellowbrick.model_selection import ValidationCurve, LearningCurve\r\n",
        "\r\n",
        "# Importação das bibliotecas e módulos de machine learning\r\n",
        "from sklearn.ensemble import RandomForestClassifier\r\n",
        "from sklearn.metrics import confusion_matrix, accuracy_score, cohen_kappa_score\r\n",
        "from sklearn.model_selection import GridSearchCV\r\n",
        "\r\n",
        "# Suprimir os warnings\r\n",
        "from warnings import simplefilter\r\n",
        "simplefilter(action='ignore', category=FutureWarning)"
      ],
      "execution_count": 50,
      "outputs": []
    },
    {
      "cell_type": "markdown",
      "metadata": {
        "id": "uo8Bm1LjoeRi"
      },
      "source": [
        "## 1.2. Importação dos dados"
      ]
    },
    {
      "cell_type": "code",
      "metadata": {
        "id": "f3felJqR_4vk",
        "colab": {
          "base_uri": "https://localhost:8080/",
          "height": 224
        },
        "outputId": "24eb5c7a-587d-4e07-ebf3-5669f7b1e74e"
      },
      "source": [
        "# Importando os dados de treinamento\r\n",
        "\r\n",
        "dados_treino = pd.read_csv(\"https://raw.githubusercontent.com/JalesBussinguer/Remote_Sensing_Studies/master/data/worcap_2020/dados_treino.csv\")\r\n",
        "\r\n",
        "dados_treino.head()"
      ],
      "execution_count": 3,
      "outputs": [
        {
          "output_type": "execute_result",
          "data": {
            "text/html": [
              "<div>\n",
              "<style scoped>\n",
              "    .dataframe tbody tr th:only-of-type {\n",
              "        vertical-align: middle;\n",
              "    }\n",
              "\n",
              "    .dataframe tbody tr th {\n",
              "        vertical-align: top;\n",
              "    }\n",
              "\n",
              "    .dataframe thead th {\n",
              "        text-align: right;\n",
              "    }\n",
              "</style>\n",
              "<table border=\"1\" class=\"dataframe\">\n",
              "  <thead>\n",
              "    <tr style=\"text-align: right;\">\n",
              "      <th></th>\n",
              "      <th>id</th>\n",
              "      <th>b1</th>\n",
              "      <th>b2</th>\n",
              "      <th>b3</th>\n",
              "      <th>b4</th>\n",
              "      <th>b5</th>\n",
              "      <th>b6</th>\n",
              "      <th>b7</th>\n",
              "      <th>b8</th>\n",
              "      <th>b9</th>\n",
              "      <th>pred_minus_obs_H_b1</th>\n",
              "      <th>pred_minus_obs_H_b2</th>\n",
              "      <th>pred_minus_obs_H_b3</th>\n",
              "      <th>pred_minus_obs_H_b4</th>\n",
              "      <th>pred_minus_obs_H_b5</th>\n",
              "      <th>pred_minus_obs_H_b6</th>\n",
              "      <th>pred_minus_obs_H_b7</th>\n",
              "      <th>pred_minus_obs_H_b8</th>\n",
              "      <th>pred_minus_obs_H_b9</th>\n",
              "      <th>pred_minus_obs_S_b1</th>\n",
              "      <th>pred_minus_obs_S_b2</th>\n",
              "      <th>pred_minus_obs_S_b3</th>\n",
              "      <th>pred_minus_obs_S_b4</th>\n",
              "      <th>pred_minus_obs_S_b5</th>\n",
              "      <th>pred_minus_obs_S_b6</th>\n",
              "      <th>pred_minus_obs_S_b7</th>\n",
              "      <th>pred_minus_obs_S_b8</th>\n",
              "      <th>pred_minus_obs_S_b9</th>\n",
              "      <th>label</th>\n",
              "    </tr>\n",
              "  </thead>\n",
              "  <tbody>\n",
              "    <tr>\n",
              "      <th>0</th>\n",
              "      <td>454</td>\n",
              "      <td>54</td>\n",
              "      <td>28</td>\n",
              "      <td>51</td>\n",
              "      <td>93</td>\n",
              "      <td>56</td>\n",
              "      <td>100</td>\n",
              "      <td>80</td>\n",
              "      <td>24</td>\n",
              "      <td>55</td>\n",
              "      <td>64.88</td>\n",
              "      <td>26.03</td>\n",
              "      <td>50.29</td>\n",
              "      <td>6.74</td>\n",
              "      <td>-30.83</td>\n",
              "      <td>-39.83</td>\n",
              "      <td>0.47</td>\n",
              "      <td>5.50</td>\n",
              "      <td>0.47</td>\n",
              "      <td>-24.52</td>\n",
              "      <td>-0.83</td>\n",
              "      <td>-3.99</td>\n",
              "      <td>-23.22</td>\n",
              "      <td>-0.94</td>\n",
              "      <td>-4.30</td>\n",
              "      <td>-23.22</td>\n",
              "      <td>-1.69</td>\n",
              "      <td>-4.55</td>\n",
              "      <td>s</td>\n",
              "    </tr>\n",
              "    <tr>\n",
              "      <th>1</th>\n",
              "      <td>457</td>\n",
              "      <td>54</td>\n",
              "      <td>29</td>\n",
              "      <td>51</td>\n",
              "      <td>88</td>\n",
              "      <td>51</td>\n",
              "      <td>91</td>\n",
              "      <td>95</td>\n",
              "      <td>24</td>\n",
              "      <td>55</td>\n",
              "      <td>56.28</td>\n",
              "      <td>20.62</td>\n",
              "      <td>42.67</td>\n",
              "      <td>10.16</td>\n",
              "      <td>-26.12</td>\n",
              "      <td>-32.05</td>\n",
              "      <td>-21.37</td>\n",
              "      <td>5.39</td>\n",
              "      <td>-0.30</td>\n",
              "      <td>-19.03</td>\n",
              "      <td>-0.54</td>\n",
              "      <td>-4.09</td>\n",
              "      <td>-22.24</td>\n",
              "      <td>-1.01</td>\n",
              "      <td>-4.93</td>\n",
              "      <td>-17.81</td>\n",
              "      <td>-0.53</td>\n",
              "      <td>-2.98</td>\n",
              "      <td>s</td>\n",
              "    </tr>\n",
              "    <tr>\n",
              "      <th>2</th>\n",
              "      <td>261</td>\n",
              "      <td>59</td>\n",
              "      <td>30</td>\n",
              "      <td>52</td>\n",
              "      <td>90</td>\n",
              "      <td>54</td>\n",
              "      <td>93</td>\n",
              "      <td>80</td>\n",
              "      <td>26</td>\n",
              "      <td>58</td>\n",
              "      <td>56.58</td>\n",
              "      <td>21.37</td>\n",
              "      <td>45.45</td>\n",
              "      <td>12.77</td>\n",
              "      <td>-28.17</td>\n",
              "      <td>-30.94</td>\n",
              "      <td>-1.30</td>\n",
              "      <td>3.64</td>\n",
              "      <td>-2.27</td>\n",
              "      <td>-21.04</td>\n",
              "      <td>-1.86</td>\n",
              "      <td>-5.61</td>\n",
              "      <td>-27.73</td>\n",
              "      <td>-1.15</td>\n",
              "      <td>-5.74</td>\n",
              "      <td>-21.81</td>\n",
              "      <td>-2.39</td>\n",
              "      <td>-5.07</td>\n",
              "      <td>s</td>\n",
              "    </tr>\n",
              "    <tr>\n",
              "      <th>3</th>\n",
              "      <td>8</td>\n",
              "      <td>53</td>\n",
              "      <td>27</td>\n",
              "      <td>49</td>\n",
              "      <td>95</td>\n",
              "      <td>49</td>\n",
              "      <td>92</td>\n",
              "      <td>63</td>\n",
              "      <td>25</td>\n",
              "      <td>54</td>\n",
              "      <td>66.97</td>\n",
              "      <td>24.43</td>\n",
              "      <td>49.28</td>\n",
              "      <td>8.08</td>\n",
              "      <td>-22.53</td>\n",
              "      <td>-28.25</td>\n",
              "      <td>19.78</td>\n",
              "      <td>3.75</td>\n",
              "      <td>0.92</td>\n",
              "      <td>-25.65</td>\n",
              "      <td>-2.09</td>\n",
              "      <td>-5.95</td>\n",
              "      <td>-39.27</td>\n",
              "      <td>-2.13</td>\n",
              "      <td>-8.73</td>\n",
              "      <td>-30.73</td>\n",
              "      <td>-2.42</td>\n",
              "      <td>-5.58</td>\n",
              "      <td>s</td>\n",
              "    </tr>\n",
              "    <tr>\n",
              "      <th>4</th>\n",
              "      <td>478</td>\n",
              "      <td>58</td>\n",
              "      <td>40</td>\n",
              "      <td>65</td>\n",
              "      <td>100</td>\n",
              "      <td>58</td>\n",
              "      <td>100</td>\n",
              "      <td>106</td>\n",
              "      <td>26</td>\n",
              "      <td>57</td>\n",
              "      <td>51.79</td>\n",
              "      <td>8.74</td>\n",
              "      <td>28.06</td>\n",
              "      <td>-1.00</td>\n",
              "      <td>-33.12</td>\n",
              "      <td>-41.04</td>\n",
              "      <td>-32.17</td>\n",
              "      <td>3.48</td>\n",
              "      <td>-2.08</td>\n",
              "      <td>-18.31</td>\n",
              "      <td>-0.20</td>\n",
              "      <td>-4.85</td>\n",
              "      <td>-21.15</td>\n",
              "      <td>-1.00</td>\n",
              "      <td>-4.84</td>\n",
              "      <td>-17.00</td>\n",
              "      <td>-0.91</td>\n",
              "      <td>-3.38</td>\n",
              "      <td>d</td>\n",
              "    </tr>\n",
              "  </tbody>\n",
              "</table>\n",
              "</div>"
            ],
            "text/plain": [
              "    id  b1  b2  ...  pred_minus_obs_S_b8  pred_minus_obs_S_b9  label\n",
              "0  454  54  28  ...                -1.69                -4.55     s \n",
              "1  457  54  29  ...                -0.53                -2.98     s \n",
              "2  261  59  30  ...                -2.39                -5.07     s \n",
              "3    8  53  27  ...                -2.42                -5.58     s \n",
              "4  478  58  40  ...                -0.91                -3.38     d \n",
              "\n",
              "[5 rows x 29 columns]"
            ]
          },
          "metadata": {
            "tags": []
          },
          "execution_count": 3
        }
      ]
    },
    {
      "cell_type": "code",
      "metadata": {
        "id": "hl2HzNzhB32a",
        "colab": {
          "base_uri": "https://localhost:8080/",
          "height": 224
        },
        "outputId": "13f41742-f160-4a41-b19b-7b0fd2c0c71b"
      },
      "source": [
        "# Importação dos dados de teste\r\n",
        "\r\n",
        "dados_teste = pd.read_csv(\"https://raw.githubusercontent.com/JalesBussinguer/Remote_Sensing_Studies/master/data/worcap_2020/dados_teste.csv\")\r\n",
        "\r\n",
        "dados_teste.head() # Visualizando as 5 primeiras linhas do conjunto"
      ],
      "execution_count": 4,
      "outputs": [
        {
          "output_type": "execute_result",
          "data": {
            "text/html": [
              "<div>\n",
              "<style scoped>\n",
              "    .dataframe tbody tr th:only-of-type {\n",
              "        vertical-align: middle;\n",
              "    }\n",
              "\n",
              "    .dataframe tbody tr th {\n",
              "        vertical-align: top;\n",
              "    }\n",
              "\n",
              "    .dataframe thead th {\n",
              "        text-align: right;\n",
              "    }\n",
              "</style>\n",
              "<table border=\"1\" class=\"dataframe\">\n",
              "  <thead>\n",
              "    <tr style=\"text-align: right;\">\n",
              "      <th></th>\n",
              "      <th>id</th>\n",
              "      <th>b1</th>\n",
              "      <th>b2</th>\n",
              "      <th>b3</th>\n",
              "      <th>b4</th>\n",
              "      <th>b5</th>\n",
              "      <th>b6</th>\n",
              "      <th>b7</th>\n",
              "      <th>b8</th>\n",
              "      <th>b9</th>\n",
              "      <th>pred_minus_obs_H_b1</th>\n",
              "      <th>pred_minus_obs_H_b2</th>\n",
              "      <th>pred_minus_obs_H_b3</th>\n",
              "      <th>pred_minus_obs_H_b4</th>\n",
              "      <th>pred_minus_obs_H_b5</th>\n",
              "      <th>pred_minus_obs_H_b6</th>\n",
              "      <th>pred_minus_obs_H_b7</th>\n",
              "      <th>pred_minus_obs_H_b8</th>\n",
              "      <th>pred_minus_obs_H_b9</th>\n",
              "      <th>pred_minus_obs_S_b1</th>\n",
              "      <th>pred_minus_obs_S_b2</th>\n",
              "      <th>pred_minus_obs_S_b3</th>\n",
              "      <th>pred_minus_obs_S_b4</th>\n",
              "      <th>pred_minus_obs_S_b5</th>\n",
              "      <th>pred_minus_obs_S_b6</th>\n",
              "      <th>pred_minus_obs_S_b7</th>\n",
              "      <th>pred_minus_obs_S_b8</th>\n",
              "      <th>pred_minus_obs_S_b9</th>\n",
              "    </tr>\n",
              "  </thead>\n",
              "  <tbody>\n",
              "    <tr>\n",
              "      <th>0</th>\n",
              "      <td>356</td>\n",
              "      <td>79</td>\n",
              "      <td>28</td>\n",
              "      <td>54</td>\n",
              "      <td>117</td>\n",
              "      <td>52</td>\n",
              "      <td>99</td>\n",
              "      <td>93</td>\n",
              "      <td>25</td>\n",
              "      <td>60</td>\n",
              "      <td>34.87</td>\n",
              "      <td>24.16</td>\n",
              "      <td>45.04</td>\n",
              "      <td>-23.75</td>\n",
              "      <td>-26.66</td>\n",
              "      <td>-38.87</td>\n",
              "      <td>-18.61</td>\n",
              "      <td>4.12</td>\n",
              "      <td>-5.03</td>\n",
              "      <td>-18.51</td>\n",
              "      <td>-1.36</td>\n",
              "      <td>-4.23</td>\n",
              "      <td>-18.09</td>\n",
              "      <td>-0.70</td>\n",
              "      <td>-3.27</td>\n",
              "      <td>-15.79</td>\n",
              "      <td>-1.21</td>\n",
              "      <td>-3.39</td>\n",
              "    </tr>\n",
              "    <tr>\n",
              "      <th>1</th>\n",
              "      <td>202</td>\n",
              "      <td>46</td>\n",
              "      <td>27</td>\n",
              "      <td>50</td>\n",
              "      <td>83</td>\n",
              "      <td>51</td>\n",
              "      <td>90</td>\n",
              "      <td>76</td>\n",
              "      <td>26</td>\n",
              "      <td>56</td>\n",
              "      <td>68.54</td>\n",
              "      <td>24.27</td>\n",
              "      <td>48.21</td>\n",
              "      <td>16.37</td>\n",
              "      <td>-24.89</td>\n",
              "      <td>-27.66</td>\n",
              "      <td>2.19</td>\n",
              "      <td>4.93</td>\n",
              "      <td>1.25</td>\n",
              "      <td>-18.62</td>\n",
              "      <td>-2.17</td>\n",
              "      <td>-7.11</td>\n",
              "      <td>-21.12</td>\n",
              "      <td>-1.56</td>\n",
              "      <td>-6.35</td>\n",
              "      <td>-22.19</td>\n",
              "      <td>-4.45</td>\n",
              "      <td>-7.32</td>\n",
              "    </tr>\n",
              "    <tr>\n",
              "      <th>2</th>\n",
              "      <td>183</td>\n",
              "      <td>56</td>\n",
              "      <td>26</td>\n",
              "      <td>50</td>\n",
              "      <td>94</td>\n",
              "      <td>50</td>\n",
              "      <td>87</td>\n",
              "      <td>83</td>\n",
              "      <td>24</td>\n",
              "      <td>54</td>\n",
              "      <td>53.57</td>\n",
              "      <td>21.97</td>\n",
              "      <td>43.47</td>\n",
              "      <td>2.00</td>\n",
              "      <td>-25.22</td>\n",
              "      <td>-27.11</td>\n",
              "      <td>-8.04</td>\n",
              "      <td>5.69</td>\n",
              "      <td>1.43</td>\n",
              "      <td>-12.99</td>\n",
              "      <td>0.23</td>\n",
              "      <td>-5.97</td>\n",
              "      <td>-14.35</td>\n",
              "      <td>-0.55</td>\n",
              "      <td>-5.40</td>\n",
              "      <td>-14.51</td>\n",
              "      <td>-2.68</td>\n",
              "      <td>-5.15</td>\n",
              "    </tr>\n",
              "    <tr>\n",
              "      <th>3</th>\n",
              "      <td>306</td>\n",
              "      <td>56</td>\n",
              "      <td>58</td>\n",
              "      <td>81</td>\n",
              "      <td>69</td>\n",
              "      <td>65</td>\n",
              "      <td>100</td>\n",
              "      <td>109</td>\n",
              "      <td>42</td>\n",
              "      <td>80</td>\n",
              "      <td>56.41</td>\n",
              "      <td>-8.84</td>\n",
              "      <td>11.55</td>\n",
              "      <td>26.51</td>\n",
              "      <td>-40.14</td>\n",
              "      <td>-41.28</td>\n",
              "      <td>-32.79</td>\n",
              "      <td>-11.96</td>\n",
              "      <td>-24.36</td>\n",
              "      <td>-19.27</td>\n",
              "      <td>-0.81</td>\n",
              "      <td>-4.45</td>\n",
              "      <td>-18.37</td>\n",
              "      <td>-0.94</td>\n",
              "      <td>-4.23</td>\n",
              "      <td>-16.77</td>\n",
              "      <td>-1.35</td>\n",
              "      <td>-3.65</td>\n",
              "    </tr>\n",
              "    <tr>\n",
              "      <th>4</th>\n",
              "      <td>511</td>\n",
              "      <td>70</td>\n",
              "      <td>28</td>\n",
              "      <td>53</td>\n",
              "      <td>103</td>\n",
              "      <td>53</td>\n",
              "      <td>99</td>\n",
              "      <td>94</td>\n",
              "      <td>24</td>\n",
              "      <td>61</td>\n",
              "      <td>46.95</td>\n",
              "      <td>24.05</td>\n",
              "      <td>45.32</td>\n",
              "      <td>0.11</td>\n",
              "      <td>-28.10</td>\n",
              "      <td>-39.45</td>\n",
              "      <td>-14.22</td>\n",
              "      <td>5.33</td>\n",
              "      <td>-5.90</td>\n",
              "      <td>-23.26</td>\n",
              "      <td>-0.43</td>\n",
              "      <td>-4.16</td>\n",
              "      <td>-28.30</td>\n",
              "      <td>-1.13</td>\n",
              "      <td>-4.92</td>\n",
              "      <td>-23.06</td>\n",
              "      <td>-1.53</td>\n",
              "      <td>-4.15</td>\n",
              "    </tr>\n",
              "  </tbody>\n",
              "</table>\n",
              "</div>"
            ],
            "text/plain": [
              "    id  b1  b2  ...  pred_minus_obs_S_b7  pred_minus_obs_S_b8  pred_minus_obs_S_b9\n",
              "0  356  79  28  ...               -15.79                -1.21                -3.39\n",
              "1  202  46  27  ...               -22.19                -4.45                -7.32\n",
              "2  183  56  26  ...               -14.51                -2.68                -5.15\n",
              "3  306  56  58  ...               -16.77                -1.35                -3.65\n",
              "4  511  70  28  ...               -23.06                -1.53                -4.15\n",
              "\n",
              "[5 rows x 28 columns]"
            ]
          },
          "metadata": {
            "tags": []
          },
          "execution_count": 4
        }
      ]
    },
    {
      "cell_type": "code",
      "metadata": {
        "id": "_KpdWY90CvKE",
        "colab": {
          "base_uri": "https://localhost:8080/"
        },
        "outputId": "cf54af53-d562-4c6e-9aa6-01191e652016"
      },
      "source": [
        "# Importação dos dados de validação do modelo\r\n",
        "\r\n",
        "dados_validacao = pd.read_csv(\"https://raw.githubusercontent.com/JalesBussinguer/Remote_Sensing_Studies/master/data/worcap_2020/dados_validacao.csv\")\r\n",
        "\r\n",
        "gt = dados_validacao['label'].values\r\n",
        "gt"
      ],
      "execution_count": 5,
      "outputs": [
        {
          "output_type": "execute_result",
          "data": {
            "text/plain": [
              "array(['h ', 's ', 's ', 'o ', 'h ', 'd ', 'h ', 's ', 'h ', 'o ', 'd ',\n",
              "       's ', 's ', 'd ', 'd ', 'o ', 's ', 'h ', 'o ', 's ', 'o ', 'd ',\n",
              "       's ', 's ', 's ', 'd ', 'o ', 's ', 'd ', 's ', 'd ', 's ', 'd ',\n",
              "       'o ', 'h ', 'h ', 's ', 'd ', 'd ', 'o ', 'h ', 's ', 'd ', 's ',\n",
              "       'h ', 'o ', 's ', 'o ', 'o ', 'd ', 's ', 'd ', 'h ', 'h ', 'h ',\n",
              "       's ', 'd ', 'd ', 's ', 'd ', 's ', 'h ', 's ', 's ', 'o ', 's ',\n",
              "       'd ', 'h ', 's ', 's ', 'o ', 'h ', 'd ', 'd ', 'd ', 'h ', 'd ',\n",
              "       'h ', 's ', 'h ', 'o ', 's ', 's ', 'h ', 'o ', 's ', 'd ', 'd ',\n",
              "       'd ', 's ', 'h ', 'd ', 's ', 's ', 's ', 'h ', 'd ', 'd ', 'o ',\n",
              "       'h ', 'd ', 'd ', 'h ', 's ', 'h ', 's ', 's ', 's ', 's ', 'd ',\n",
              "       's ', 'o ', 'o ', 's ', 'd ', 'd ', 'o ', 's ', 'd ', 'h ', 'd ',\n",
              "       's ', 's ', 's ', 'd ', 'o ', 'h ', 'h ', 's ', 's ', 'd ', 'h ',\n",
              "       's ', 's ', 'd ', 'h ', 'h ', 'd ', 's ', 's ', 'd ', 's ', 'd ',\n",
              "       'd ', 's ', 'o ', 'd ', 's ', 'd ', 'd ', 's ', 'o ', 's ', 's ',\n",
              "       'd ', 'd ', 's ', 'd ', 'h ', 'h ', 'd ', 's ', 's ', 'o ', 's ',\n",
              "       's ', 'o ', 'h ', 's ', 'o ', 'd ', 'd ', 'o ', 's ', 'h ', 'd ',\n",
              "       'd ', 'h ', 's ', 's ', 'h ', 'h ', 'o ', 's ', 'd ', 'o ', 'd ',\n",
              "       's ', 's ', 'h ', 's ', 's ', 'o ', 's ', 'o ', 'h ', 'd ', 'h ',\n",
              "       'd ', 's ', 'o ', 'd ', 's ', 'd ', 's ', 'h ', 'd ', 's ', 'o ',\n",
              "       's ', 'd ', 'd ', 'd ', 'o ', 'd ', 'd ', 'd ', 's ', 'd ', 's ',\n",
              "       'd ', 'o ', 'h ', 'd ', 'o ', 's ', 's ', 'd ', 's ', 's ', 's ',\n",
              "       'h ', 'o ', 'd ', 's ', 's ', 's ', 'd ', 's ', 'd ', 's ', 'd ',\n",
              "       'd ', 'o ', 'd ', 's ', 'o ', 'd ', 'o ', 'o ', 'd ', 'd ', 'o ',\n",
              "       'o ', 'h ', 's ', 'h ', 'd ', 'o ', 's ', 'h ', 'h ', 's ', 's ',\n",
              "       'd ', 's ', 'o ', 'd ', 'd ', 's ', 'd ', 's ', 'h ', 's ', 'o ',\n",
              "       'o ', 'o ', 's ', 'o ', 'o ', 's ', 's ', 'h ', 'h ', 's ', 'd ',\n",
              "       's ', 'd ', 'd ', 'd ', 'd ', 'o ', 's ', 'h ', 'h ', 'd ', 'o ',\n",
              "       's ', 's ', 's ', 'd ', 'd ', 'd ', 'd ', 'd ', 's ', 's ', 'd ',\n",
              "       's ', 'd ', 'o ', 'o ', 's ', 'h '], dtype=object)"
            ]
          },
          "metadata": {
            "tags": []
          },
          "execution_count": 5
        }
      ]
    },
    {
      "cell_type": "markdown",
      "metadata": {
        "id": "3EC7mGj0DcFR"
      },
      "source": [
        "## 1.3. Dicionário das variáveis preditoras (atributos):\r\n",
        "\r\n",
        "* `id`: Identificação única da linha, alusiva a um pixel único das imagens;\r\n",
        "* `b1`: Banda do verde corresponde ao mês de setembro de 2010;\r\n",
        "* `b2`: Banda do vermelho corresponde ao mês de setembro de 2010;\r\n",
        "* `b3`: Banda do infravermelho próximo corresponde ao mês de setembro de 2010;\r\n",
        "* `b4`: Banda do verde corresponde ao mês de Março de 2011;\r\n",
        "* `b5`: Banda do vermelho corresponde ao mês de Março de 2011;\r\n",
        "* `b6`: Banda do infravermelho próximo corresponde ao mês de Março de 2011;\r\n",
        "* `b7`: Banda do verde corresponde ao mês de Maio de 2011;\r\n",
        "* `b8`: Banda do vermelho corresponde ao mês de Maio de 2011;\r\n",
        "* `b9`: Banda do infravermelho próximo corresponde ao mês de Maio de 2011;\r\n",
        "* `pred_minus_obs_S_b1` até `pred_minus_obs_S_b9`: Valores espectrais previstos (Com base na interpolação espacial) subtraídos dos valores espectrais reais para a classe \"s\";\r\n",
        "* `pred_minus_obs_H_b1` até `pred_minus_obs_H_b9`: Valores espectrais previstos (Com base na interpolação espacial) subtraídos dos valores espectrais reais para a classe \"h\".\r\n",
        "\r\n"
      ]
    },
    {
      "cell_type": "markdown",
      "metadata": {
        "id": "-FR54Zn6Npy5"
      },
      "source": [
        "## 1.4. Dicionário das variáveis-alvo (rótulos):\r\n",
        "\r\n",
        "* `S` = *Sugi* (Floresta composta predominantemente pela espécie [*Cryptomeria japonica*](https://pt.wikipedia.org/wiki/Cryptomeria_japonica))\r\n",
        "* `H` = *Hinoki* (Floresta composta predominantemente pela espécie [*Chamaecyparis obtusa*](https://en.wikipedia.org/wiki/Chamaecyparis_obtusa))\r\n",
        "* `D` = *Mixed Deciduous* (Formação florestal composta por diversas espécies deciduais ou caducifólias, incluindo Sugi e Hinoki);\r\n",
        "* `O` = *Other* (Feição não-florestal)"
      ]
    },
    {
      "cell_type": "markdown",
      "metadata": {
        "id": "bHjxwB0BYkYm"
      },
      "source": [
        "# 2. Verificação dos conjuntos de dados"
      ]
    },
    {
      "cell_type": "markdown",
      "metadata": {
        "id": "6-axbCrv1kYi"
      },
      "source": [
        "Nessa primeira fase, é interessante verificar a integridade dos conjuntos de dados para certificar que não há dados faltando ou dados que estão em um formato inadequado para uso em um algoritmo de aprendizado de máquina."
      ]
    },
    {
      "cell_type": "markdown",
      "metadata": {
        "id": "4riqtJDeYs9b"
      },
      "source": [
        "## 2.1. Conferindo se existem dados faltando"
      ]
    },
    {
      "cell_type": "markdown",
      "metadata": {
        "id": "rjmFHbh2tCqq"
      },
      "source": [
        "Para a conferência dos dados, será utilizada uma expressão que faz a contagem de dados que faltam para cada coluna e divide pelo tamanho do conjunto, retornando a porcentagem faltante para cada atributo.\r\n",
        "\r\n",
        "Por fim, será avaliada a média de todos os atributos retornando uma porcentagem global de dados faltantes nos conjuntos."
      ]
    },
    {
      "cell_type": "code",
      "metadata": {
        "id": "nHQHAWdIYxyx",
        "colab": {
          "base_uri": "https://localhost:8080/"
        },
        "outputId": "547677a2-92cc-43bd-8211-ea0a35dff8d7"
      },
      "source": [
        "# Verificação dos dados de treino\r\n",
        "\r\n",
        "vdtreino = dados_treino.isnull().sum()/dados_treino.shape[0]\r\n",
        "\r\n",
        "if vdtreino.mean() == 0:\r\n",
        "  print('Não há dados faltando no conjunto de treino')\r\n",
        "else:\r\n",
        "  print(f'A proporção de dados faltando no conjunto de treino é {vdtreino.mean()} %')"
      ],
      "execution_count": 6,
      "outputs": [
        {
          "output_type": "stream",
          "text": [
            "Não há dados faltando no conjunto de treino\n"
          ],
          "name": "stdout"
        }
      ]
    },
    {
      "cell_type": "code",
      "metadata": {
        "id": "Ot-EeLShaceJ",
        "colab": {
          "base_uri": "https://localhost:8080/"
        },
        "outputId": "b676ac4e-e019-4d81-8cb4-08f2fdd269b8"
      },
      "source": [
        "# Verificação dos dados de teste\r\n",
        "\r\n",
        "vdteste = dados_teste.isnull().sum()/dados_teste.shape[0]\r\n",
        "\r\n",
        "if vdteste.mean() == 0:\r\n",
        "  print('Não há dados faltando no conjunto de teste')\r\n",
        "else:\r\n",
        "  print(f'A proporção de dados faltando no conjunto de teste é {vdteste.mean()} %')"
      ],
      "execution_count": 7,
      "outputs": [
        {
          "output_type": "stream",
          "text": [
            "Não há dados faltando no conjunto de teste\n"
          ],
          "name": "stdout"
        }
      ]
    },
    {
      "cell_type": "code",
      "metadata": {
        "colab": {
          "base_uri": "https://localhost:8080/"
        },
        "id": "hTpmSl-xswF7",
        "outputId": "23f85c25-1786-45f3-e0f3-c171dcdebba5"
      },
      "source": [
        "# Verificação dos dados de validação\r\n",
        "\r\n",
        "vdvalidacao = dados_validacao['label'].isnull().sum()/dados_validacao['label'].shape[0]\r\n",
        "\r\n",
        "if vdvalidacao.mean() == 0:\r\n",
        "  print('Não há dados faltando no conjunto de validação')\r\n",
        "else:\r\n",
        "  print(f'A proporção de dados faltando no conjunto de validação é {vdvalidacao.mean()} %')"
      ],
      "execution_count": 8,
      "outputs": [
        {
          "output_type": "stream",
          "text": [
            "Não há dados faltando no conjunto de validação\n"
          ],
          "name": "stdout"
        }
      ]
    },
    {
      "cell_type": "markdown",
      "metadata": {
        "id": "-OEf7jI4yNl-"
      },
      "source": [
        "De acordo com os relatórios acima, observa-se que não há dados faltando nos conjuntos. Com isso, podemos passar para a verificação dos tipos de dados."
      ]
    },
    {
      "cell_type": "markdown",
      "metadata": {
        "id": "Dqo3hEon1bhE"
      },
      "source": [
        "## 2.2. Conferindo os tipos de dados"
      ]
    },
    {
      "cell_type": "code",
      "metadata": {
        "id": "bLRkSvdB2zAS",
        "colab": {
          "base_uri": "https://localhost:8080/"
        },
        "outputId": "88e04d69-8849-4626-8936-8f86ea22d8f5"
      },
      "source": [
        "# Verificação dos tipos de dados no conjunto de dados de treino\r\n",
        "\r\n",
        "dados_treino.dtypes"
      ],
      "execution_count": 9,
      "outputs": [
        {
          "output_type": "execute_result",
          "data": {
            "text/plain": [
              "id                       int64\n",
              "b1                       int64\n",
              "b2                       int64\n",
              "b3                       int64\n",
              "b4                       int64\n",
              "b5                       int64\n",
              "b6                       int64\n",
              "b7                       int64\n",
              "b8                       int64\n",
              "b9                       int64\n",
              "pred_minus_obs_H_b1    float64\n",
              "pred_minus_obs_H_b2    float64\n",
              "pred_minus_obs_H_b3    float64\n",
              "pred_minus_obs_H_b4    float64\n",
              "pred_minus_obs_H_b5    float64\n",
              "pred_minus_obs_H_b6    float64\n",
              "pred_minus_obs_H_b7    float64\n",
              "pred_minus_obs_H_b8    float64\n",
              "pred_minus_obs_H_b9    float64\n",
              "pred_minus_obs_S_b1    float64\n",
              "pred_minus_obs_S_b2    float64\n",
              "pred_minus_obs_S_b3    float64\n",
              "pred_minus_obs_S_b4    float64\n",
              "pred_minus_obs_S_b5    float64\n",
              "pred_minus_obs_S_b6    float64\n",
              "pred_minus_obs_S_b7    float64\n",
              "pred_minus_obs_S_b8    float64\n",
              "pred_minus_obs_S_b9    float64\n",
              "label                   object\n",
              "dtype: object"
            ]
          },
          "metadata": {
            "tags": []
          },
          "execution_count": 9
        }
      ]
    },
    {
      "cell_type": "code",
      "metadata": {
        "id": "YDmA7bZj6R11",
        "colab": {
          "base_uri": "https://localhost:8080/"
        },
        "outputId": "aa80083b-8835-474d-90eb-6b2819406853"
      },
      "source": [
        "# Verificação dos tipos de dados no conjunto de dados de teste\r\n",
        "\r\n",
        "dados_teste.dtypes"
      ],
      "execution_count": 10,
      "outputs": [
        {
          "output_type": "execute_result",
          "data": {
            "text/plain": [
              "id                       int64\n",
              "b1                       int64\n",
              "b2                       int64\n",
              "b3                       int64\n",
              "b4                       int64\n",
              "b5                       int64\n",
              "b6                       int64\n",
              "b7                       int64\n",
              "b8                       int64\n",
              "b9                       int64\n",
              "pred_minus_obs_H_b1    float64\n",
              "pred_minus_obs_H_b2    float64\n",
              "pred_minus_obs_H_b3    float64\n",
              "pred_minus_obs_H_b4    float64\n",
              "pred_minus_obs_H_b5    float64\n",
              "pred_minus_obs_H_b6    float64\n",
              "pred_minus_obs_H_b7    float64\n",
              "pred_minus_obs_H_b8    float64\n",
              "pred_minus_obs_H_b9    float64\n",
              "pred_minus_obs_S_b1    float64\n",
              "pred_minus_obs_S_b2    float64\n",
              "pred_minus_obs_S_b3    float64\n",
              "pred_minus_obs_S_b4    float64\n",
              "pred_minus_obs_S_b5    float64\n",
              "pred_minus_obs_S_b6    float64\n",
              "pred_minus_obs_S_b7    float64\n",
              "pred_minus_obs_S_b8    float64\n",
              "pred_minus_obs_S_b9    float64\n",
              "dtype: object"
            ]
          },
          "metadata": {
            "tags": []
          },
          "execution_count": 10
        }
      ]
    },
    {
      "cell_type": "code",
      "metadata": {
        "colab": {
          "base_uri": "https://localhost:8080/"
        },
        "id": "V6OnWMnx15Rz",
        "outputId": "99b744c7-91da-4deb-ef04-8863240adef2"
      },
      "source": [
        "# Verificação dos tipos de dados no conjunto de dados de validação\r\n",
        "\r\n",
        "pd.DataFrame(gt).dtypes"
      ],
      "execution_count": 11,
      "outputs": [
        {
          "output_type": "execute_result",
          "data": {
            "text/plain": [
              "0    object\n",
              "dtype: object"
            ]
          },
          "metadata": {
            "tags": []
          },
          "execution_count": 11
        }
      ]
    },
    {
      "cell_type": "markdown",
      "metadata": {
        "id": "A8j2rhZf2_FA"
      },
      "source": [
        "Observa-se que nos conjuntos de dados existem três tipos de dados distintos:\r\n",
        "* Inteiros (int64): são os dados que representam os números digitais expressos nos pixels das imagens, e são diretamente relacionados à resposta espectral dos alvos da cena. Na coluna `id`, representam a identificação única da amostra de pixel.\r\n",
        "* Flutuantes (float64): são dados que representam o resultado de uma estatística que mede a diferença entre uma resposta espectral modelada e a resposta espectral observada;\r\n",
        "* Texto (object): são os dados de rótulos dos pixel.\r\n",
        "\r\n",
        "Em todos os conjuntos avaliados, os tipos de dados são compatíveis com o seu significado."
      ]
    },
    {
      "cell_type": "markdown",
      "metadata": {
        "id": "H-2fgLql2ufi"
      },
      "source": [
        "## 2.3. Verificação do balanceamento das classes"
      ]
    },
    {
      "cell_type": "code",
      "metadata": {
        "colab": {
          "base_uri": "https://localhost:8080/",
          "height": 384
        },
        "id": "bsAevuITbtMI",
        "outputId": "e1728f40-541d-41b6-a0e7-3885435a2c4e"
      },
      "source": [
        "# plotagem balanceamento das classes do conjunto de treino\r\n",
        "data_treino = dados_treino['label']\r\n",
        "sns.countplot(data_treino, palette=\"Blues\")\r\n",
        "plt.show()"
      ],
      "execution_count": 58,
      "outputs": [
        {
          "output_type": "display_data",
          "data": {
            "image/png": "[encoded data removed]",
            "text/plain": [
              "<Figure size 576x396 with 1 Axes>"
            ]
          },
          "metadata": {
            "tags": []
          }
        }
      ]
    },
    {
      "cell_type": "code",
      "metadata": {
        "colab": {
          "base_uri": "https://localhost:8080/",
          "height": 384
        },
        "id": "FZ0VGF9gdMH5",
        "outputId": "81ef07e5-fcc2-4f4a-aca3-b7e618426524"
      },
      "source": [
        "# plotagem do balanceamento das classes do conjunto de validação\r\n",
        "data_validacao = dados_validacao\r\n",
        "sns.countplot(data_validacao.label, palette=\"Greens\")\r\n",
        "plt.show()"
      ],
      "execution_count": 60,
      "outputs": [
        {
          "output_type": "display_data",
          "data": {
            "image/png": "[encoded data removed]",
            "text/plain": [
              "<Figure size 576x396 with 1 Axes>"
            ]
          },
          "metadata": {
            "tags": []
          }
        }
      ]
    },
    {
      "cell_type": "markdown",
      "metadata": {
        "id": "xoUkfvaT28BO"
      },
      "source": [
        "Observando-se os gráficos acima, percebe-se um claro desbalanceamento das classes, tanto no conjunto de treino quanto no conjunto de validação.\r\n",
        "\r\n",
        "Especula-se de que o desbalanceamento das classes seja em função da proporção em área das classes na cena. Por ser tratar de uma região predominantemente florestal e o método de amostragem ser aleatório, tal condição é estatisticamente justificada.\r\n",
        "\r\n",
        "Para lidar com esse cenário, me voltei à literatura. O capítulo 09 do livro **Machine Learning: Guia de Referência Rápida** apresenta diversos métodos para lidar com classes desbalanceadas. O método escolhido foi a utilização de algoritmos de classificação baseados em árvores e ensembles.\r\n",
        "\r\n",
        "Dessa forma, foi escolhido o algoritmo ***Random Forest Classifier*** como modelo-base para a solução do desafio. A escolha foi reforçada pelo fato desse algoritmo utilizar *bagging* para corrigir a tendência das árvores de decisão à superadequação (*overfitting*)."
      ]
    },
    {
      "cell_type": "markdown",
      "metadata": {
        "id": "0by5yogIWhqs"
      },
      "source": [
        "# 3. Construção do modelo:"
      ]
    },
    {
      "cell_type": "markdown",
      "metadata": {
        "id": "kdHwP3RUWwHH"
      },
      "source": [
        "## 3.1. Preparação dos dados:"
      ]
    },
    {
      "cell_type": "code",
      "metadata": {
        "id": "Tg-8ODPrBoKP"
      },
      "source": [
        "# Remoção da coluna de identificação do conjunto de dados de treino\r\n",
        "\r\n",
        "dados = dados_treino.drop(columns=\"id\")\r\n",
        "\r\n",
        "# Separação dos atributos e dos rótulos para os dados de treinamento\r\n",
        "\r\n",
        "X = dados.iloc[:,:-1].values # atributos (amostras de pixels)\r\n",
        "y = dados.iloc[:,-1].values # rótulos das classes"
      ],
      "execution_count": 16,
      "outputs": []
    },
    {
      "cell_type": "code",
      "metadata": {
        "id": "zpAdHMAlBrZJ"
      },
      "source": [
        "# Remoção da coluna de identificação do conjunto de dados de teste\r\n",
        "\r\n",
        "X_teste = dados_teste.drop(columns=\"id\").values"
      ],
      "execution_count": 17,
      "outputs": []
    },
    {
      "cell_type": "code",
      "metadata": {
        "colab": {
          "base_uri": "https://localhost:8080/"
        },
        "id": "LPtfVnyeCVYD",
        "outputId": "3e9fd753-df59-48fa-d884-c0426b513be6"
      },
      "source": [
        "# Resumo dos conjuntos de dados\r\n",
        "\r\n",
        "print(f\"Formato dos dados de treino: X ({X.shape[0]} linhas e {X.shape[1]} colunas) , y ({y.shape[0]} linhas)\")\r\n",
        "print()\r\n",
        "print(f\"Formato dos dados de teste: {X_teste.shape[0]} linhas e {X_teste.shape[1]} colunas\")\r\n",
        "print(f\"Formato dos dados de validação: {gt.shape[0]} linhas\")\r\n",
        "print()\r\n",
        "print(f\"Número de classes: {len(set(dados['label'].values))}\")\r\n",
        "print(f\"Número de atributos: {X.shape[1]}\")"
      ],
      "execution_count": 18,
      "outputs": [
        {
          "output_type": "stream",
          "text": [
            "Formato dos dados de treino: X (209 linhas e 27 colunas) , y (209 linhas)\n",
            "\n",
            "Formato dos dados de teste: 314 linhas e 27 colunas\n",
            "Formato dos dados de validação: 314 linhas\n",
            "\n",
            "Número de classes: 4\n",
            "Número de atributos: 27\n"
          ],
          "name": "stdout"
        }
      ]
    },
    {
      "cell_type": "markdown",
      "metadata": {
        "id": "HdmZUtD7RmVY"
      },
      "source": [
        "Um indicativo de que tudo está em conformidade é a compatibilidade do número de linhas entre atributos e rótulos. \r\n",
        "\r\n",
        "Além disso, Para o conjunto de teste, o indicativo de que está tudo certo é a quantidade de colunas (features), que bate com a quantidade de features do conjunto de treino.\r\n",
        "\r\n",
        "Com isso, temos tudo pronto para começar a trabalhar no modelo de aprendizado de máquina."
      ]
    },
    {
      "cell_type": "markdown",
      "metadata": {
        "id": "qLTDmjeo9l0Y"
      },
      "source": [
        "## 3.2. Modelo-padrão (Random Forest Classifier - default)\r\n",
        "\r\n",
        "Para chegar ao modelo final, o primeiro passo será estabelecer uma linha de base por meio de um modelo padrão, isto é, um resultado de referência que servirá de parâmetro para avaliarmos o quanto conseguimos melhorar nosso modelo."
      ]
    },
    {
      "cell_type": "code",
      "metadata": {
        "id": "YRZRT45KS682"
      },
      "source": [
        "# Instanciando o modelo-padrão\r\n",
        "\r\n",
        "rf_default = RandomForestClassifier(random_state=42)"
      ],
      "execution_count": 51,
      "outputs": []
    },
    {
      "cell_type": "code",
      "metadata": {
        "colab": {
          "base_uri": "https://localhost:8080/"
        },
        "id": "WC6UDgj5TBnt",
        "outputId": "fd5c5fa4-cc86-4d95-bbfa-72034d1054e1"
      },
      "source": [
        "# Treinamento do modelo\r\n",
        "\r\n",
        "rf_default.fit(X, y)"
      ],
      "execution_count": 52,
      "outputs": [
        {
          "output_type": "execute_result",
          "data": {
            "text/plain": [
              "RandomForestClassifier(bootstrap=True, ccp_alpha=0.0, class_weight=None,\n",
              "                       criterion='gini', max_depth=None, max_features='auto',\n",
              "                       max_leaf_nodes=None, max_samples=None,\n",
              "                       min_impurity_decrease=0.0, min_impurity_split=None,\n",
              "                       min_samples_leaf=1, min_samples_split=2,\n",
              "                       min_weight_fraction_leaf=0.0, n_estimators=100,\n",
              "                       n_jobs=None, oob_score=False, random_state=42, verbose=0,\n",
              "                       warm_start=False)"
            ]
          },
          "metadata": {
            "tags": []
          },
          "execution_count": 52
        }
      ]
    },
    {
      "cell_type": "code",
      "metadata": {
        "colab": {
          "base_uri": "https://localhost:8080/"
        },
        "id": "16xAPAsIeVhx",
        "outputId": "112cba2d-3317-4628-b61c-a7e145edf227"
      },
      "source": [
        "# Predição com o conjunto de dados de teste\r\n",
        "\r\n",
        "y_pred_default = rf_default.predict(X_teste)\r\n",
        "print(\"A acurácia do modelo default é:\", round(accuracy_score(gt, y_pred_default), 3) * 100, \"%\")\r\n",
        "print(\"O índice kappa do modelo default é:\", round(cohen_kappa_score(gt, y_pred_default), 3))"
      ],
      "execution_count": 54,
      "outputs": [
        {
          "output_type": "stream",
          "text": [
            "A acurácia do modelo default é: 89.5 %\n",
            "O índice kappa do modelo default é: 0.854\n"
          ],
          "name": "stdout"
        }
      ]
    },
    {
      "cell_type": "code",
      "metadata": {
        "colab": {
          "base_uri": "https://localhost:8080/",
          "height": 378
        },
        "id": "EJerLQXmfi7F",
        "outputId": "fadb3b66-7e4c-4296-f680-bab3947613c6"
      },
      "source": [
        "# Matriz de confusão do modelo-padrão\r\n",
        "\r\n",
        "cm_default = pd.DataFrame(confusion_matrix(gt, y_pred_default), columns=['Pred s', 'Pred h', 'Pred d', 'Pred o'], \r\n",
        "             index=['True s', 'True h', 'True d', 'True o'])\r\n",
        "\r\n",
        "sns.set(font_scale=1.6)\r\n",
        "\r\n",
        "sns.heatmap(cm_default, annot=True, fmt='', annot_kws={'fontsize': 16}, cmap='Blues', cbar=False)"
      ],
      "execution_count": 57,
      "outputs": [
        {
          "output_type": "execute_result",
          "data": {
            "text/plain": [
              "<matplotlib.axes._subplots.AxesSubplot at 0x7f2d2b0082e8>"
            ]
          },
          "metadata": {
            "tags": []
          },
          "execution_count": 57
        },
        {
          "output_type": "display_data",
          "data": {
            "image/png": "[encoded data removed]",
            "text/plain": [
              "<Figure size 576x396 with 1 Axes>"
            ]
          },
          "metadata": {
            "tags": []
          }
        }
      ]
    },
    {
      "cell_type": "markdown",
      "metadata": {
        "id": "VO3dzu13RhjG"
      },
      "source": [
        "Nossa linha de base é uma acurácia de 89,5%. Com isso, faremos uma otimização desse modelo de modo a obter uma acurácia maior que esse valor."
      ]
    },
    {
      "cell_type": "markdown",
      "metadata": {
        "id": "ewCQ4GEwPIDt"
      },
      "source": [
        "## 3.3. Otimização dos hiperparâmetros do modelo por busca em grade (*Grid Search*)"
      ]
    },
    {
      "cell_type": "markdown",
      "metadata": {
        "id": "wgfvcvB5SFvA"
      },
      "source": [
        "Em geral, o seed aleatório não é utilizado na otimização do modelo, uma vez que este é um hiperparâmetro utilizado para garantir que os mesmos resultados serão retornados toda vez que executar o código. \r\n",
        "\r\n",
        "A grande maioria de exemplos e projetos que tive contato utilizam o famoso número 42 como seed a fim de eliminar a aleatoriedade dos resultados e possibilitar a comparação com outros modelos. \r\n",
        "\r\n",
        "Contudo, após a leitura de um artigo que utiliza o número diferente como seed, fiquei curioso se a mudança do valor desse hiperparâmetro exerceria  algum tipo de influência nos resultados do modelo e decidi fazer uma verificação.\r\n",
        "\r\n",
        "Para entender melhor essa questão, vamos plotar uma curva de validação a fim de avaliar como o desempenho do modelo-padrão responde a mudanças no valor desse hiperparâmetro."
      ]
    },
    {
      "cell_type": "code",
      "metadata": {
        "colab": {
          "base_uri": "https://localhost:8080/",
          "height": 433
        },
        "id": "0r6MA0YrQzBq",
        "outputId": "864aa70a-7223-4111-fd82-8e54f2be439f"
      },
      "source": [
        " # Curva de validação para verificar a sensibilidade do modelo-padrão ao hiperparâmetro 'random_state'\r\n",
        " \r\n",
        " fig, ax = plt.subplots(figsize=(8,6))\r\n",
        " vc_viz = ValidationCurve(rf_default, param_name='random_state', param_range=np.arange(0, 50), cv=KFold(n_splits=10), scoring='accuracy', n_jobs=-1)\r\n",
        " vc_viz.fit(X, y)\r\n",
        " vc_viz.poof()"
      ],
      "execution_count": 56,
      "outputs": [
        {
          "output_type": "display_data",
          "data": {
            "image/png": "[encoded data removed]",
            "text/plain": [
              "<Figure size 576x432 with 1 Axes>"
            ]
          },
          "metadata": {
            "tags": []
          }
        }
      ]
    },
    {
      "cell_type": "markdown",
      "metadata": {
        "id": "j7igiC5aSytb"
      },
      "source": [
        "As pontuações apresentadas pela curva \"Cross Validation Score\" explicitam como o modelo responderia a dados não vistos anteriormente, nos permitindo inferir que o modelo é sensível a esse hiperparâmetro.\r\n",
        "\r\n",
        "Os valores que retornaram as melhores pontuações nessa curva serão utilizados para a otimização do modelo default."
      ]
    },
    {
      "cell_type": "markdown",
      "metadata": {
        "id": "Iasx5kKqDbyO"
      },
      "source": [
        "Para a otimização (tuning) do modelo padrão, estabeleci uma busca em grade com alguns hiperparâmetros, sempre buscando o equilíbrio entre o espaço de busca e o custo computacional."
      ]
    },
    {
      "cell_type": "code",
      "metadata": {
        "colab": {
          "base_uri": "https://localhost:8080/"
        },
        "id": "bHCcXLr9PJHU",
        "outputId": "e8885e9c-1c01-42dd-f395-9f701d47afdd"
      },
      "source": [
        "# Listas de valores candidatos\r\n",
        "\r\n",
        "# n_estimators (quantidade de árvores na floresta aleatória)\r\n",
        "n_estimators = [100, 250, 500, 750, 1000, 1250, 1500]\r\n",
        "# random state\r\n",
        "random_state = [0, 20, 23, 37, 38, 42, 46]\r\n",
        "# Criterion\r\n",
        "criterion = ['gini', 'entropy']\r\n",
        "\r\n",
        "# Dicionário de parâmetros a serem otimizados\r\n",
        "rf_parametros = {'n_estimators': n_estimators,'criterion': criterion, 'random_state': random_state}\r\n",
        "\r\n",
        "# Busca em grade (Grid Search)\r\n",
        "RFtuning = GridSearchCV(rf_default, # modelo\r\n",
        "                              param_grid=rf_parametros, # parâmetros\r\n",
        "                              cv=KFold(n_splits=10), # validação cruzada\r\n",
        "                              scoring= 'accuracy', ## métrica de ajuste\r\n",
        "                              n_jobs=-1).fit(X, y)\r\n",
        "\r\n",
        "cv_res = RFtuning.cv_results_\r\n",
        "\r\n",
        "# loop para retornar cada combinação\r\n",
        "for mean_score, params in zip(cv_res['mean_test_score'], cv_res['params']):\r\n",
        "  print(f'Acurácia: {mean_score} para os parâmetros {params}\\n')\r\n",
        "  \r\n",
        "# Retorna a melhor acurácia e a melhor combinação de hiperparâmetros\r\n",
        "print(f'Melhor resultado: {RFtuning.best_score_} para {RFtuning.best_params_}')"
      ],
      "execution_count": 38,
      "outputs": [
        {
          "output_type": "stream",
          "text": [
            "Acurácia: 0.8657142857142857 para os parâmetros {'criterion': 'gini', 'n_estimators': 100, 'random_state': 0}\n",
            "\n",
            "Acurácia: 0.865952380952381 para os parâmetros {'criterion': 'gini', 'n_estimators': 100, 'random_state': 20}\n",
            "\n",
            "Acurácia: 0.8657142857142857 para os parâmetros {'criterion': 'gini', 'n_estimators': 100, 'random_state': 23}\n",
            "\n",
            "Acurácia: 0.8514285714285714 para os parâmetros {'criterion': 'gini', 'n_estimators': 100, 'random_state': 37}\n",
            "\n",
            "Acurácia: 0.8609523809523809 para os parâmetros {'criterion': 'gini', 'n_estimators': 100, 'random_state': 38}\n",
            "\n",
            "Acurácia: 0.8514285714285714 para os parâmetros {'criterion': 'gini', 'n_estimators': 100, 'random_state': 42}\n",
            "\n",
            "Acurácia: 0.8657142857142857 para os parâmetros {'criterion': 'gini', 'n_estimators': 100, 'random_state': 46}\n",
            "\n",
            "Acurácia: 0.8561904761904762 para os parâmetros {'criterion': 'gini', 'n_estimators': 250, 'random_state': 0}\n",
            "\n",
            "Acurácia: 0.8561904761904762 para os parâmetros {'criterion': 'gini', 'n_estimators': 250, 'random_state': 20}\n",
            "\n",
            "Acurácia: 0.8609523809523809 para os parâmetros {'criterion': 'gini', 'n_estimators': 250, 'random_state': 23}\n",
            "\n",
            "Acurácia: 0.8609523809523809 para os parâmetros {'criterion': 'gini', 'n_estimators': 250, 'random_state': 37}\n",
            "\n",
            "Acurácia: 0.8609523809523809 para os parâmetros {'criterion': 'gini', 'n_estimators': 250, 'random_state': 38}\n",
            "\n",
            "Acurácia: 0.8609523809523809 para os parâmetros {'criterion': 'gini', 'n_estimators': 250, 'random_state': 42}\n",
            "\n",
            "Acurácia: 0.8561904761904762 para os parâmetros {'criterion': 'gini', 'n_estimators': 250, 'random_state': 46}\n",
            "\n",
            "Acurácia: 0.8609523809523809 para os parâmetros {'criterion': 'gini', 'n_estimators': 500, 'random_state': 0}\n",
            "\n",
            "Acurácia: 0.8561904761904762 para os parâmetros {'criterion': 'gini', 'n_estimators': 500, 'random_state': 20}\n",
            "\n",
            "Acurácia: 0.8609523809523809 para os parâmetros {'criterion': 'gini', 'n_estimators': 500, 'random_state': 23}\n",
            "\n",
            "Acurácia: 0.8609523809523809 para os parâmetros {'criterion': 'gini', 'n_estimators': 500, 'random_state': 37}\n",
            "\n",
            "Acurácia: 0.8609523809523809 para os parâmetros {'criterion': 'gini', 'n_estimators': 500, 'random_state': 38}\n",
            "\n",
            "Acurácia: 0.8609523809523809 para os parâmetros {'criterion': 'gini', 'n_estimators': 500, 'random_state': 42}\n",
            "\n",
            "Acurácia: 0.8561904761904762 para os parâmetros {'criterion': 'gini', 'n_estimators': 500, 'random_state': 46}\n",
            "\n",
            "Acurácia: 0.8609523809523809 para os parâmetros {'criterion': 'gini', 'n_estimators': 750, 'random_state': 0}\n",
            "\n",
            "Acurácia: 0.8561904761904762 para os parâmetros {'criterion': 'gini', 'n_estimators': 750, 'random_state': 20}\n",
            "\n",
            "Acurácia: 0.8609523809523809 para os parâmetros {'criterion': 'gini', 'n_estimators': 750, 'random_state': 23}\n",
            "\n",
            "Acurácia: 0.8561904761904762 para os parâmetros {'criterion': 'gini', 'n_estimators': 750, 'random_state': 37}\n",
            "\n",
            "Acurácia: 0.8609523809523809 para os parâmetros {'criterion': 'gini', 'n_estimators': 750, 'random_state': 38}\n",
            "\n",
            "Acurácia: 0.8561904761904762 para os parâmetros {'criterion': 'gini', 'n_estimators': 750, 'random_state': 42}\n",
            "\n",
            "Acurácia: 0.8561904761904762 para os parâmetros {'criterion': 'gini', 'n_estimators': 750, 'random_state': 46}\n",
            "\n",
            "Acurácia: 0.8609523809523809 para os parâmetros {'criterion': 'gini', 'n_estimators': 1000, 'random_state': 0}\n",
            "\n",
            "Acurácia: 0.8561904761904762 para os parâmetros {'criterion': 'gini', 'n_estimators': 1000, 'random_state': 20}\n",
            "\n",
            "Acurácia: 0.8609523809523809 para os parâmetros {'criterion': 'gini', 'n_estimators': 1000, 'random_state': 23}\n",
            "\n",
            "Acurácia: 0.8561904761904762 para os parâmetros {'criterion': 'gini', 'n_estimators': 1000, 'random_state': 37}\n",
            "\n",
            "Acurácia: 0.8609523809523809 para os parâmetros {'criterion': 'gini', 'n_estimators': 1000, 'random_state': 38}\n",
            "\n",
            "Acurácia: 0.8561904761904762 para os parâmetros {'criterion': 'gini', 'n_estimators': 1000, 'random_state': 42}\n",
            "\n",
            "Acurácia: 0.8609523809523809 para os parâmetros {'criterion': 'gini', 'n_estimators': 1000, 'random_state': 46}\n",
            "\n",
            "Acurácia: 0.8609523809523809 para os parâmetros {'criterion': 'gini', 'n_estimators': 1250, 'random_state': 0}\n",
            "\n",
            "Acurácia: 0.8561904761904762 para os parâmetros {'criterion': 'gini', 'n_estimators': 1250, 'random_state': 20}\n",
            "\n",
            "Acurácia: 0.8609523809523809 para os parâmetros {'criterion': 'gini', 'n_estimators': 1250, 'random_state': 23}\n",
            "\n",
            "Acurácia: 0.8561904761904762 para os parâmetros {'criterion': 'gini', 'n_estimators': 1250, 'random_state': 37}\n",
            "\n",
            "Acurácia: 0.8609523809523809 para os parâmetros {'criterion': 'gini', 'n_estimators': 1250, 'random_state': 38}\n",
            "\n",
            "Acurácia: 0.8561904761904762 para os parâmetros {'criterion': 'gini', 'n_estimators': 1250, 'random_state': 42}\n",
            "\n",
            "Acurácia: 0.8561904761904762 para os parâmetros {'criterion': 'gini', 'n_estimators': 1250, 'random_state': 46}\n",
            "\n",
            "Acurácia: 0.8561904761904762 para os parâmetros {'criterion': 'gini', 'n_estimators': 1500, 'random_state': 0}\n",
            "\n",
            "Acurácia: 0.8609523809523809 para os parâmetros {'criterion': 'gini', 'n_estimators': 1500, 'random_state': 20}\n",
            "\n",
            "Acurácia: 0.8609523809523809 para os parâmetros {'criterion': 'gini', 'n_estimators': 1500, 'random_state': 23}\n",
            "\n",
            "Acurácia: 0.8561904761904762 para os parâmetros {'criterion': 'gini', 'n_estimators': 1500, 'random_state': 37}\n",
            "\n",
            "Acurácia: 0.8609523809523809 para os parâmetros {'criterion': 'gini', 'n_estimators': 1500, 'random_state': 38}\n",
            "\n",
            "Acurácia: 0.8609523809523809 para os parâmetros {'criterion': 'gini', 'n_estimators': 1500, 'random_state': 42}\n",
            "\n",
            "Acurácia: 0.8561904761904762 para os parâmetros {'criterion': 'gini', 'n_estimators': 1500, 'random_state': 46}\n",
            "\n",
            "Acurácia: 0.8657142857142857 para os parâmetros {'criterion': 'entropy', 'n_estimators': 100, 'random_state': 0}\n",
            "\n",
            "Acurácia: 0.8514285714285714 para os parâmetros {'criterion': 'entropy', 'n_estimators': 100, 'random_state': 20}\n",
            "\n",
            "Acurácia: 0.8561904761904762 para os parâmetros {'criterion': 'entropy', 'n_estimators': 100, 'random_state': 23}\n",
            "\n",
            "Acurácia: 0.8561904761904762 para os parâmetros {'criterion': 'entropy', 'n_estimators': 100, 'random_state': 37}\n",
            "\n",
            "Acurácia: 0.8514285714285714 para os parâmetros {'criterion': 'entropy', 'n_estimators': 100, 'random_state': 38}\n",
            "\n",
            "Acurácia: 0.8657142857142857 para os parâmetros {'criterion': 'entropy', 'n_estimators': 100, 'random_state': 42}\n",
            "\n",
            "Acurácia: 0.8609523809523809 para os parâmetros {'criterion': 'entropy', 'n_estimators': 100, 'random_state': 46}\n",
            "\n",
            "Acurácia: 0.8609523809523809 para os parâmetros {'criterion': 'entropy', 'n_estimators': 250, 'random_state': 0}\n",
            "\n",
            "Acurácia: 0.8561904761904762 para os parâmetros {'criterion': 'entropy', 'n_estimators': 250, 'random_state': 20}\n",
            "\n",
            "Acurácia: 0.8609523809523809 para os parâmetros {'criterion': 'entropy', 'n_estimators': 250, 'random_state': 23}\n",
            "\n",
            "Acurácia: 0.8561904761904762 para os parâmetros {'criterion': 'entropy', 'n_estimators': 250, 'random_state': 37}\n",
            "\n",
            "Acurácia: 0.8657142857142857 para os parâmetros {'criterion': 'entropy', 'n_estimators': 250, 'random_state': 38}\n",
            "\n",
            "Acurácia: 0.8609523809523809 para os parâmetros {'criterion': 'entropy', 'n_estimators': 250, 'random_state': 42}\n",
            "\n",
            "Acurácia: 0.8514285714285714 para os parâmetros {'criterion': 'entropy', 'n_estimators': 250, 'random_state': 46}\n",
            "\n",
            "Acurácia: 0.8561904761904762 para os parâmetros {'criterion': 'entropy', 'n_estimators': 500, 'random_state': 0}\n",
            "\n",
            "Acurácia: 0.8561904761904762 para os parâmetros {'criterion': 'entropy', 'n_estimators': 500, 'random_state': 20}\n",
            "\n",
            "Acurácia: 0.8609523809523809 para os parâmetros {'criterion': 'entropy', 'n_estimators': 500, 'random_state': 23}\n",
            "\n",
            "Acurácia: 0.8704761904761904 para os parâmetros {'criterion': 'entropy', 'n_estimators': 500, 'random_state': 37}\n",
            "\n",
            "Acurácia: 0.8609523809523809 para os parâmetros {'criterion': 'entropy', 'n_estimators': 500, 'random_state': 38}\n",
            "\n",
            "Acurácia: 0.8657142857142857 para os parâmetros {'criterion': 'entropy', 'n_estimators': 500, 'random_state': 42}\n",
            "\n",
            "Acurácia: 0.8561904761904762 para os parâmetros {'criterion': 'entropy', 'n_estimators': 500, 'random_state': 46}\n",
            "\n",
            "Acurácia: 0.8561904761904762 para os parâmetros {'criterion': 'entropy', 'n_estimators': 750, 'random_state': 0}\n",
            "\n",
            "Acurácia: 0.8561904761904762 para os parâmetros {'criterion': 'entropy', 'n_estimators': 750, 'random_state': 20}\n",
            "\n",
            "Acurácia: 0.8657142857142857 para os parâmetros {'criterion': 'entropy', 'n_estimators': 750, 'random_state': 23}\n",
            "\n",
            "Acurácia: 0.8704761904761904 para os parâmetros {'criterion': 'entropy', 'n_estimators': 750, 'random_state': 37}\n",
            "\n",
            "Acurácia: 0.8609523809523809 para os parâmetros {'criterion': 'entropy', 'n_estimators': 750, 'random_state': 38}\n",
            "\n",
            "Acurácia: 0.8704761904761904 para os parâmetros {'criterion': 'entropy', 'n_estimators': 750, 'random_state': 42}\n",
            "\n",
            "Acurácia: 0.8561904761904762 para os parâmetros {'criterion': 'entropy', 'n_estimators': 750, 'random_state': 46}\n",
            "\n",
            "Acurácia: 0.8561904761904762 para os parâmetros {'criterion': 'entropy', 'n_estimators': 1000, 'random_state': 0}\n",
            "\n",
            "Acurácia: 0.8514285714285714 para os parâmetros {'criterion': 'entropy', 'n_estimators': 1000, 'random_state': 20}\n",
            "\n",
            "Acurácia: 0.8561904761904762 para os parâmetros {'criterion': 'entropy', 'n_estimators': 1000, 'random_state': 23}\n",
            "\n",
            "Acurácia: 0.8657142857142857 para os parâmetros {'criterion': 'entropy', 'n_estimators': 1000, 'random_state': 37}\n",
            "\n",
            "Acurácia: 0.8609523809523809 para os parâmetros {'criterion': 'entropy', 'n_estimators': 1000, 'random_state': 38}\n",
            "\n",
            "Acurácia: 0.8657142857142857 para os parâmetros {'criterion': 'entropy', 'n_estimators': 1000, 'random_state': 42}\n",
            "\n",
            "Acurácia: 0.8609523809523809 para os parâmetros {'criterion': 'entropy', 'n_estimators': 1000, 'random_state': 46}\n",
            "\n",
            "Acurácia: 0.8561904761904762 para os parâmetros {'criterion': 'entropy', 'n_estimators': 1250, 'random_state': 0}\n",
            "\n",
            "Acurácia: 0.8561904761904762 para os parâmetros {'criterion': 'entropy', 'n_estimators': 1250, 'random_state': 20}\n",
            "\n",
            "Acurácia: 0.8609523809523809 para os parâmetros {'criterion': 'entropy', 'n_estimators': 1250, 'random_state': 23}\n",
            "\n",
            "Acurácia: 0.8657142857142857 para os parâmetros {'criterion': 'entropy', 'n_estimators': 1250, 'random_state': 37}\n",
            "\n",
            "Acurácia: 0.8609523809523809 para os parâmetros {'criterion': 'entropy', 'n_estimators': 1250, 'random_state': 38}\n",
            "\n",
            "Acurácia: 0.8657142857142857 para os parâmetros {'criterion': 'entropy', 'n_estimators': 1250, 'random_state': 42}\n",
            "\n",
            "Acurácia: 0.8657142857142857 para os parâmetros {'criterion': 'entropy', 'n_estimators': 1250, 'random_state': 46}\n",
            "\n",
            "Acurácia: 0.8561904761904762 para os parâmetros {'criterion': 'entropy', 'n_estimators': 1500, 'random_state': 0}\n",
            "\n",
            "Acurácia: 0.8609523809523809 para os parâmetros {'criterion': 'entropy', 'n_estimators': 1500, 'random_state': 20}\n",
            "\n",
            "Acurácia: 0.8561904761904762 para os parâmetros {'criterion': 'entropy', 'n_estimators': 1500, 'random_state': 23}\n",
            "\n",
            "Acurácia: 0.8609523809523809 para os parâmetros {'criterion': 'entropy', 'n_estimators': 1500, 'random_state': 37}\n",
            "\n",
            "Acurácia: 0.8609523809523809 para os parâmetros {'criterion': 'entropy', 'n_estimators': 1500, 'random_state': 38}\n",
            "\n",
            "Acurácia: 0.8657142857142857 para os parâmetros {'criterion': 'entropy', 'n_estimators': 1500, 'random_state': 42}\n",
            "\n",
            "Acurácia: 0.8609523809523809 para os parâmetros {'criterion': 'entropy', 'n_estimators': 1500, 'random_state': 46}\n",
            "\n",
            "Melhor resultado: 0.8704761904761904 para {'criterion': 'entropy', 'n_estimators': 500, 'random_state': 37}\n"
          ],
          "name": "stdout"
        }
      ]
    },
    {
      "cell_type": "markdown",
      "metadata": {
        "id": "d8I_nB0aEDHM"
      },
      "source": [
        "Pelos resultados da busca, obtive então 3 modelos-candidatos, que obtiveram o mesmo score de `0.8704761904761904`:\r\n",
        "\r\n",
        "*   **Modelo 1**: {'criterion': 'entropy', 'n_estimators': 500, 'random_state': 37}\r\n",
        "*   **Modelo 2**: {'criterion': 'entropy', 'n_estimators': 750, 'random_state': 37}\r\n",
        "*   **Modelo 3**: {'criterion': 'entropy', 'n_estimators': 750, 'random_state': 42}"
      ]
    },
    {
      "cell_type": "markdown",
      "metadata": {
        "id": "IoJck0CTHgeI"
      },
      "source": [
        "## 3.4. Performance dos modelos candidatos com o conjunto de dados de teste"
      ]
    },
    {
      "cell_type": "code",
      "metadata": {
        "colab": {
          "base_uri": "https://localhost:8080/"
        },
        "id": "KbJmy5ZbL7wu",
        "outputId": "8fd8e5bb-83a5-4493-e6f2-4788b352e1f7"
      },
      "source": [
        "# Testando o modelo 1\r\n",
        "\r\n",
        "modelo_1 = RandomForestClassifier(n_estimators=500, criterion='entropy', random_state=37, n_jobs=-1)\r\n",
        "modelo_1.fit(X,y)\r\n",
        "y_pred_modelo_1 = modelo_1.predict(X_teste)\r\n",
        "print(\"A acurácia do modelo otimizado é:\", round(accuracy_score(gt, y_pred_modelo_1), 5) * 100, \"%\")\r\n",
        "print(\"O índice cohen-kappa do modelo default é:\", round(cohen_kappa_score(gt, y_pred_modelo_1), 3))"
      ],
      "execution_count": 39,
      "outputs": [
        {
          "output_type": "stream",
          "text": [
            "A acurácia do modelo otimizado é: 90.764 %\n",
            "O índice cohen-kappa do modelo default é: 0.871\n"
          ],
          "name": "stdout"
        }
      ]
    },
    {
      "cell_type": "code",
      "metadata": {
        "colab": {
          "base_uri": "https://localhost:8080/",
          "height": 378
        },
        "id": "UFQhcGZGM3sh",
        "outputId": "eb258f06-56bc-4763-fdeb-b8482ae7490d"
      },
      "source": [
        "# matrix de confusão do Modelo 1\r\n",
        "\r\n",
        "cf_1 = pd.DataFrame(confusion_matrix(gt, y_pred_modelo_1), columns=['Pred s', 'Pred h', 'Pred d', 'Pred o'], \r\n",
        "             index=['True s', 'True h', 'True d', 'True o'])\r\n",
        "\r\n",
        "sns.set(font_scale=1.6)\r\n",
        "\r\n",
        "sns.heatmap(cf_1, annot=True, fmt='', annot_kws={'fontsize': 16}, cmap='Greens', cbar=False)"
      ],
      "execution_count": 40,
      "outputs": [
        {
          "output_type": "execute_result",
          "data": {
            "text/plain": [
              "<matplotlib.axes._subplots.AxesSubplot at 0x7f2d2c502be0>"
            ]
          },
          "metadata": {
            "tags": []
          },
          "execution_count": 40
        },
        {
          "output_type": "display_data",
          "data": {
            "image/png": "[encoded data removed]",
            "text/plain": [
              "<Figure size 576x396 with 1 Axes>"
            ]
          },
          "metadata": {
            "tags": []
          }
        }
      ]
    },
    {
      "cell_type": "code",
      "metadata": {
        "colab": {
          "base_uri": "https://localhost:8080/"
        },
        "id": "xripa28AMhyb",
        "outputId": "c1b5de5f-8133-4a1e-fa0a-e1e779112149"
      },
      "source": [
        "# Testando o modelo 2\r\n",
        "\r\n",
        "modelo_2 = RandomForestClassifier(n_estimators=750, criterion='entropy', random_state=37, n_jobs=-1)\r\n",
        "modelo_2.fit(X,y)\r\n",
        "y_pred_modelo_2 = modelo_2.predict(X_teste)\r\n",
        "print(\"A acurácia do modelo otimizado é:\", round(accuracy_score(gt, y_pred_modelo_2), 5) * 100, \"%\")\r\n",
        "print(\"O índice cohen-kappa do modelo default é:\", round(cohen_kappa_score(gt, y_pred_modelo_2), 3))"
      ],
      "execution_count": 41,
      "outputs": [
        {
          "output_type": "stream",
          "text": [
            "A acurácia do modelo otimizado é: 91.083 %\n",
            "O índice cohen-kappa do modelo default é: 0.876\n"
          ],
          "name": "stdout"
        }
      ]
    },
    {
      "cell_type": "code",
      "metadata": {
        "colab": {
          "base_uri": "https://localhost:8080/",
          "height": 378
        },
        "id": "Gp6EBZafNspG",
        "outputId": "2c636d36-f149-411f-9d22-4826ce35ea65"
      },
      "source": [
        "# Matriz de confusão do Modelo 2\r\n",
        "\r\n",
        "cf_2 = pd.DataFrame(confusion_matrix(gt, y_pred_modelo_2), columns=['Pred s', 'Pred h', 'Pred d', 'Pred o'], \r\n",
        "             index=['True s', 'True h', 'True d', 'True o'])\r\n",
        "\r\n",
        "sns.set(font_scale=1.6)\r\n",
        "\r\n",
        "sns.heatmap(cf_2, annot=True, fmt='', annot_kws={'fontsize': 16}, cmap='Reds', cbar=False)"
      ],
      "execution_count": 47,
      "outputs": [
        {
          "output_type": "execute_result",
          "data": {
            "text/plain": [
              "<matplotlib.axes._subplots.AxesSubplot at 0x7f2d2b2e92e8>"
            ]
          },
          "metadata": {
            "tags": []
          },
          "execution_count": 47
        },
        {
          "output_type": "display_data",
          "data": {
            "image/png": "[encoded data removed]",
            "text/plain": [
              "<Figure size 576x396 with 1 Axes>"
            ]
          },
          "metadata": {
            "tags": []
          }
        }
      ]
    },
    {
      "cell_type": "code",
      "metadata": {
        "colab": {
          "base_uri": "https://localhost:8080/"
        },
        "id": "G3yDyqPvMnqD",
        "outputId": "897ec585-0284-4f1c-83b8-f767854278ec"
      },
      "source": [
        "# Testando o modelo 3\r\n",
        "\r\n",
        "modelo_3 = RandomForestClassifier(n_estimators=750, criterion='entropy', random_state=42, n_jobs=-1)\r\n",
        "modelo_3.fit(X,y)\r\n",
        "y_pred_modelo_3 = modelo_3.predict(X_teste)\r\n",
        "print(\"A acurácia do modelo otimizado é:\", round(accuracy_score(gt, y_pred_modelo_3), 5) * 100, \"%\")\r\n",
        "print(\"O índice cohen-kappa do modelo default é:\", round(cohen_kappa_score(gt, y_pred_modelo_3), 3))"
      ],
      "execution_count": 43,
      "outputs": [
        {
          "output_type": "stream",
          "text": [
            "A acurácia do modelo otimizado é: 90.446 %\n",
            "O índice cohen-kappa do modelo default é: 0.867\n"
          ],
          "name": "stdout"
        }
      ]
    },
    {
      "cell_type": "code",
      "metadata": {
        "colab": {
          "base_uri": "https://localhost:8080/",
          "height": 378
        },
        "id": "ZJjwKilYN9RV",
        "outputId": "fcaaef3c-8bd4-4ded-9b1b-9d6935e0cf21"
      },
      "source": [
        "# Matriz de confusão do Modelo 3\r\n",
        "\r\n",
        "cf_3 = pd.DataFrame(confusion_matrix(gt, y_pred_modelo_3), columns=['Pred s', 'Pred h', 'Pred d', 'Pred o'], \r\n",
        "             index=['True s', 'True h', 'True d', 'True o'])\r\n",
        "\r\n",
        "sns.set(font_scale=1.6)\r\n",
        "\r\n",
        "sns.heatmap(cf_3, annot=True, fmt='', annot_kws={'fontsize': 16}, cmap='Greens', cbar=False)"
      ],
      "execution_count": 48,
      "outputs": [
        {
          "output_type": "execute_result",
          "data": {
            "text/plain": [
              "<matplotlib.axes._subplots.AxesSubplot at 0x7f2d2c4da588>"
            ]
          },
          "metadata": {
            "tags": []
          },
          "execution_count": 48
        },
        {
          "output_type": "display_data",
          "data": {
            "image/png": "[encoded data removed]",
            "text/plain": [
              "<Figure size 576x396 with 1 Axes>"
            ]
          },
          "metadata": {
            "tags": []
          }
        }
      ]
    },
    {
      "cell_type": "markdown",
      "metadata": {
        "id": "NhrERtQo4mgz"
      },
      "source": [
        "# 4. Conclusões"
      ]
    },
    {
      "cell_type": "markdown",
      "metadata": {
        "id": "Y_DK66V-AI_w"
      },
      "source": [
        "Neste projeto, executei uma série de procedimentos para a construção de um modelo de  aprendizado de máquina capaz de prever múltiplas classes temáticas a partir de dados estruturados derivados de imagens de satélite e interpolação espacial.\r\n",
        "\r\n",
        "O modelo que apresentou a melhor performance obteve uma acurácia de 91,08% e índice kappa de 0,876, sendo então escolhido como o modelo final otimizado para o problema.\r\n",
        "\r\n",
        "Com o modelo final devidamente ajustado, realizei o treinamento e fiz previsões nos dados de teste. Comparando com os resultados do modelo padrão, têm-se: \r\n",
        "\r\n",
        "*   **Melhoria de 1,58 pontos percentuais na acurácia**\r\n",
        "*   **Melhoria de 2,51 pontos percentuais no índice kappa**\r\n",
        "\r\n",
        "Além disso, pelas matrizes de confusão pode-se observar que, em geral, o modelo otimizado aumentou a taxa de acerto para todas as classes, exceto a classe '`h`'. Consequentemente, houve uma diminuição de casos do tipo \"falso-positivo\" em todas as classes, exceto a classe '`o`'.\r\n",
        "\r\n",
        "Dadas as características dos conjuntos de dados, que apresentam atributos com dados medidos direta e indiretamente e classes desbalanceadas, as performances de ambos os modelos foram excelentes. \r\n",
        "\r\n",
        "**Por fim, com a pontuação alcançada com o modelo otimizado, ficaria empatado com o terceiro lugar geral no ranking da competição.**"
      ]
    }
  ]
}