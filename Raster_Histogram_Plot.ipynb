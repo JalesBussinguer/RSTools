{
 "cells": [
  {
   "cell_type": "markdown",
   "metadata": {},
   "source": [
    "# Raster Histogram Plot"
   ]
  },
  {
   "cell_type": "markdown",
   "metadata": {},
   "source": [
    "## <font color=green> This is my first program in Python!\n",
    "## My main goal here is to explore libraries that allow me to plot the histogram of satellite imagery.\n",
    "\n",
    "This is my first step to achieve my goal: be able to implement some tools to handle with satellite imagery and spatial data."
   ]
  },
  {
   "cell_type": "markdown",
   "metadata": {},
   "source": [
    "### The Algorithm"
   ]
  },
  {
   "cell_type": "markdown",
   "metadata": {},
   "source": [
    "This program is divided in 3 code blocks:\n",
    "- The first one imports the raster data and reads it. Some information about the data will be printed, like the geotransform, data type, driver, number of bands, width, height, and more;\n",
    "- The second one converts the data into a 2-D array and calculates the histogram. In this process, some statistical information will be collected as well such as mean, variance, standard deviation, min and max values and some other interesting infos;\n",
    "- The last one plots the histogram.\n",
    "\n",
    "The code below is separated into steps to enhance the comprehension of the algorithm."
   ]
  },
  {
   "cell_type": "markdown",
   "metadata": {},
   "source": [
    "### <font color=blue> Step 01: <font color=orange> Import the libraries\n",
    "\n"
   ]
  },
  {
   "cell_type": "markdown",
   "metadata": {},
   "source": [
    "In this program, each library has a purpose. I will use [rasterio](https://rasterio.readthedocs.io/en/latest/index.html#) to handle with geospatial raster data (satellite imagery). [NumPy](https://numpy.org/doc/1.18/user/index.html) will be used to manipulate the data as an array and [Seaborn](https://seaborn.pydata.org/api.html) will be used to plot the histogram."
   ]
  },
  {
   "cell_type": "code",
   "execution_count": 19,
   "metadata": {},
   "outputs": [],
   "source": [
    "import rasterio as rst\n",
    "import numpy as np\n",
    "import seaborn as sn\n",
    "import gdal"
   ]
  },
  {
   "cell_type": "markdown",
   "metadata": {},
   "source": [
    "### <font color=blue> Step 02: <font color=orange> Import the raster data"
   ]
  },
  {
   "cell_type": "code",
   "execution_count": 11,
   "metadata": {},
   "outputs": [],
   "source": [
    "# I will use the variable B1 to represent my dataset.\n",
    "# In this case, the dataset is the Band 1 of a Landsat 8 image of Brasilia, Brazil.\n",
    "# This is my first attempt, so I will use a single band for instance.\n",
    "\n",
    "B1 = \"D:\\BSB\\LC08_L1TP_221071_20200411_20200411_01_RT_B1.tif\""
   ]
  },
  {
   "cell_type": "code",
   "execution_count": 26,
   "metadata": {},
   "outputs": [],
   "source": [
    "img = gdal.Open(B1) # The variable img is used to represent the open image.\n",
    "#print(img.profile) # The method .profile returns the metadata of the raster dataset.\n",
    "\n",
    "# There are some interesting infos like the Coordinate Reference System (CRS) and the size (columns and rows) of the scene.\n",
    "# All this information gives us some insight about the size of our domain of analysis and some of its characteristics."
   ]
  },
  {
   "cell_type": "markdown",
   "metadata": {},
   "source": [
    "### <font color=blue> Step 03: <font color=orange> Convert the raster into a 2-D array"
   ]
  },
  {
   "cell_type": "code",
   "execution_count": 27,
   "metadata": {},
   "outputs": [],
   "source": [
    "img_array = img.GetRasterBand(1).ReadAsArray()"
   ]
  },
  {
   "cell_type": "code",
   "execution_count": 28,
   "metadata": {},
   "outputs": [
    {
     "data": {
      "text/plain": [
       "numpy.ndarray"
      ]
     },
     "execution_count": 28,
     "metadata": {},
     "output_type": "execute_result"
    }
   ],
   "source": [
    "type(img_array)"
   ]
  },
  {
   "cell_type": "code",
   "execution_count": 29,
   "metadata": {},
   "outputs": [
    {
     "data": {
      "text/plain": [
       "osgeo.gdal.Dataset"
      ]
     },
     "execution_count": 29,
     "metadata": {},
     "output_type": "execute_result"
    }
   ],
   "source": [
    "type(img)"
   ]
  },
  {
   "cell_type": "code",
   "execution_count": null,
   "metadata": {},
   "outputs": [],
   "source": []
  }
 ],
 "metadata": {
  "kernelspec": {
   "display_name": "Python 3",
   "language": "python",
   "name": "python3"
  },
  "language_info": {
   "codemirror_mode": {
    "name": "ipython",
    "version": 3
   },
   "file_extension": ".py",
   "mimetype": "text/x-python",
   "name": "python",
   "nbconvert_exporter": "python",
   "pygments_lexer": "ipython3",
   "version": "3.7.6"
  }
 },
 "nbformat": 4,
 "nbformat_minor": 4
}
