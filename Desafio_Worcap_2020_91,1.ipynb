{
  "nbformat": 4,
  "nbformat_minor": 0,
  "metadata": {
    "colab": {
      "name": "Desafio_Worcap_2020_91,1%.ipynb",
      "provenance": [],
      "collapsed_sections": [],
      "authorship_tag": "ABX9TyOGUIwqQHBrx4p9rqpC/spy",
      "include_colab_link": true
    },
    "kernelspec": {
      "name": "python3",
      "display_name": "Python 3"
    }
  },
  "cells": [
    {
      "cell_type": "markdown",
      "metadata": {
        "id": "view-in-github",
        "colab_type": "text"
      },
      "source": [
        "<a href=\"https://colab.research.google.com/github/JalesBussinguer/Remote_Sensing_Studies/blob/master/Desafio_Worcap_2020_91%2C1.ipynb\" target=\"_parent\"><img src=\"https://colab.research.google.com/assets/colab-badge.svg\" alt=\"Open In Colab\"/></a>"
      ]
    },
    {
      "cell_type": "code",
      "metadata": {
        "id": "dMMeUx7y94l1"
      },
      "source": [
        "# Importação das bibliotecas básicas\r\n",
        "import pandas as pd\r\n",
        "import numpy as np\r\n",
        "\r\n",
        "# Importação das bibliotecas de visualização\r\n",
        "import matplotlib.pyplot as plt\r\n",
        "import seaborn as sns\r\n",
        "\r\n",
        "# Importação das bibliotecas e módulos de machine learning\r\n",
        "from sklearn import ensemble, preprocessing, tree\r\n",
        "from sklearn.metrics import confusion_matrix, precision_score, recall_score, f1_score\r\n",
        "from sklearn.model_selection import cross_val_score, GridSearchCV, RandomizedSearchCV, KFold\r\n",
        "from yellowbrick.classifier import ConfusionMatrix, ROCAUC"
      ],
      "execution_count": 33,
      "outputs": []
    },
    {
      "cell_type": "code",
      "metadata": {
        "id": "f3felJqR_4vk",
        "colab": {
          "base_uri": "https://localhost:8080/",
          "height": 224
        },
        "outputId": "785a89ba-caba-4208-e7f3-9c32d5374b11"
      },
      "source": [
        "# Importando os dados de treino (verdade terrestre)\r\n",
        "\r\n",
        "df = \"https://raw.githubusercontent.com/JalesBussinguer/Remote_Sensing_Studies/master/data/worcap_2020/dados_verdade_terrestre.csv\"\r\n",
        "\r\n",
        "dados = pd.read_csv(df)\r\n",
        "\r\n",
        "dados.head()"
      ],
      "execution_count": 2,
      "outputs": [
        {
          "output_type": "execute_result",
          "data": {
            "text/html": [
              "<div>\n",
              "<style scoped>\n",
              "    .dataframe tbody tr th:only-of-type {\n",
              "        vertical-align: middle;\n",
              "    }\n",
              "\n",
              "    .dataframe tbody tr th {\n",
              "        vertical-align: top;\n",
              "    }\n",
              "\n",
              "    .dataframe thead th {\n",
              "        text-align: right;\n",
              "    }\n",
              "</style>\n",
              "<table border=\"1\" class=\"dataframe\">\n",
              "  <thead>\n",
              "    <tr style=\"text-align: right;\">\n",
              "      <th></th>\n",
              "      <th>id</th>\n",
              "      <th>b1</th>\n",
              "      <th>b2</th>\n",
              "      <th>b3</th>\n",
              "      <th>b4</th>\n",
              "      <th>b5</th>\n",
              "      <th>b6</th>\n",
              "      <th>b7</th>\n",
              "      <th>b8</th>\n",
              "      <th>b9</th>\n",
              "      <th>pred_minus_obs_H_b1</th>\n",
              "      <th>pred_minus_obs_H_b2</th>\n",
              "      <th>pred_minus_obs_H_b3</th>\n",
              "      <th>pred_minus_obs_H_b4</th>\n",
              "      <th>pred_minus_obs_H_b5</th>\n",
              "      <th>pred_minus_obs_H_b6</th>\n",
              "      <th>pred_minus_obs_H_b7</th>\n",
              "      <th>pred_minus_obs_H_b8</th>\n",
              "      <th>pred_minus_obs_H_b9</th>\n",
              "      <th>pred_minus_obs_S_b1</th>\n",
              "      <th>pred_minus_obs_S_b2</th>\n",
              "      <th>pred_minus_obs_S_b3</th>\n",
              "      <th>pred_minus_obs_S_b4</th>\n",
              "      <th>pred_minus_obs_S_b5</th>\n",
              "      <th>pred_minus_obs_S_b6</th>\n",
              "      <th>pred_minus_obs_S_b7</th>\n",
              "      <th>pred_minus_obs_S_b8</th>\n",
              "      <th>pred_minus_obs_S_b9</th>\n",
              "      <th>label</th>\n",
              "    </tr>\n",
              "  </thead>\n",
              "  <tbody>\n",
              "    <tr>\n",
              "      <th>0</th>\n",
              "      <td>454</td>\n",
              "      <td>54</td>\n",
              "      <td>28</td>\n",
              "      <td>51</td>\n",
              "      <td>93</td>\n",
              "      <td>56</td>\n",
              "      <td>100</td>\n",
              "      <td>80</td>\n",
              "      <td>24</td>\n",
              "      <td>55</td>\n",
              "      <td>64.88</td>\n",
              "      <td>26.03</td>\n",
              "      <td>50.29</td>\n",
              "      <td>6.74</td>\n",
              "      <td>-30.83</td>\n",
              "      <td>-39.83</td>\n",
              "      <td>0.47</td>\n",
              "      <td>5.50</td>\n",
              "      <td>0.47</td>\n",
              "      <td>-24.52</td>\n",
              "      <td>-0.83</td>\n",
              "      <td>-3.99</td>\n",
              "      <td>-23.22</td>\n",
              "      <td>-0.94</td>\n",
              "      <td>-4.30</td>\n",
              "      <td>-23.22</td>\n",
              "      <td>-1.69</td>\n",
              "      <td>-4.55</td>\n",
              "      <td>s</td>\n",
              "    </tr>\n",
              "    <tr>\n",
              "      <th>1</th>\n",
              "      <td>457</td>\n",
              "      <td>54</td>\n",
              "      <td>29</td>\n",
              "      <td>51</td>\n",
              "      <td>88</td>\n",
              "      <td>51</td>\n",
              "      <td>91</td>\n",
              "      <td>95</td>\n",
              "      <td>24</td>\n",
              "      <td>55</td>\n",
              "      <td>56.28</td>\n",
              "      <td>20.62</td>\n",
              "      <td>42.67</td>\n",
              "      <td>10.16</td>\n",
              "      <td>-26.12</td>\n",
              "      <td>-32.05</td>\n",
              "      <td>-21.37</td>\n",
              "      <td>5.39</td>\n",
              "      <td>-0.30</td>\n",
              "      <td>-19.03</td>\n",
              "      <td>-0.54</td>\n",
              "      <td>-4.09</td>\n",
              "      <td>-22.24</td>\n",
              "      <td>-1.01</td>\n",
              "      <td>-4.93</td>\n",
              "      <td>-17.81</td>\n",
              "      <td>-0.53</td>\n",
              "      <td>-2.98</td>\n",
              "      <td>s</td>\n",
              "    </tr>\n",
              "    <tr>\n",
              "      <th>2</th>\n",
              "      <td>261</td>\n",
              "      <td>59</td>\n",
              "      <td>30</td>\n",
              "      <td>52</td>\n",
              "      <td>90</td>\n",
              "      <td>54</td>\n",
              "      <td>93</td>\n",
              "      <td>80</td>\n",
              "      <td>26</td>\n",
              "      <td>58</td>\n",
              "      <td>56.58</td>\n",
              "      <td>21.37</td>\n",
              "      <td>45.45</td>\n",
              "      <td>12.77</td>\n",
              "      <td>-28.17</td>\n",
              "      <td>-30.94</td>\n",
              "      <td>-1.30</td>\n",
              "      <td>3.64</td>\n",
              "      <td>-2.27</td>\n",
              "      <td>-21.04</td>\n",
              "      <td>-1.86</td>\n",
              "      <td>-5.61</td>\n",
              "      <td>-27.73</td>\n",
              "      <td>-1.15</td>\n",
              "      <td>-5.74</td>\n",
              "      <td>-21.81</td>\n",
              "      <td>-2.39</td>\n",
              "      <td>-5.07</td>\n",
              "      <td>s</td>\n",
              "    </tr>\n",
              "    <tr>\n",
              "      <th>3</th>\n",
              "      <td>8</td>\n",
              "      <td>53</td>\n",
              "      <td>27</td>\n",
              "      <td>49</td>\n",
              "      <td>95</td>\n",
              "      <td>49</td>\n",
              "      <td>92</td>\n",
              "      <td>63</td>\n",
              "      <td>25</td>\n",
              "      <td>54</td>\n",
              "      <td>66.97</td>\n",
              "      <td>24.43</td>\n",
              "      <td>49.28</td>\n",
              "      <td>8.08</td>\n",
              "      <td>-22.53</td>\n",
              "      <td>-28.25</td>\n",
              "      <td>19.78</td>\n",
              "      <td>3.75</td>\n",
              "      <td>0.92</td>\n",
              "      <td>-25.65</td>\n",
              "      <td>-2.09</td>\n",
              "      <td>-5.95</td>\n",
              "      <td>-39.27</td>\n",
              "      <td>-2.13</td>\n",
              "      <td>-8.73</td>\n",
              "      <td>-30.73</td>\n",
              "      <td>-2.42</td>\n",
              "      <td>-5.58</td>\n",
              "      <td>s</td>\n",
              "    </tr>\n",
              "    <tr>\n",
              "      <th>4</th>\n",
              "      <td>478</td>\n",
              "      <td>58</td>\n",
              "      <td>40</td>\n",
              "      <td>65</td>\n",
              "      <td>100</td>\n",
              "      <td>58</td>\n",
              "      <td>100</td>\n",
              "      <td>106</td>\n",
              "      <td>26</td>\n",
              "      <td>57</td>\n",
              "      <td>51.79</td>\n",
              "      <td>8.74</td>\n",
              "      <td>28.06</td>\n",
              "      <td>-1.00</td>\n",
              "      <td>-33.12</td>\n",
              "      <td>-41.04</td>\n",
              "      <td>-32.17</td>\n",
              "      <td>3.48</td>\n",
              "      <td>-2.08</td>\n",
              "      <td>-18.31</td>\n",
              "      <td>-0.20</td>\n",
              "      <td>-4.85</td>\n",
              "      <td>-21.15</td>\n",
              "      <td>-1.00</td>\n",
              "      <td>-4.84</td>\n",
              "      <td>-17.00</td>\n",
              "      <td>-0.91</td>\n",
              "      <td>-3.38</td>\n",
              "      <td>d</td>\n",
              "    </tr>\n",
              "  </tbody>\n",
              "</table>\n",
              "</div>"
            ],
            "text/plain": [
              "    id  b1  b2  ...  pred_minus_obs_S_b8  pred_minus_obs_S_b9  label\n",
              "0  454  54  28  ...                -1.69                -4.55     s \n",
              "1  457  54  29  ...                -0.53                -2.98     s \n",
              "2  261  59  30  ...                -2.39                -5.07     s \n",
              "3    8  53  27  ...                -2.42                -5.58     s \n",
              "4  478  58  40  ...                -0.91                -3.38     d \n",
              "\n",
              "[5 rows x 29 columns]"
            ]
          },
          "metadata": {
            "tags": []
          },
          "execution_count": 2
        }
      ]
    },
    {
      "cell_type": "markdown",
      "metadata": {
        "id": "B7rJnvxqKWik"
      },
      "source": [
        "O conjunto de dados **`treino.csv`** será utilizado para construir os modelos de aprendizagem de máquina. Este apresenta a \"verdade em terra\" para cada classe por meio da coluna `label`."
      ]
    },
    {
      "cell_type": "code",
      "metadata": {
        "id": "hl2HzNzhB32a",
        "colab": {
          "base_uri": "https://localhost:8080/",
          "height": 439
        },
        "outputId": "274a9aee-f468-4a15-9812-dbb491fc5f77"
      },
      "source": [
        "# Importação dos dados de validação\r\n",
        "\r\n",
        "dados_validacao = pd.read_csv(\"https://raw.githubusercontent.com/JalesBussinguer/Remote_Sensing_Studies/master/data/worcap_2020/dados_validacao.csv\")\r\n",
        "\r\n",
        "X_validacao = dados_validacao.drop(columns=\"id\").values\r\n",
        "dados_validacao"
      ],
      "execution_count": 3,
      "outputs": [
        {
          "output_type": "execute_result",
          "data": {
            "text/html": [
              "<div>\n",
              "<style scoped>\n",
              "    .dataframe tbody tr th:only-of-type {\n",
              "        vertical-align: middle;\n",
              "    }\n",
              "\n",
              "    .dataframe tbody tr th {\n",
              "        vertical-align: top;\n",
              "    }\n",
              "\n",
              "    .dataframe thead th {\n",
              "        text-align: right;\n",
              "    }\n",
              "</style>\n",
              "<table border=\"1\" class=\"dataframe\">\n",
              "  <thead>\n",
              "    <tr style=\"text-align: right;\">\n",
              "      <th></th>\n",
              "      <th>id</th>\n",
              "      <th>b1</th>\n",
              "      <th>b2</th>\n",
              "      <th>b3</th>\n",
              "      <th>b4</th>\n",
              "      <th>b5</th>\n",
              "      <th>b6</th>\n",
              "      <th>b7</th>\n",
              "      <th>b8</th>\n",
              "      <th>b9</th>\n",
              "      <th>pred_minus_obs_H_b1</th>\n",
              "      <th>pred_minus_obs_H_b2</th>\n",
              "      <th>pred_minus_obs_H_b3</th>\n",
              "      <th>pred_minus_obs_H_b4</th>\n",
              "      <th>pred_minus_obs_H_b5</th>\n",
              "      <th>pred_minus_obs_H_b6</th>\n",
              "      <th>pred_minus_obs_H_b7</th>\n",
              "      <th>pred_minus_obs_H_b8</th>\n",
              "      <th>pred_minus_obs_H_b9</th>\n",
              "      <th>pred_minus_obs_S_b1</th>\n",
              "      <th>pred_minus_obs_S_b2</th>\n",
              "      <th>pred_minus_obs_S_b3</th>\n",
              "      <th>pred_minus_obs_S_b4</th>\n",
              "      <th>pred_minus_obs_S_b5</th>\n",
              "      <th>pred_minus_obs_S_b6</th>\n",
              "      <th>pred_minus_obs_S_b7</th>\n",
              "      <th>pred_minus_obs_S_b8</th>\n",
              "      <th>pred_minus_obs_S_b9</th>\n",
              "    </tr>\n",
              "  </thead>\n",
              "  <tbody>\n",
              "    <tr>\n",
              "      <th>0</th>\n",
              "      <td>356</td>\n",
              "      <td>79</td>\n",
              "      <td>28</td>\n",
              "      <td>54</td>\n",
              "      <td>117</td>\n",
              "      <td>52</td>\n",
              "      <td>99</td>\n",
              "      <td>93</td>\n",
              "      <td>25</td>\n",
              "      <td>60</td>\n",
              "      <td>34.87</td>\n",
              "      <td>24.16</td>\n",
              "      <td>45.04</td>\n",
              "      <td>-23.75</td>\n",
              "      <td>-26.66</td>\n",
              "      <td>-38.87</td>\n",
              "      <td>-18.61</td>\n",
              "      <td>4.12</td>\n",
              "      <td>-5.03</td>\n",
              "      <td>-18.51</td>\n",
              "      <td>-1.36</td>\n",
              "      <td>-4.23</td>\n",
              "      <td>-18.09</td>\n",
              "      <td>-0.70</td>\n",
              "      <td>-3.27</td>\n",
              "      <td>-15.79</td>\n",
              "      <td>-1.21</td>\n",
              "      <td>-3.39</td>\n",
              "    </tr>\n",
              "    <tr>\n",
              "      <th>1</th>\n",
              "      <td>202</td>\n",
              "      <td>46</td>\n",
              "      <td>27</td>\n",
              "      <td>50</td>\n",
              "      <td>83</td>\n",
              "      <td>51</td>\n",
              "      <td>90</td>\n",
              "      <td>76</td>\n",
              "      <td>26</td>\n",
              "      <td>56</td>\n",
              "      <td>68.54</td>\n",
              "      <td>24.27</td>\n",
              "      <td>48.21</td>\n",
              "      <td>16.37</td>\n",
              "      <td>-24.89</td>\n",
              "      <td>-27.66</td>\n",
              "      <td>2.19</td>\n",
              "      <td>4.93</td>\n",
              "      <td>1.25</td>\n",
              "      <td>-18.62</td>\n",
              "      <td>-2.17</td>\n",
              "      <td>-7.11</td>\n",
              "      <td>-21.12</td>\n",
              "      <td>-1.56</td>\n",
              "      <td>-6.35</td>\n",
              "      <td>-22.19</td>\n",
              "      <td>-4.45</td>\n",
              "      <td>-7.32</td>\n",
              "    </tr>\n",
              "    <tr>\n",
              "      <th>2</th>\n",
              "      <td>183</td>\n",
              "      <td>56</td>\n",
              "      <td>26</td>\n",
              "      <td>50</td>\n",
              "      <td>94</td>\n",
              "      <td>50</td>\n",
              "      <td>87</td>\n",
              "      <td>83</td>\n",
              "      <td>24</td>\n",
              "      <td>54</td>\n",
              "      <td>53.57</td>\n",
              "      <td>21.97</td>\n",
              "      <td>43.47</td>\n",
              "      <td>2.00</td>\n",
              "      <td>-25.22</td>\n",
              "      <td>-27.11</td>\n",
              "      <td>-8.04</td>\n",
              "      <td>5.69</td>\n",
              "      <td>1.43</td>\n",
              "      <td>-12.99</td>\n",
              "      <td>0.23</td>\n",
              "      <td>-5.97</td>\n",
              "      <td>-14.35</td>\n",
              "      <td>-0.55</td>\n",
              "      <td>-5.40</td>\n",
              "      <td>-14.51</td>\n",
              "      <td>-2.68</td>\n",
              "      <td>-5.15</td>\n",
              "    </tr>\n",
              "    <tr>\n",
              "      <th>3</th>\n",
              "      <td>306</td>\n",
              "      <td>56</td>\n",
              "      <td>58</td>\n",
              "      <td>81</td>\n",
              "      <td>69</td>\n",
              "      <td>65</td>\n",
              "      <td>100</td>\n",
              "      <td>109</td>\n",
              "      <td>42</td>\n",
              "      <td>80</td>\n",
              "      <td>56.41</td>\n",
              "      <td>-8.84</td>\n",
              "      <td>11.55</td>\n",
              "      <td>26.51</td>\n",
              "      <td>-40.14</td>\n",
              "      <td>-41.28</td>\n",
              "      <td>-32.79</td>\n",
              "      <td>-11.96</td>\n",
              "      <td>-24.36</td>\n",
              "      <td>-19.27</td>\n",
              "      <td>-0.81</td>\n",
              "      <td>-4.45</td>\n",
              "      <td>-18.37</td>\n",
              "      <td>-0.94</td>\n",
              "      <td>-4.23</td>\n",
              "      <td>-16.77</td>\n",
              "      <td>-1.35</td>\n",
              "      <td>-3.65</td>\n",
              "    </tr>\n",
              "    <tr>\n",
              "      <th>4</th>\n",
              "      <td>511</td>\n",
              "      <td>70</td>\n",
              "      <td>28</td>\n",
              "      <td>53</td>\n",
              "      <td>103</td>\n",
              "      <td>53</td>\n",
              "      <td>99</td>\n",
              "      <td>94</td>\n",
              "      <td>24</td>\n",
              "      <td>61</td>\n",
              "      <td>46.95</td>\n",
              "      <td>24.05</td>\n",
              "      <td>45.32</td>\n",
              "      <td>0.11</td>\n",
              "      <td>-28.10</td>\n",
              "      <td>-39.45</td>\n",
              "      <td>-14.22</td>\n",
              "      <td>5.33</td>\n",
              "      <td>-5.90</td>\n",
              "      <td>-23.26</td>\n",
              "      <td>-0.43</td>\n",
              "      <td>-4.16</td>\n",
              "      <td>-28.30</td>\n",
              "      <td>-1.13</td>\n",
              "      <td>-4.92</td>\n",
              "      <td>-23.06</td>\n",
              "      <td>-1.53</td>\n",
              "      <td>-4.15</td>\n",
              "    </tr>\n",
              "    <tr>\n",
              "      <th>...</th>\n",
              "      <td>...</td>\n",
              "      <td>...</td>\n",
              "      <td>...</td>\n",
              "      <td>...</td>\n",
              "      <td>...</td>\n",
              "      <td>...</td>\n",
              "      <td>...</td>\n",
              "      <td>...</td>\n",
              "      <td>...</td>\n",
              "      <td>...</td>\n",
              "      <td>...</td>\n",
              "      <td>...</td>\n",
              "      <td>...</td>\n",
              "      <td>...</td>\n",
              "      <td>...</td>\n",
              "      <td>...</td>\n",
              "      <td>...</td>\n",
              "      <td>...</td>\n",
              "      <td>...</td>\n",
              "      <td>...</td>\n",
              "      <td>...</td>\n",
              "      <td>...</td>\n",
              "      <td>...</td>\n",
              "      <td>...</td>\n",
              "      <td>...</td>\n",
              "      <td>...</td>\n",
              "      <td>...</td>\n",
              "      <td>...</td>\n",
              "    </tr>\n",
              "    <tr>\n",
              "      <th>309</th>\n",
              "      <td>7</td>\n",
              "      <td>40</td>\n",
              "      <td>39</td>\n",
              "      <td>58</td>\n",
              "      <td>82</td>\n",
              "      <td>61</td>\n",
              "      <td>99</td>\n",
              "      <td>89</td>\n",
              "      <td>26</td>\n",
              "      <td>57</td>\n",
              "      <td>73.99</td>\n",
              "      <td>12.91</td>\n",
              "      <td>41.92</td>\n",
              "      <td>17.33</td>\n",
              "      <td>-34.82</td>\n",
              "      <td>-36.19</td>\n",
              "      <td>-11.07</td>\n",
              "      <td>4.28</td>\n",
              "      <td>-0.19</td>\n",
              "      <td>-18.72</td>\n",
              "      <td>-2.61</td>\n",
              "      <td>-8.38</td>\n",
              "      <td>-20.56</td>\n",
              "      <td>-1.51</td>\n",
              "      <td>-6.68</td>\n",
              "      <td>-21.16</td>\n",
              "      <td>-3.42</td>\n",
              "      <td>-6.61</td>\n",
              "    </tr>\n",
              "    <tr>\n",
              "      <th>310</th>\n",
              "      <td>336</td>\n",
              "      <td>42</td>\n",
              "      <td>36</td>\n",
              "      <td>59</td>\n",
              "      <td>83</td>\n",
              "      <td>61</td>\n",
              "      <td>103</td>\n",
              "      <td>63</td>\n",
              "      <td>36</td>\n",
              "      <td>62</td>\n",
              "      <td>71.51</td>\n",
              "      <td>15.83</td>\n",
              "      <td>39.64</td>\n",
              "      <td>10.29</td>\n",
              "      <td>-35.53</td>\n",
              "      <td>-42.50</td>\n",
              "      <td>11.49</td>\n",
              "      <td>-7.01</td>\n",
              "      <td>-7.07</td>\n",
              "      <td>-19.28</td>\n",
              "      <td>-0.59</td>\n",
              "      <td>-1.60</td>\n",
              "      <td>-20.14</td>\n",
              "      <td>-0.36</td>\n",
              "      <td>-3.00</td>\n",
              "      <td>-15.86</td>\n",
              "      <td>-0.53</td>\n",
              "      <td>-2.80</td>\n",
              "    </tr>\n",
              "    <tr>\n",
              "      <th>311</th>\n",
              "      <td>345</td>\n",
              "      <td>32</td>\n",
              "      <td>32</td>\n",
              "      <td>53</td>\n",
              "      <td>84</td>\n",
              "      <td>77</td>\n",
              "      <td>116</td>\n",
              "      <td>61</td>\n",
              "      <td>35</td>\n",
              "      <td>70</td>\n",
              "      <td>82.01</td>\n",
              "      <td>19.24</td>\n",
              "      <td>44.45</td>\n",
              "      <td>11.09</td>\n",
              "      <td>-51.88</td>\n",
              "      <td>-56.35</td>\n",
              "      <td>13.48</td>\n",
              "      <td>-5.89</td>\n",
              "      <td>-15.05</td>\n",
              "      <td>-18.24</td>\n",
              "      <td>-0.89</td>\n",
              "      <td>-3.62</td>\n",
              "      <td>-19.14</td>\n",
              "      <td>-0.57</td>\n",
              "      <td>-3.16</td>\n",
              "      <td>-16.01</td>\n",
              "      <td>-1.36</td>\n",
              "      <td>-3.61</td>\n",
              "    </tr>\n",
              "    <tr>\n",
              "      <th>312</th>\n",
              "      <td>380</td>\n",
              "      <td>50</td>\n",
              "      <td>30</td>\n",
              "      <td>54</td>\n",
              "      <td>88</td>\n",
              "      <td>51</td>\n",
              "      <td>93</td>\n",
              "      <td>61</td>\n",
              "      <td>22</td>\n",
              "      <td>50</td>\n",
              "      <td>61.86</td>\n",
              "      <td>21.41</td>\n",
              "      <td>41.09</td>\n",
              "      <td>11.39</td>\n",
              "      <td>-25.61</td>\n",
              "      <td>-33.16</td>\n",
              "      <td>14.53</td>\n",
              "      <td>8.94</td>\n",
              "      <td>6.39</td>\n",
              "      <td>-17.50</td>\n",
              "      <td>-0.81</td>\n",
              "      <td>-2.66</td>\n",
              "      <td>-21.96</td>\n",
              "      <td>-0.76</td>\n",
              "      <td>-4.03</td>\n",
              "      <td>-19.09</td>\n",
              "      <td>-3.08</td>\n",
              "      <td>-5.35</td>\n",
              "    </tr>\n",
              "    <tr>\n",
              "      <th>313</th>\n",
              "      <td>1</td>\n",
              "      <td>84</td>\n",
              "      <td>30</td>\n",
              "      <td>57</td>\n",
              "      <td>112</td>\n",
              "      <td>51</td>\n",
              "      <td>98</td>\n",
              "      <td>92</td>\n",
              "      <td>26</td>\n",
              "      <td>62</td>\n",
              "      <td>30.58</td>\n",
              "      <td>20.42</td>\n",
              "      <td>39.83</td>\n",
              "      <td>-16.74</td>\n",
              "      <td>-24.92</td>\n",
              "      <td>-36.33</td>\n",
              "      <td>-15.67</td>\n",
              "      <td>8.16</td>\n",
              "      <td>-2.26</td>\n",
              "      <td>-16.27</td>\n",
              "      <td>-1.95</td>\n",
              "      <td>-6.25</td>\n",
              "      <td>-18.79</td>\n",
              "      <td>-1.99</td>\n",
              "      <td>-6.18</td>\n",
              "      <td>-23.41</td>\n",
              "      <td>-8.87</td>\n",
              "      <td>-10.83</td>\n",
              "    </tr>\n",
              "  </tbody>\n",
              "</table>\n",
              "<p>314 rows × 28 columns</p>\n",
              "</div>"
            ],
            "text/plain": [
              "      id  b1  b2  ...  pred_minus_obs_S_b7  pred_minus_obs_S_b8  pred_minus_obs_S_b9\n",
              "0    356  79  28  ...               -15.79                -1.21                -3.39\n",
              "1    202  46  27  ...               -22.19                -4.45                -7.32\n",
              "2    183  56  26  ...               -14.51                -2.68                -5.15\n",
              "3    306  56  58  ...               -16.77                -1.35                -3.65\n",
              "4    511  70  28  ...               -23.06                -1.53                -4.15\n",
              "..   ...  ..  ..  ...                  ...                  ...                  ...\n",
              "309    7  40  39  ...               -21.16                -3.42                -6.61\n",
              "310  336  42  36  ...               -15.86                -0.53                -2.80\n",
              "311  345  32  32  ...               -16.01                -1.36                -3.61\n",
              "312  380  50  30  ...               -19.09                -3.08                -5.35\n",
              "313    1  84  30  ...               -23.41                -8.87               -10.83\n",
              "\n",
              "[314 rows x 28 columns]"
            ]
          },
          "metadata": {
            "tags": []
          },
          "execution_count": 3
        }
      ]
    },
    {
      "cell_type": "markdown",
      "metadata": {
        "id": "SauMb3a4Lase"
      },
      "source": [
        "O conjunto **`dados_validacao.csv`** será utilizado para realizar as predições das classes a partir do modelo preciamente treinado."
      ]
    },
    {
      "cell_type": "code",
      "metadata": {
        "colab": {
          "base_uri": "https://localhost:8080/"
        },
        "id": "_KpdWY90CvKE",
        "outputId": "ea970df3-0c75-46b6-cf5f-a7f33ba3ecb5"
      },
      "source": [
        "# Importação dos dados de verificação\r\n",
        "\r\n",
        "ground_truth = pd.read_csv(\"https://raw.githubusercontent.com/JalesBussinguer/Remote_Sensing_Studies/master/data/worcap_2020/test_h.csv\")\r\n",
        "\r\n",
        "gt = ground_truth['label'].values\r\n",
        "gt"
      ],
      "execution_count": 4,
      "outputs": [
        {
          "output_type": "execute_result",
          "data": {
            "text/plain": [
              "array(['h ', 's ', 's ', 'o ', 'h ', 'd ', 'h ', 's ', 'h ', 'o ', 'd ',\n",
              "       's ', 's ', 'd ', 'd ', 'o ', 's ', 'h ', 'o ', 's ', 'o ', 'd ',\n",
              "       's ', 's ', 's ', 'd ', 'o ', 's ', 'd ', 's ', 'd ', 's ', 'd ',\n",
              "       'o ', 'h ', 'h ', 's ', 'd ', 'd ', 'o ', 'h ', 's ', 'd ', 's ',\n",
              "       'h ', 'o ', 's ', 'o ', 'o ', 'd ', 's ', 'd ', 'h ', 'h ', 'h ',\n",
              "       's ', 'd ', 'd ', 's ', 'd ', 's ', 'h ', 's ', 's ', 'o ', 's ',\n",
              "       'd ', 'h ', 's ', 's ', 'o ', 'h ', 'd ', 'd ', 'd ', 'h ', 'd ',\n",
              "       'h ', 's ', 'h ', 'o ', 's ', 's ', 'h ', 'o ', 's ', 'd ', 'd ',\n",
              "       'd ', 's ', 'h ', 'd ', 's ', 's ', 's ', 'h ', 'd ', 'd ', 'o ',\n",
              "       'h ', 'd ', 'd ', 'h ', 's ', 'h ', 's ', 's ', 's ', 's ', 'd ',\n",
              "       's ', 'o ', 'o ', 's ', 'd ', 'd ', 'o ', 's ', 'd ', 'h ', 'd ',\n",
              "       's ', 's ', 's ', 'd ', 'o ', 'h ', 'h ', 's ', 's ', 'd ', 'h ',\n",
              "       's ', 's ', 'd ', 'h ', 'h ', 'd ', 's ', 's ', 'd ', 's ', 'd ',\n",
              "       'd ', 's ', 'o ', 'd ', 's ', 'd ', 'd ', 's ', 'o ', 's ', 's ',\n",
              "       'd ', 'd ', 's ', 'd ', 'h ', 'h ', 'd ', 's ', 's ', 'o ', 's ',\n",
              "       's ', 'o ', 'h ', 's ', 'o ', 'd ', 'd ', 'o ', 's ', 'h ', 'd ',\n",
              "       'd ', 'h ', 's ', 's ', 'h ', 'h ', 'o ', 's ', 'd ', 'o ', 'd ',\n",
              "       's ', 's ', 'h ', 's ', 's ', 'o ', 's ', 'o ', 'h ', 'd ', 'h ',\n",
              "       'd ', 's ', 'o ', 'd ', 's ', 'd ', 's ', 'h ', 'd ', 's ', 'o ',\n",
              "       's ', 'd ', 'd ', 'd ', 'o ', 'd ', 'd ', 'd ', 's ', 'd ', 's ',\n",
              "       'd ', 'o ', 'h ', 'd ', 'o ', 's ', 's ', 'd ', 's ', 's ', 's ',\n",
              "       'h ', 'o ', 'd ', 's ', 's ', 's ', 'd ', 's ', 'd ', 's ', 'd ',\n",
              "       'd ', 'o ', 'd ', 's ', 'o ', 'd ', 'o ', 'o ', 'd ', 'd ', 'o ',\n",
              "       'o ', 'h ', 's ', 'h ', 'd ', 'o ', 's ', 'h ', 'h ', 's ', 's ',\n",
              "       'd ', 's ', 'o ', 'd ', 'd ', 's ', 'd ', 's ', 'h ', 's ', 'o ',\n",
              "       'o ', 'o ', 's ', 'o ', 'o ', 's ', 's ', 'h ', 'h ', 's ', 'd ',\n",
              "       's ', 'd ', 'd ', 'd ', 'd ', 'o ', 's ', 'h ', 'h ', 'd ', 'o ',\n",
              "       's ', 's ', 's ', 'd ', 'd ', 'd ', 'd ', 'd ', 's ', 's ', 'd ',\n",
              "       's ', 'd ', 'o ', 'o ', 's ', 'h '], dtype=object)"
            ]
          },
          "metadata": {
            "tags": []
          },
          "execution_count": 4
        }
      ]
    },
    {
      "cell_type": "markdown",
      "metadata": {
        "id": "lm2ebJ5OHSWa"
      },
      "source": [
        "O conjunto **`test_h.csv`** será utilizado para avaliar a performance do modelo."
      ]
    },
    {
      "cell_type": "markdown",
      "metadata": {
        "id": "3EC7mGj0DcFR"
      },
      "source": [
        "## Dicionário de variáveis:\r\n",
        "\r\n",
        "* `id`: Identificação única da linha, alusiva a um pixel único das imagens;\r\n",
        "* `b1`: Banda do verde corresponde ao mês de setembro de 2010;\r\n",
        "* `b2`: Banda do vermelho corresponde ao mês de setembro de 2010;\r\n",
        "* `b3`: Banda do infravermelho próximo corresponde ao mês de setembro de 2010;\r\n",
        "* `b4`: Banda do verde corresponde ao mês de Março de 2011;\r\n",
        "* `b5`: Banda do vermelho corresponde ao mês de Março de 2011;\r\n",
        "* `b6`: Banda do infravermelho próximo corresponde ao mês de Março de 2011;\r\n",
        "* `b7`: Banda do verde corresponde ao mês de Maio de 2011;\r\n",
        "* `b8`: Banda do vermelho corresponde ao mês de Maio de 2011;\r\n",
        "* `b9`: Banda do infravermelho próximo corresponde ao mês de Maio de 2011;\r\n",
        "* `pred_minus_obs_S_b1` até `pred_minus_obs_S_b9`: Valores espectrais previstos (Com base na interpolação espacial) subtraídos dos valores espectrais reais para a classe \"s\";\r\n",
        "* `pred_minus_obs_H_b1` até `pred_minus_obs_H_b9`: Valores espectrais previstos (Com base na interpolação espacial) subtraídos dos valores espectrais reais para a classe \"h\".\r\n",
        "\r\n",
        "## Rótulos:\r\n",
        "\r\n",
        "* `S` = *Sugi* (Floresta composta predominantemente pela espécie [*Cryptomeria japonica*](https://pt.wikipedia.org/wiki/Cryptomeria_japonica))\r\n",
        "* `H` = *Hinoki* (Floresta composta predominantemente pela espécie [*Chamaecyparis obtusa*](https://en.wikipedia.org/wiki/Chamaecyparis_obtusa))\r\n",
        "* `D` = *Mixed Deciduous* (Formação florestal composta por diversas espécies deciduais ou caducifólias);\r\n",
        "* `O` = *Other* (Feição não-florestal)"
      ]
    },
    {
      "cell_type": "markdown",
      "metadata": {
        "id": "ZvX6DoSuV3cF"
      },
      "source": [
        "Por se tratar de um problema de classificação de múltiplas classes, optou-se pela implementação de um modelo *Random Forest Classification*, pela sua facilidade de implementação."
      ]
    },
    {
      "cell_type": "markdown",
      "metadata": {
        "id": "bHjxwB0BYkYm"
      },
      "source": [
        "# Análise Exploratória"
      ]
    },
    {
      "cell_type": "markdown",
      "metadata": {
        "id": "6-axbCrv1kYi"
      },
      "source": [
        "Nesta primeira fase, é interessante verificar algumas características do dataset, para certificar que tudo está ok para a implementação do modelo de aprendizado de máquina."
      ]
    },
    {
      "cell_type": "markdown",
      "metadata": {
        "id": "4riqtJDeYs9b"
      },
      "source": [
        "## 1. Conferindo se existem dados faltando"
      ]
    },
    {
      "cell_type": "code",
      "metadata": {
        "id": "nHQHAWdIYxyx",
        "colab": {
          "base_uri": "https://localhost:8080/"
        },
        "outputId": "86d5fd2b-598d-4d8d-f051-f260279edfc9"
      },
      "source": [
        "# Expressão que conta os dados que faltam pelo tamanho do dataset, retornando a porcentagem faltante de dados\r\n",
        "\r\n",
        "dados.isnull().sum()/dados.shape[0]"
      ],
      "execution_count": 5,
      "outputs": [
        {
          "output_type": "execute_result",
          "data": {
            "text/plain": [
              "id                     0.0\n",
              "b1                     0.0\n",
              "b2                     0.0\n",
              "b3                     0.0\n",
              "b4                     0.0\n",
              "b5                     0.0\n",
              "b6                     0.0\n",
              "b7                     0.0\n",
              "b8                     0.0\n",
              "b9                     0.0\n",
              "pred_minus_obs_H_b1    0.0\n",
              "pred_minus_obs_H_b2    0.0\n",
              "pred_minus_obs_H_b3    0.0\n",
              "pred_minus_obs_H_b4    0.0\n",
              "pred_minus_obs_H_b5    0.0\n",
              "pred_minus_obs_H_b6    0.0\n",
              "pred_minus_obs_H_b7    0.0\n",
              "pred_minus_obs_H_b8    0.0\n",
              "pred_minus_obs_H_b9    0.0\n",
              "pred_minus_obs_S_b1    0.0\n",
              "pred_minus_obs_S_b2    0.0\n",
              "pred_minus_obs_S_b3    0.0\n",
              "pred_minus_obs_S_b4    0.0\n",
              "pred_minus_obs_S_b5    0.0\n",
              "pred_minus_obs_S_b6    0.0\n",
              "pred_minus_obs_S_b7    0.0\n",
              "pred_minus_obs_S_b8    0.0\n",
              "pred_minus_obs_S_b9    0.0\n",
              "label                  0.0\n",
              "dtype: float64"
            ]
          },
          "metadata": {
            "tags": []
          },
          "execution_count": 5
        }
      ]
    },
    {
      "cell_type": "markdown",
      "metadata": {
        "id": "ZRsPDici2Srm"
      },
      "source": [
        "No conjunto de dados de treino, não há dados faltantes. Portanto, podemos prosseguir na análise."
      ]
    },
    {
      "cell_type": "code",
      "metadata": {
        "id": "Ot-EeLShaceJ",
        "colab": {
          "base_uri": "https://localhost:8080/"
        },
        "outputId": "fee36c58-24d3-4567-eb31-773e3607f680"
      },
      "source": [
        "dados_validacao.isnull().sum()/dados_validacao.shape[0]"
      ],
      "execution_count": 6,
      "outputs": [
        {
          "output_type": "execute_result",
          "data": {
            "text/plain": [
              "id                     0.0\n",
              "b1                     0.0\n",
              "b2                     0.0\n",
              "b3                     0.0\n",
              "b4                     0.0\n",
              "b5                     0.0\n",
              "b6                     0.0\n",
              "b7                     0.0\n",
              "b8                     0.0\n",
              "b9                     0.0\n",
              "pred_minus_obs_H_b1    0.0\n",
              "pred_minus_obs_H_b2    0.0\n",
              "pred_minus_obs_H_b3    0.0\n",
              "pred_minus_obs_H_b4    0.0\n",
              "pred_minus_obs_H_b5    0.0\n",
              "pred_minus_obs_H_b6    0.0\n",
              "pred_minus_obs_H_b7    0.0\n",
              "pred_minus_obs_H_b8    0.0\n",
              "pred_minus_obs_H_b9    0.0\n",
              "pred_minus_obs_S_b1    0.0\n",
              "pred_minus_obs_S_b2    0.0\n",
              "pred_minus_obs_S_b3    0.0\n",
              "pred_minus_obs_S_b4    0.0\n",
              "pred_minus_obs_S_b5    0.0\n",
              "pred_minus_obs_S_b6    0.0\n",
              "pred_minus_obs_S_b7    0.0\n",
              "pred_minus_obs_S_b8    0.0\n",
              "pred_minus_obs_S_b9    0.0\n",
              "dtype: float64"
            ]
          },
          "metadata": {
            "tags": []
          },
          "execution_count": 6
        }
      ]
    },
    {
      "cell_type": "markdown",
      "metadata": {
        "id": "-OEf7jI4yNl-"
      },
      "source": [
        "No conjunto de dados de teste também não existem dados faltantes. Portanto, prosseguimos para uma análise dos tipos de dados que temos."
      ]
    },
    {
      "cell_type": "code",
      "metadata": {
        "id": "bLRkSvdB2zAS",
        "colab": {
          "base_uri": "https://localhost:8080/"
        },
        "outputId": "17485416-fd8f-47aa-a187-8902c9db5b4e"
      },
      "source": [
        "# Verificação dos tipos de dados no conjunto de dados de treino\r\n",
        "\r\n",
        "dados.dtypes"
      ],
      "execution_count": 7,
      "outputs": [
        {
          "output_type": "execute_result",
          "data": {
            "text/plain": [
              "id                       int64\n",
              "b1                       int64\n",
              "b2                       int64\n",
              "b3                       int64\n",
              "b4                       int64\n",
              "b5                       int64\n",
              "b6                       int64\n",
              "b7                       int64\n",
              "b8                       int64\n",
              "b9                       int64\n",
              "pred_minus_obs_H_b1    float64\n",
              "pred_minus_obs_H_b2    float64\n",
              "pred_minus_obs_H_b3    float64\n",
              "pred_minus_obs_H_b4    float64\n",
              "pred_minus_obs_H_b5    float64\n",
              "pred_minus_obs_H_b6    float64\n",
              "pred_minus_obs_H_b7    float64\n",
              "pred_minus_obs_H_b8    float64\n",
              "pred_minus_obs_H_b9    float64\n",
              "pred_minus_obs_S_b1    float64\n",
              "pred_minus_obs_S_b2    float64\n",
              "pred_minus_obs_S_b3    float64\n",
              "pred_minus_obs_S_b4    float64\n",
              "pred_minus_obs_S_b5    float64\n",
              "pred_minus_obs_S_b6    float64\n",
              "pred_minus_obs_S_b7    float64\n",
              "pred_minus_obs_S_b8    float64\n",
              "pred_minus_obs_S_b9    float64\n",
              "label                   object\n",
              "dtype: object"
            ]
          },
          "metadata": {
            "tags": []
          },
          "execution_count": 7
        }
      ]
    },
    {
      "cell_type": "markdown",
      "metadata": {
        "id": "A8j2rhZf2_FA"
      },
      "source": [
        "Observa-se que no conjunto de dados de treino, existem três tipos de dados distintos:\r\n",
        "* Inteiros (int64): são os dados que representam os números digitais expressos nos pixels das imagens, e são diretamente relacionados à resposta espectral dos alvos da cena. Na coluna `id`, representam a identificação do pixel.\r\n",
        "* Flutuantes (float64): são dados que representam o resultado de uma estatística que mede a diferença entre uma resposta espectral modelada e a resposta espectral observada;\r\n",
        "* Texto (object): são os dados de rótulos dos pixels, representando a verdade terrestre das cenas."
      ]
    },
    {
      "cell_type": "code",
      "metadata": {
        "id": "YDmA7bZj6R11",
        "colab": {
          "base_uri": "https://localhost:8080/"
        },
        "outputId": "f6a52cd1-dc12-4599-8e7d-eb27b8027e12"
      },
      "source": [
        "# Verificação dos tipos de dados no conjunto de dados de treino\r\n",
        "\r\n",
        "dados_validacao.dtypes"
      ],
      "execution_count": 8,
      "outputs": [
        {
          "output_type": "execute_result",
          "data": {
            "text/plain": [
              "id                       int64\n",
              "b1                       int64\n",
              "b2                       int64\n",
              "b3                       int64\n",
              "b4                       int64\n",
              "b5                       int64\n",
              "b6                       int64\n",
              "b7                       int64\n",
              "b8                       int64\n",
              "b9                       int64\n",
              "pred_minus_obs_H_b1    float64\n",
              "pred_minus_obs_H_b2    float64\n",
              "pred_minus_obs_H_b3    float64\n",
              "pred_minus_obs_H_b4    float64\n",
              "pred_minus_obs_H_b5    float64\n",
              "pred_minus_obs_H_b6    float64\n",
              "pred_minus_obs_H_b7    float64\n",
              "pred_minus_obs_H_b8    float64\n",
              "pred_minus_obs_H_b9    float64\n",
              "pred_minus_obs_S_b1    float64\n",
              "pred_minus_obs_S_b2    float64\n",
              "pred_minus_obs_S_b3    float64\n",
              "pred_minus_obs_S_b4    float64\n",
              "pred_minus_obs_S_b5    float64\n",
              "pred_minus_obs_S_b6    float64\n",
              "pred_minus_obs_S_b7    float64\n",
              "pred_minus_obs_S_b8    float64\n",
              "pred_minus_obs_S_b9    float64\n",
              "dtype: object"
            ]
          },
          "metadata": {
            "tags": []
          },
          "execution_count": 8
        }
      ]
    },
    {
      "cell_type": "markdown",
      "metadata": {
        "id": "wns5tFhR6ckM"
      },
      "source": [
        "O conjunto de dados de teste apresenta a mesma estrutura de tipos de dados que o conjunto de treino. Uma vez que os conjuntos de dados são compatíveis estruturalmente, podemos seguir para a verificação de valores únicos."
      ]
    },
    {
      "cell_type": "code",
      "metadata": {
        "id": "JjAO41FM7AAX",
        "colab": {
          "base_uri": "https://localhost:8080/"
        },
        "outputId": "7ac13d6f-89b8-48b0-ebd8-244e30de812e"
      },
      "source": [
        "# Valores únicos (dados de treino)\r\n",
        "\r\n",
        "dados.nunique()"
      ],
      "execution_count": 9,
      "outputs": [
        {
          "output_type": "execute_result",
          "data": {
            "text/plain": [
              "id                     209\n",
              "b1                      48\n",
              "b2                      52\n",
              "b3                      49\n",
              "b4                      52\n",
              "b5                      42\n",
              "b6                      47\n",
              "b7                      67\n",
              "b8                      28\n",
              "b9                      36\n",
              "pred_minus_obs_H_b1    206\n",
              "pred_minus_obs_H_b2    199\n",
              "pred_minus_obs_H_b3    200\n",
              "pred_minus_obs_H_b4    202\n",
              "pred_minus_obs_H_b5    200\n",
              "pred_minus_obs_H_b6    206\n",
              "pred_minus_obs_H_b7    204\n",
              "pred_minus_obs_H_b8    185\n",
              "pred_minus_obs_H_b9    197\n",
              "pred_minus_obs_S_b1    190\n",
              "pred_minus_obs_S_b2    155\n",
              "pred_minus_obs_S_b3    179\n",
              "pred_minus_obs_S_b4    195\n",
              "pred_minus_obs_S_b5    108\n",
              "pred_minus_obs_S_b6    163\n",
              "pred_minus_obs_S_b7    194\n",
              "pred_minus_obs_S_b8    154\n",
              "pred_minus_obs_S_b9    170\n",
              "label                    4\n",
              "dtype: int64"
            ]
          },
          "metadata": {
            "tags": []
          },
          "execution_count": 9
        }
      ]
    },
    {
      "cell_type": "code",
      "metadata": {
        "id": "yYW5G8ZU7aWS",
        "colab": {
          "base_uri": "https://localhost:8080/"
        },
        "outputId": "1fab0a88-0399-457b-c33d-d1c8484a6e59"
      },
      "source": [
        "# Valores únicos (dados de teste)\r\n",
        "\r\n",
        "dados_validacao.nunique()"
      ],
      "execution_count": 10,
      "outputs": [
        {
          "output_type": "execute_result",
          "data": {
            "text/plain": [
              "id                     314\n",
              "b1                      58\n",
              "b2                      55\n",
              "b3                      54\n",
              "b4                      59\n",
              "b5                      49\n",
              "b6                      44\n",
              "b7                      72\n",
              "b8                      39\n",
              "b9                      46\n",
              "pred_minus_obs_H_b1    300\n",
              "pred_minus_obs_H_b2    296\n",
              "pred_minus_obs_H_b3    301\n",
              "pred_minus_obs_H_b4    300\n",
              "pred_minus_obs_H_b5    291\n",
              "pred_minus_obs_H_b6    294\n",
              "pred_minus_obs_H_b7    304\n",
              "pred_minus_obs_H_b8    269\n",
              "pred_minus_obs_H_b9    284\n",
              "pred_minus_obs_S_b1    272\n",
              "pred_minus_obs_S_b2    227\n",
              "pred_minus_obs_S_b3    251\n",
              "pred_minus_obs_S_b4    282\n",
              "pred_minus_obs_S_b5    139\n",
              "pred_minus_obs_S_b6    227\n",
              "pred_minus_obs_S_b7    278\n",
              "pred_minus_obs_S_b8    213\n",
              "pred_minus_obs_S_b9    226\n",
              "dtype: int64"
            ]
          },
          "metadata": {
            "tags": []
          },
          "execution_count": 10
        }
      ]
    },
    {
      "cell_type": "markdown",
      "metadata": {
        "id": "0by5yogIWhqs"
      },
      "source": [
        "# Construção do modelo:"
      ]
    },
    {
      "cell_type": "markdown",
      "metadata": {
        "id": "kdHwP3RUWwHH"
      },
      "source": [
        "## 1.  Pré-processamento:"
      ]
    },
    {
      "cell_type": "code",
      "metadata": {
        "id": "Tg-8ODPrBoKP"
      },
      "source": [
        "# Remoção da coluna de identificação do conjunto de dados de treino\r\n",
        "\r\n",
        "dados = dados.drop(columns=\"id\")"
      ],
      "execution_count": 11,
      "outputs": []
    },
    {
      "cell_type": "code",
      "metadata": {
        "id": "SD1w4Y7gPhMS"
      },
      "source": [
        "# Separação dos atributos e dos rótulos\r\n",
        "\r\n",
        "X = dados.iloc[:,:-1].values # atributos (amostra de pixels)\r\n",
        "y = dados.iloc[:,-1].values # rótulos (verdade terreste)"
      ],
      "execution_count": 12,
      "outputs": []
    },
    {
      "cell_type": "code",
      "metadata": {
        "colab": {
          "base_uri": "https://localhost:8080/"
        },
        "id": "LPtfVnyeCVYD",
        "outputId": "2ffc02a3-d2a9-4ff9-ff86-9ae258bffab1"
      },
      "source": [
        "# Informações importantes\r\n",
        "\r\n",
        "print(\"Formato dos dados de treino:\", \"X =\", X.shape, \"e y =\", y.shape)\r\n",
        "print()\r\n",
        "print(\"Formato dos dados de validação:\", X_validacao.shape)\r\n",
        "print(\"Formato dos dados de verdade terrestre:\", gt.shape)\r\n",
        "print()\r\n",
        "print(\"Número de classes:\", len(set(dados['label'].values)))\r\n",
        "print(\"Número de features:\", X.shape[1])"
      ],
      "execution_count": 13,
      "outputs": [
        {
          "output_type": "stream",
          "text": [
            "Formato dos dados de treino: X = (209, 27) e y = (209,)\n",
            "\n",
            "Formato dos dados de validação: (314, 27)\n",
            "Formato dos dados de verdade terrestre: (314,)\n",
            "\n",
            "Número de classes: 4\n",
            "Número de features: 27\n"
          ],
          "name": "stdout"
        }
      ]
    },
    {
      "cell_type": "markdown",
      "metadata": {
        "id": "HdmZUtD7RmVY"
      },
      "source": [
        "Um indicativo de que tudo está ok é o fato do número de linhas ser igual para os conjuntos de dados de treino. O conjunto x possui 209 linhas (valores) e 27 colunas (features), enquanto o conjunto y possui 209 linhas (valores) e um única coluna com os rótulos.\r\n",
        "\r\n",
        "Para o conjunto de teste, o indicativo de que está tudo certo é a quantidade de colunas (features), que bate com a quantidade de features do conjunto de treino."
      ]
    },
    {
      "cell_type": "markdown",
      "metadata": {
        "id": "qLTDmjeo9l0Y"
      },
      "source": [
        "# 3. Criando os modelos"
      ]
    },
    {
      "cell_type": "markdown",
      "metadata": {
        "id": "NlHW4SRjOj4h"
      },
      "source": [
        "## *Random Forest Classifier (default)*"
      ]
    },
    {
      "cell_type": "code",
      "metadata": {
        "id": "YRZRT45KS682"
      },
      "source": [
        "rf_default = ensemble.RandomForestClassifier()"
      ],
      "execution_count": 48,
      "outputs": []
    },
    {
      "cell_type": "code",
      "metadata": {
        "colab": {
          "base_uri": "https://localhost:8080/"
        },
        "id": "WC6UDgj5TBnt",
        "outputId": "13ebdd96-bca6-479b-902f-af377a04b869"
      },
      "source": [
        "rf_default.fit(X, y)"
      ],
      "execution_count": 49,
      "outputs": [
        {
          "output_type": "execute_result",
          "data": {
            "text/plain": [
              "RandomForestClassifier(bootstrap=True, ccp_alpha=0.0, class_weight=None,\n",
              "                       criterion='gini', max_depth=None, max_features='auto',\n",
              "                       max_leaf_nodes=None, max_samples=None,\n",
              "                       min_impurity_decrease=0.0, min_impurity_split=None,\n",
              "                       min_samples_leaf=1, min_samples_split=2,\n",
              "                       min_weight_fraction_leaf=0.0, n_estimators=100,\n",
              "                       n_jobs=None, oob_score=False, random_state=None,\n",
              "                       verbose=0, warm_start=False)"
            ]
          },
          "metadata": {
            "tags": []
          },
          "execution_count": 49
        }
      ]
    },
    {
      "cell_type": "code",
      "metadata": {
        "colab": {
          "base_uri": "https://localhost:8080/"
        },
        "id": "EJerLQXmfi7F",
        "outputId": "fc761294-891b-4239-c2c6-d5efb3444063"
      },
      "source": [
        "conf_mat = confusion_matrix(gt, y_pred_default)\r\n",
        "conf_mat"
      ],
      "execution_count": 52,
      "outputs": [
        {
          "output_type": "execute_result",
          "data": {
            "text/plain": [
              "array([[ 90,   0,   1,   6],\n",
              "       [  0,  48,   0,   5],\n",
              "       [ 11,   0,  42,   0],\n",
              "       [  3,   7,   0, 101]])"
            ]
          },
          "metadata": {
            "tags": []
          },
          "execution_count": 52
        }
      ]
    },
    {
      "cell_type": "code",
      "metadata": {
        "colab": {
          "base_uri": "https://localhost:8080/"
        },
        "id": "16xAPAsIeVhx",
        "outputId": "8b757555-af26-4bc2-ca2c-e5678e4a105f"
      },
      "source": [
        "y_pred_default = rf_default.predict(X_validacao)\r\n",
        "print(\"A acurácia do modelo default é:\", round(precision_score(gt, y_pred_default, average='micro'), 3) * 100, \"%\")"
      ],
      "execution_count": 51,
      "outputs": [
        {
          "output_type": "stream",
          "text": [
            "A acurácia do modelo default é: 89.5 %\n"
          ],
          "name": "stdout"
        }
      ]
    },
    {
      "cell_type": "markdown",
      "metadata": {
        "id": "ewCQ4GEwPIDt"
      },
      "source": [
        "## Busca randomizada de otimizações para os hiperparâmetros do modelo (*randomized search*)"
      ]
    },
    {
      "cell_type": "code",
      "metadata": {
        "colab": {
          "base_uri": "https://localhost:8080/"
        },
        "id": "bHCcXLr9PJHU",
        "outputId": "1cfc59b8-962f-41e0-f0e4-949860b16fb7"
      },
      "source": [
        "# Randomized Search\r\n",
        "\r\n",
        "# n_estimators (quantidade de árvores na floresta)\r\n",
        "n_estimators = [100, 250, 500, 750, 1000, 1500, 2500]\r\n",
        "# random state\r\n",
        "random_state = [37, 42]\r\n",
        "# Criterion\r\n",
        "criterion = ['gini', 'entropy']\r\n",
        "\r\n",
        "# Dicionário de parâmetros a serem otimizados\r\n",
        "rf_parametros = {'n_estimators': n_estimators,'criterion': criterion, 'random_state': random_state}\r\n",
        "\r\n",
        "# Busca aleatória\r\n",
        "RFtuning = GridSearchCV(rf_default, # modelo\r\n",
        "                              param_grid=rf_parametros, # parâmetros\r\n",
        "                              cv=KFold(n_splits=10), # validação cruzada\r\n",
        "                              scoring= 'accuracy', ## métrica de ajuste\r\n",
        "                              n_jobs=-1, verbose =1).fit(X, y)\r\n",
        "\r\n",
        "print(f'Melhor resultado: {RFtuning.best_score_} para {RFtuning.best_params_}')"
      ],
      "execution_count": 139,
      "outputs": [
        {
          "output_type": "stream",
          "text": [
            "Fitting 10 folds for each of 28 candidates, totalling 280 fits\n"
          ],
          "name": "stdout"
        },
        {
          "output_type": "stream",
          "text": [
            "[Parallel(n_jobs=-1)]: Using backend LokyBackend with 2 concurrent workers.\n",
            "[Parallel(n_jobs=-1)]: Done  46 tasks      | elapsed:   13.6s\n",
            "[Parallel(n_jobs=-1)]: Done 196 tasks      | elapsed:  3.4min\n",
            "[Parallel(n_jobs=-1)]: Done 280 out of 280 | elapsed:  6.5min finished\n"
          ],
          "name": "stderr"
        },
        {
          "output_type": "stream",
          "text": [
            "Melhor resultado: 0.8704761904761904 para {'criterion': 'entropy', 'n_estimators': 500, 'random_state': 37}\n"
          ],
          "name": "stdout"
        }
      ]
    },
    {
      "cell_type": "markdown",
      "metadata": {
        "id": "IoJck0CTHgeI"
      },
      "source": [
        "## Modelagem final"
      ]
    },
    {
      "cell_type": "code",
      "metadata": {
        "id": "nfUw6AYLS7K5"
      },
      "source": [
        "modelo_final = ensemble.RandomForestClassifier(n_estimators=750, criterion='entropy', random_state=37, n_jobs=-1)"
      ],
      "execution_count": 145,
      "outputs": []
    },
    {
      "cell_type": "code",
      "metadata": {
        "colab": {
          "base_uri": "https://localhost:8080/"
        },
        "id": "z5uaG57DTSEM",
        "outputId": "fb7ac2be-2303-4c89-f609-d7f7af20e6e3"
      },
      "source": [
        "modelo_final.fit(X,y)"
      ],
      "execution_count": 146,
      "outputs": [
        {
          "output_type": "execute_result",
          "data": {
            "text/plain": [
              "RandomForestClassifier(bootstrap=True, ccp_alpha=0.0, class_weight=None,\n",
              "                       criterion='entropy', max_depth=None, max_features='auto',\n",
              "                       max_leaf_nodes=None, max_samples=None,\n",
              "                       min_impurity_decrease=0.0, min_impurity_split=None,\n",
              "                       min_samples_leaf=1, min_samples_split=2,\n",
              "                       min_weight_fraction_leaf=0.0, n_estimators=750,\n",
              "                       n_jobs=-1, oob_score=False, random_state=37, verbose=0,\n",
              "                       warm_start=False)"
            ]
          },
          "metadata": {
            "tags": []
          },
          "execution_count": 146
        }
      ]
    },
    {
      "cell_type": "code",
      "metadata": {
        "id": "FUq80V68HiGO"
      },
      "source": [
        "y_verificacao = modelo_final.predict(X_validacao)"
      ],
      "execution_count": 147,
      "outputs": []
    },
    {
      "cell_type": "code",
      "metadata": {
        "id": "pHm7NxkgIaCt",
        "colab": {
          "base_uri": "https://localhost:8080/"
        },
        "outputId": "b668abf7-ed97-493a-b29e-d23ce1b9ba9d"
      },
      "source": [
        "conf_mat = confusion_matrix(gt, y_verificacao)\r\n",
        "conf_mat"
      ],
      "execution_count": 148,
      "outputs": [
        {
          "output_type": "execute_result",
          "data": {
            "text/plain": [
              "array([[ 92,   0,   1,   4],\n",
              "       [  0,  47,   0,   6],\n",
              "       [ 10,   0,  43,   0],\n",
              "       [  2,   5,   0, 104]])"
            ]
          },
          "metadata": {
            "tags": []
          },
          "execution_count": 148
        }
      ]
    },
    {
      "cell_type": "code",
      "metadata": {
        "colab": {
          "base_uri": "https://localhost:8080/"
        },
        "id": "FXoityMwD83Q",
        "outputId": "58f4bf75-98df-42d9-a35e-31cd0ef1cbb6"
      },
      "source": [
        "print(\"A precisão do modelo otimizado é:\", round(precision_score(gt, y_verificacao, average='micro'), 5) * 100, \"%\")"
      ],
      "execution_count": 149,
      "outputs": [
        {
          "output_type": "stream",
          "text": [
            "A precisão do modelo otimizado é: 91.083 %\n"
          ],
          "name": "stdout"
        }
      ]
    },
    {
      "cell_type": "code",
      "metadata": {
        "colab": {
          "base_uri": "https://localhost:8080/"
        },
        "id": "A0gqMgfKEBi8",
        "outputId": "d7e9232e-1bdf-4f35-827c-3c07a8c69a19"
      },
      "source": [
        "f1_score(gt, y_verificacao, average='micro')"
      ],
      "execution_count": 150,
      "outputs": [
        {
          "output_type": "execute_result",
          "data": {
            "text/plain": [
              "0.910828025477707"
            ]
          },
          "metadata": {
            "tags": []
          },
          "execution_count": 150
        }
      ]
    },
    {
      "cell_type": "code",
      "metadata": {
        "colab": {
          "base_uri": "https://localhost:8080/"
        },
        "id": "swzDYJFKEKxc",
        "outputId": "f13ccce0-1beb-4319-ad3d-62ebb423254b"
      },
      "source": [
        "recall_score(gt, y_verificacao, average='micro')"
      ],
      "execution_count": 151,
      "outputs": [
        {
          "output_type": "execute_result",
          "data": {
            "text/plain": [
              "0.910828025477707"
            ]
          },
          "metadata": {
            "tags": []
          },
          "execution_count": 151
        }
      ]
    }
  ]
}